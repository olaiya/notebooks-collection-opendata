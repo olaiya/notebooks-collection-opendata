{
 "cells": [
  {
   "cell_type": "markdown",
   "id": "63168bba",
   "metadata": {},
   "source": [
    "<CENTER><img src=\"images/logos.png\" style=\"width:50%\"></CENTER>"
   ]
  },
  {
   "cell_type": "markdown",
   "id": "4552bcdf",
   "metadata": {},
   "source": [
    "# $Z^0$ Two: Over to you! "
   ]
  },
  {
   "cell_type": "markdown",
   "id": "b39ab39b",
   "metadata": {},
   "source": [
    "We have a theory that a more complicated interaction occurs between a quark, $q$, and an antiquark, $\\bar{q}$. We think that they come towards each other, and quickly exchange a particle (the vertical line below). When this happens, the quark and antiquarks turn into $Z^0$s, which then decay themselves, exactly as in the last analysis. Notice that the part of the Feynman diagram within the box is exactly the same as the diagram in Notebook 4!\n",
    "\n",
    "<CENTER><img src=\"images/2z4l_boxed.png\" style=\"width:30%\"></CENTER>\n",
    "\n",
    "Does this decay really happen? Let's find out, using some new data. We are going to apply some cuts then see if the plots that we produce still make sense. We are not trying to just confirm what the mass of the $Z^0$ boson is, as we did that above - we just want to see if this kind of decay can happen, and the best way to do that is see if the plots look like what we expect them to look like!\n",
    "\n",
    "<div class=\"alert alert-warning\">We can't reconstruct the 4-momenta of the quarks, or the exchanged particle - why?</div>\n",
    "\n",
    "\n",
    "<br>\n",
    "<details>\n",
    "    <summary>Answer: </summary>\n",
    "        Because they decay so quickly, they're gone before the reach the detector, where we can 'see' them. Only the 'final state' leptons live long enough for us to detect them, but luckily we can use conservation of four-momentum to infer the invariant masses of the $Z^0$s from the invariant masses of these pairs of leptons.\n",
    "</details>\n",
    "\n",
    "Therefore, we just look at the final state. We are going to work out the masses of both $Z^0$s in these events."
   ]
  },
  {
   "cell_type": "markdown",
   "id": "1b2ca887",
   "metadata": {},
   "source": [
    "**Contents:** <a name=\"c\"></a>\n",
    "- [To four leptons](#1.)\n",
    "- [Real experiments](#2.)\n",
    "- [Extension exercises/'Do your own project' ideas](#3.)\n",
    "\n",
    "---"
   ]
  },
  {
   "cell_type": "markdown",
   "id": "af3a6931",
   "metadata": {},
   "source": [
    "## To four leptons <a name=\"1.\"></a>"
   ]
  },
  {
   "cell_type": "markdown",
   "id": "39ffc974",
   "metadata": {},
   "source": [
    "We have a lot more particles to keep track of this time, so the event will be less clean.\n",
    "\n",
    "<div class=\"alert alert-info\">Tips:\n",
    "\n",
    "* You will need to add some cuts: what will these cuts be?\n",
    "* How do you pick which lepton came from which $Z^0$. Can you tell at all, or do you try each possible way?\n",
    "* How many ways are there of reconstructing wrongly? How can you tell if you've reconstructed correctly - what else can you cut on?\n",
    "\n",
    "<br>\n",
    "Remember, there are two sub-decays here. You could try checking if one of them is a good decay (a real $Z^0$ decaying to two leptons), and then only plotting the mass of the other one if it is.\n",
    "</div>"
   ]
  },
  {
   "cell_type": "markdown",
   "id": "84eb5891",
   "metadata": {},
   "source": [
    "### First load your tree and set up your histogram canvas"
   ]
  },
  {
   "cell_type": "markdown",
   "id": "38af4699",
   "metadata": {},
   "source": [
    "Import the usual libraries:"
   ]
  },
  {
   "cell_type": "code",
   "execution_count": 1,
   "id": "f6a3f13e",
   "metadata": {},
   "outputs": [],
   "source": [
    "import uproot\n",
    "import numpy as np\n",
    "from TLorentzVector import TLorentzVector\n",
    "import hist\n",
    "from hist import Hist"
   ]
  },
  {
   "cell_type": "markdown",
   "id": "0d493104",
   "metadata": {},
   "source": [
    "Open ROOT file, extract the TTree and set up your histogram\n",
    "\n",
    "- Name: `https://atlas-opendata.web.cern.ch/atlas-opendata/samples/2020/4lep/MC/mc_363490.llll.4lep.root`\n",
    "- TTree name: `mini`\n",
    "- Histogram:\n",
    "    - name: `\"hist_Zl4\"`\n",
    "    - nBins: 30\n",
    "    - min: 40\n",
    "    - max: 140\n",
    "    - label: \"Mass (GeV)\""
   ]
  },
  {
   "cell_type": "code",
   "execution_count": null,
   "id": "bd45c0a6",
   "metadata": {},
   "outputs": [],
   "source": [
    "# Exactly the same as before, using the template in the cell below\n",
    "\n",
    "f_4l = uproot.open(\"https://atlas-opendata.web.cern.ch/atlas-opendata/samples/2020/4lep/MC/mc_363490.llll.4lep.root:mini\")\n",
    "f_4l.show()\n",
    "\n",
    "hist_Zl4 = Hist(hist.axis.Regular(30, 40, 140, name=\"Mass [GeV]\"))####"
   ]
  },
  {
   "cell_type": "markdown",
   "id": "fbc7b406",
   "metadata": {},
   "source": [
    "<details>\n",
    "    <summary>Answer: </summary>\n",
    "    \n",
    "    f_4l = uproot.open('https://atlas-opendata.web.cern.ch/atlas-opendata/samples/2020/4lep/MC/mc_363490.llll.4lep.root:mini')\n",
    "    \n",
    "    f_4l.show()\n",
    "    \n",
    "    hist_Zl4 = Hist(hist.axis.Regular(30,40,140, label = \"Mass (GeV)\"))\n",
    "</details>"
   ]
  },
  {
   "cell_type": "markdown",
   "id": "83851fd5",
   "metadata": {},
   "source": [
    "Extract the events from the branches we'll need later:\n",
    "- `\"lep_pt\"`\n",
    "- `\"lep_eta\"`\n",
    "- `\"lep_phi\"`\n",
    "- `\"lep_E\"`\n",
    "- `\"lep_charge\"`\n",
    "- `\"lep_type\"`\n",
    "- `\"lep_n\"`"
   ]
  },
  {
   "cell_type": "code",
   "execution_count": null,
   "id": "04c121ab",
   "metadata": {},
   "outputs": [],
   "source": [
    "sel_events = f_4l.arrays([\"lep_pt\", \"lep_eta\", \"lep_phi\", \"lep_E\",\"lep_charge\", \"lep_type\", \"lep_n\"])"
   ]
  },
  {
   "cell_type": "markdown",
   "id": "9e7477ec",
   "metadata": {},
   "source": [
    "<details>\n",
    "    <summary>Answer: </summary>\n",
    "    \n",
    "    sel_events = f_4l.arrays([\"lep_pt\", \"lep_eta\", \"lep_phi\", \"lep_E\",\"lep_charge\", \"lep_type\", \"lep_n\"])\n",
    "</details>"
   ]
  },
  {
   "cell_type": "markdown",
   "id": "e3673d64",
   "metadata": {},
   "source": [
    "### Next, perform your analysis"
   ]
  },
  {
   "cell_type": "markdown",
   "id": "0f325d50",
   "metadata": {},
   "source": [
    "Note: this exercise will take quite a while to run"
   ]
  },
  {
   "cell_type": "code",
   "execution_count": null,
   "id": "abd3bcf1",
   "metadata": {},
   "outputs": [],
   "source": [
    "# Declare four TLorentzVectors\n",
    "firstLepton  = ####\n",
    "secondLepton = ####\n",
    "thirdLepton = ####\n",
    "fourthLepton = ####\n",
    "\n",
    "sel_events = f_4l.arrays([\"lep_pt\", \"lep_eta\", \"lep_phi\", \"lep_E\",\"lep_charge\", \"lep_type\", \"lep_n\"])\n",
    "\n",
    "# Now, iterate through each event in the tree!\n",
    "for event in ####:\n",
    "    # Cut #1: At least 4 leptons in the event. lep_n  is the number of them.\n",
    "    lep_n = event[\"lep_n\"]\n",
    "    if #### >= 4:\n",
    "        \n",
    "        # Cut #2: First two leptons must have opposite charge.\n",
    "        lep_charge = event[\"lep_charge\"]\n",
    "        if (lep_charge[0] != ####):\n",
    "            \n",
    "            # Cut #3: First two leptons must have same flavour\n",
    "            lep_type = event[\"lep_type\"]\n",
    "            if ( lep_type[0] == ####):\n",
    "                \n",
    "                lep_pt = event[\"lep_pt\"]\n",
    "                lep_eta = event[\"lep_eta\"]\n",
    "                lep_phi = event[\"lep_phi\"]\n",
    "                lep_E = event[\"lep_E\"]\n",
    "                \n",
    "                firstLepton.SetPtEtaPhiE(lep_pt[0]/1000., lep_eta[0], lep_phi[0], lep_E[0]/1000.)\n",
    "                secondLepton.SetPtEtaPhiE(lep_pt[1]/1000., lep_eta[1], lep_phi[1], lep_E[1]/1000.)\n",
    "                \n",
    "                # Could we add a cut in here? \n",
    "\n",
    "                # Now we look at the second decay - note that we have assumed that the first two particles have the indices 0 and 1\n",
    "                # Cut #4: Second two leptons opposite charge\n",
    "                if (lep_charge[2] != ####):\n",
    "\n",
    "                    # Cut #5:\n",
    "                    if ( lep_type[2] == ####):\n",
    "                        # By now we should only have particles that look right remaining.\n",
    "                        \n",
    "                        # Let's set the components of a TLorentzVector for each lepton. Notice that the energy and momenta are given in MeV!\n",
    "                        thirdLepton.SetPtEtaPhiE(lep_pt[2]/1000., lep_eta[2], lep_phi[2], lep_E[2]/1000.)\n",
    "                        fourthLepton.SetPtEtaPhiE(lep_pt[3]/1000., lep_eta[3], lep_phi[3], lep_E[3]/1000.)\n",
    "                        \n",
    "                        # Now, reconstruct the Z0 boson Lorentz vector! \n",
    "                        Z0_boson1 = #### + ####\n",
    "                        Z0_boson2 = #### + ####\n",
    "\n",
    "                        # And chuck this particular value into the histogram.\n",
    "                        hist_Zl4.fill(Z0_boson1.M())\n",
    "                        hist_Zl4.fill(Z0_boson2.M())"
   ]
  },
  {
   "cell_type": "markdown",
   "id": "a7bdb003",
   "metadata": {},
   "source": [
    "<div class=\"alert alert-info\">Some hints to help you - Click the hints to reveal.</div>"
   ]
  },
  {
   "cell_type": "markdown",
   "id": "1427f0f1",
   "metadata": {},
   "source": [
    "<details>\n",
    "    <summary>a) Declare four TLorentzVectors. </summary>\n",
    "\n",
    "    firstLepton  = TLorentzVector()\n",
    "    secondLepton = TLorentzVector()\n",
    "    thirdLepton  = TLorentzVector()\n",
    "    fourthLepton = TLorentzVector()\n",
    "</details>"
   ]
  },
  {
   "cell_type": "markdown",
   "id": "d0bc9dc6",
   "metadata": {},
   "source": [
    "<details>\n",
    "    <summary> b) Now, iterate through each event in the tree </summary>\n",
    "    \n",
    "    for event in sel_events:\n",
    "    \n",
    "</details>"
   ]
  },
  {
   "cell_type": "markdown",
   "id": "fc2384e3",
   "metadata": {},
   "source": [
    "<details>\n",
    "    <summary>c) Cut #1: At least 4 leptons in the event. </summary>\n",
    "    \n",
    "    if lep_n >= 4:\n",
    "</details>"
   ]
  },
  {
   "cell_type": "markdown",
   "id": "efe0f2af",
   "metadata": {},
   "source": [
    "<details>\n",
    "    <summary>d) Cut #2: First two leptons must have opposite charge. </summary>\n",
    "    \n",
    "    if (lep_charge[0] != lep_charge[1]):\n",
    "</details>"
   ]
  },
  {
   "cell_type": "markdown",
   "id": "2db71b9c",
   "metadata": {},
   "source": [
    "<details>\n",
    "    <summary>e) Cut #3: First two leptons must have same flavour. </summary>\n",
    "    \n",
    "    if ( lep_type[0] == lep_type[1]):\n",
    "</details>"
   ]
  },
  {
   "cell_type": "markdown",
   "id": "74fa15c4",
   "metadata": {},
   "source": [
    "<details>\n",
    "    <summary>f) Cut #4 and Cut #5: Second two leptons opposite charge, same flavour. </summary>\n",
    "    \n",
    "    if (lep_charge[2] != lep_charge[3]):\n",
    "    if (lep_type[2] == lep_type[3]):\n",
    "</details>"
   ]
  },
  {
   "cell_type": "markdown",
   "id": "ca32718a",
   "metadata": {},
   "source": [
    "<details>\n",
    "    <summary>g) Now, reconstruct the Z0 boson Lorentz vectors. </summary>\n",
    "    \n",
    "    Z0_boson1 = firstLepton + secondLepton\n",
    "    Z0_boson2 = thirdLepton + fourthLepton\n",
    "</details>"
   ]
  },
  {
   "cell_type": "markdown",
   "id": "2805e984",
   "metadata": {},
   "source": [
    "<details>\n",
    "    <summary> --> If you're REALLY stuck... the full solution: </summary>\n",
    "\n",
    "    #Declare four TLorentzVectors\n",
    "    firstLepton  = TLorentzVector()\n",
    "    secondLepton = TLorentzVector()\n",
    "    thirdLepton = TLorentzVector()\n",
    "    fourthLepton = TLorentzVector()\n",
    "\n",
    "    sel_events = f_4l.arrays([\"lep_pt\", \"lep_eta\", \"lep_phi\", \"lep_E\",\"lep_charge\", \"lep_type\", \"lep_n\"])\n",
    "\n",
    "    #Now, iterate through each event in the tree!\n",
    "    for event in sel_events:\n",
    "        # Cut #1: At least 4 leptons in the event. lep_n  is the number of them.\n",
    "        lep_n = event[\"lep_n\"]\n",
    "        if lep_n >= 4:\n",
    "            \n",
    "            # Cut #2: First two leptons must have opposite charge.\n",
    "            lep_charge = event[\"lep_charge\"]\n",
    "            if (lep_charge[0] != lep_charge[1]):\n",
    "                \n",
    "                # Cut #3: First two leptons must have same flavour\n",
    "                lep_type = event[\"lep_type\"]\n",
    "                if ( lep_type[0] == lep_type[1]):\n",
    "                    \n",
    "                    lep_pt = event[\"lep_pt\"]\n",
    "                    lep_eta = event[\"lep_eta\"]\n",
    "                    lep_phi = event[\"lep_phi\"]\n",
    "                    lep_E = event[\"lep_E\"]\n",
    "                    \n",
    "                    firstLepton.SetPtEtaPhiE(lep_pt[0]/1000., lep_eta[0], lep_phi[0], lep_E[0]/1000.)\n",
    "                    secondLepton.SetPtEtaPhiE(lep_pt[1]/1000., lep_eta[1], lep_phi[1], lep_E[1]/1000.)\n",
    "                    \n",
    "                    # Could we add a cut in here? \n",
    "    \n",
    "                    # Now we look at the second decay - note that we have assumed that the first two\n",
    "                    # Cut #4: Second two leptons opposite charge\n",
    "                    if (lep_charge[2] != lep_charge[3]):\n",
    "    \n",
    "                        # Cut #5:\n",
    "                        if ( lep_type[2] == lep_type[3]):\n",
    "                            # By now we should only have paricles that look right remaining.\n",
    "                            \n",
    "                            # Let's set the components of a TLorentzVector for each lepton. Notice that the energy and momenta are given in MeV!\n",
    "                            thirdLepton.SetPtEtaPhiE(lep_pt[2]/1000., lep_eta[2], lep_phi[2], lep_E[2]/1000.)\n",
    "                            fourthLepton.SetPtEtaPhiE(lep_pt[3]/1000., lep_eta[3], lep_phi[3], lep_E[3]/1000.)\n",
    "                            \n",
    "                            # Now, reconstruct the Z0 boson Lorentz vector! \n",
    "                            Z0_boson1 = firstLepton + secondLepton\n",
    "                            Z0_boson2 = thirdLepton + fourthLepton\n",
    "    \n",
    "                            # And chuck this particular value into the histogram.\n",
    "                            hist_Zl4.fill(Z0_boson1.M())\n",
    "                            hist_Zl4.fill(Z0_boson2.M())\n",
    "       \n",
    "</details>"
   ]
  },
  {
   "cell_type": "markdown",
   "id": "4b2f84e2",
   "metadata": {},
   "source": [
    "### Finally, plot your results"
   ]
  },
  {
   "cell_type": "code",
   "execution_count": null,
   "id": "7c1ff536",
   "metadata": {},
   "outputs": [],
   "source": [
    "hist_Zl4.plot(histtype = \"fill\")\n",
    "plt.show()"
   ]
  },
  {
   "cell_type": "markdown",
   "id": "590b77be",
   "metadata": {},
   "source": [
    "[Return to contents](#c)"
   ]
  },
  {
   "cell_type": "markdown",
   "id": "79d3cf34",
   "metadata": {},
   "source": [
    "---"
   ]
  },
  {
   "cell_type": "markdown",
   "id": "409cbba2",
   "metadata": {},
   "source": [
    "# Real experiments <a name=\"2.\"></a>\n",
    "\n",
    "Now, real experiments are not run like this. You may have noticed that although we mentioned a theoretical decay, all we gave you was a diagram. You had no real way of checking whether or not the decay that the theory described is actually what happens in reality, other than saying that the plots look roughly about right.\n",
    "\n",
    "So, one more thing. Surprise! The data you have been analysing here isn't really data at all - it is in fact a simulated sample of $Z^0 \\rightarrow \\ell\\bar{\\ell}$ and $Z^0 Z^0 \\rightarrow \\ell\\bar{\\ell}\\ell\\bar{\\ell}$ decays in the ATLAS detector, based on the Standard Model.\n",
    "\n",
    "The way we perform actual experiments, is that we write some analysis code, just like above, and then run the exact same code on a Standard Model simulation and on the real data that gets spat out by the detector. The extent to which the two agree then tells us how close our model is to reality.\n",
    "\n",
    "Here’s an example of what happens if we compare the simulation with what we see at the LHC. The black dots are the real data, and the bars are real data. You may notice that it looks pretty close to what we had before - that's because there are lots and lots of Z decays that happen in the detector. If you looked closely enough, you would be able to tell that there are other colours stacked there in the histogram, but the slices are so thin that you can't see them.\n",
    "\n",
    "<CENTER><img src=\"images/Zinvmass-ATLASOD8TeV.png\" style=\"width:50%\"></CENTER>"
   ]
  },
  {
   "cell_type": "markdown",
   "id": "13d5c546",
   "metadata": {},
   "source": [
    "[Return to contents](#c)"
   ]
  },
  {
   "cell_type": "markdown",
   "id": "6e04a963",
   "metadata": {},
   "source": [
    "---"
   ]
  },
  {
   "cell_type": "markdown",
   "id": "0c007107",
   "metadata": {},
   "source": [
    "## Optional extra exercises / 'Do your own project' ideas  <a name=\"3.\"></a>"
   ]
  },
  {
   "cell_type": "markdown",
   "id": "9ba38117",
   "metadata": {},
   "source": [
    "<div class=\"alert alert-info\"> When completing these execises, it is recommended to copy/paste any code you're reusing from above into new cells, to keep the example available for reference.\n",
    "<br>\n",
    "    \n",
    "New cells can be added above using `esc` + `a`, below using `esc` + `b`, or using the `Insert` tab at the top of the page.</div> "
   ]
  },
  {
   "cell_type": "markdown",
   "id": "72800443",
   "metadata": {},
   "source": [
    "a) The way we performed our 4 lepton analysis was not optimal - we ended up selecting many fewer events than actually happened.\n",
    "\n",
    "- What was the problem with our analysis? \n",
    "\n",
    "- Can you think of a better way? Redo the analysis your way and compare the results"
   ]
  },
  {
   "cell_type": "markdown",
   "id": "b985d292",
   "metadata": {},
   "source": [
    "<details>\n",
    "    <summary>Click for a hint: </summary>\n",
    "    In our version of the analysis we only kept an event if its first two leptons looked like one Z-boson, and its second two leptons looked like another. Is this the only combination we could have chosen?\n",
    "</details>"
   ]
  },
  {
   "cell_type": "markdown",
   "id": "dbbb3f96",
   "metadata": {},
   "source": [
    "b) An example of a file with real data events containing four leptons is `\"https://atlas-opendata.web.cern.ch/atlas-opendata/samples/2020/4lep/Data/data_A.4lep.root` (with more available in that folder).\n",
    "\n",
    "- Choose one of the analyses above ($Z\\rightarrow ll$ or $ZZ\\rightarrow llll$) and repeat using real data instead of simulation\n",
    "- Do your plots look the same?\n",
    "\n",
    "c) To perform our analysis, we imposed some basic cuts to try select good Z boson candidates, however, in practice real measurements impose more! \n",
    "\n",
    "- Look at the branches available in your TTrees, and their explanation in the [ATLAS Open Data Documentation](http://opendata.atlas.cern/release/2020/documentation/datasets/intro.html) to try come up with some more cuts.\n",
    "- Repeat the analysis and compare your plots:\n",
    "    - How are they different?\n",
    "    - Which one would be considered a 'better measurement' and why?"
   ]
  },
  {
   "cell_type": "code",
   "execution_count": 2,
   "id": "4078a7dc-0b6f-4136-b928-5522db23b631",
   "metadata": {},
   "outputs": [
    {
     "name": "stdout",
     "output_type": "stream",
     "text": [
      "name                 | typename                 | interpretation                \n",
      "---------------------+--------------------------+-------------------------------\n",
      "runNumber            | int32_t                  | AsDtype('>i4')\n",
      "eventNumber          | int32_t                  | AsDtype('>i4')\n",
      "channelNumber        | int32_t                  | AsDtype('>i4')\n",
      "mcWeight             | float                    | AsDtype('>f4')\n",
      "scaleFactor_PILEUP   | float                    | AsDtype('>f4')\n",
      "scaleFactor_ELE      | float                    | AsDtype('>f4')\n",
      "scaleFactor_MUON     | float                    | AsDtype('>f4')\n",
      "scaleFactor_PHOTON   | float                    | AsDtype('>f4')\n",
      "scaleFactor_TAU      | float                    | AsDtype('>f4')\n",
      "scaleFactor_BTAG     | float                    | AsDtype('>f4')\n",
      "scaleFactor_LepTR... | float                    | AsDtype('>f4')\n",
      "scaleFactor_Photo... | float                    | AsDtype('>f4')\n",
      "trigE                | bool                     | AsDtype('bool')\n",
      "trigM                | bool                     | AsDtype('bool')\n",
      "trigP                | bool                     | AsDtype('bool')\n",
      "lep_n                | uint32_t                 | AsDtype('>u4')\n",
      "lep_truthMatched     | std::vector<bool>        | AsJagged(AsDtype('bool'), h...\n",
      "lep_trigMatched      | std::vector<bool>        | AsJagged(AsDtype('bool'), h...\n",
      "lep_pt               | std::vector<float>       | AsJagged(AsDtype('>f4'), he...\n",
      "lep_eta              | std::vector<float>       | AsJagged(AsDtype('>f4'), he...\n",
      "lep_phi              | std::vector<float>       | AsJagged(AsDtype('>f4'), he...\n",
      "lep_E                | std::vector<float>       | AsJagged(AsDtype('>f4'), he...\n",
      "lep_z0               | std::vector<float>       | AsJagged(AsDtype('>f4'), he...\n",
      "lep_charge           | std::vector<int32_t>     | AsJagged(AsDtype('>i4'), he...\n",
      "lep_type             | std::vector<uint32_t>    | AsJagged(AsDtype('>u4'), he...\n",
      "lep_isTightID        | std::vector<bool>        | AsJagged(AsDtype('bool'), h...\n",
      "lep_ptcone30         | std::vector<float>       | AsJagged(AsDtype('>f4'), he...\n",
      "lep_etcone20         | std::vector<float>       | AsJagged(AsDtype('>f4'), he...\n",
      "lep_trackd0pvunbi... | std::vector<float>       | AsJagged(AsDtype('>f4'), he...\n",
      "lep_tracksigd0pvu... | std::vector<float>       | AsJagged(AsDtype('>f4'), he...\n",
      "met_et               | float                    | AsDtype('>f4')\n",
      "met_phi              | float                    | AsDtype('>f4')\n",
      "jet_n                | uint32_t                 | AsDtype('>u4')\n",
      "jet_pt               | std::vector<float>       | AsJagged(AsDtype('>f4'), he...\n",
      "jet_eta              | std::vector<float>       | AsJagged(AsDtype('>f4'), he...\n",
      "jet_phi              | std::vector<float>       | AsJagged(AsDtype('>f4'), he...\n",
      "jet_E                | std::vector<float>       | AsJagged(AsDtype('>f4'), he...\n",
      "jet_jvt              | std::vector<float>       | AsJagged(AsDtype('>f4'), he...\n",
      "jet_trueflav         | std::vector<int32_t>     | AsJagged(AsDtype('>i4'), he...\n",
      "jet_truthMatched     | std::vector<bool>        | AsJagged(AsDtype('bool'), h...\n",
      "jet_MV2c10           | std::vector<float>       | AsJagged(AsDtype('>f4'), he...\n",
      "photon_n             | uint32_t                 | AsDtype('>u4')\n",
      "photon_truthMatched  | std::vector<bool>        | AsJagged(AsDtype('bool'), h...\n",
      "photon_trigMatched   | std::vector<bool>        | AsJagged(AsDtype('bool'), h...\n",
      "photon_pt            | std::vector<float>       | AsJagged(AsDtype('>f4'), he...\n",
      "photon_eta           | std::vector<float>       | AsJagged(AsDtype('>f4'), he...\n",
      "photon_phi           | std::vector<float>       | AsJagged(AsDtype('>f4'), he...\n",
      "photon_E             | std::vector<float>       | AsJagged(AsDtype('>f4'), he...\n",
      "photon_isTightID     | std::vector<bool>        | AsJagged(AsDtype('bool'), h...\n",
      "photon_ptcone30      | std::vector<float>       | AsJagged(AsDtype('>f4'), he...\n",
      "photon_etcone20      | std::vector<float>       | AsJagged(AsDtype('>f4'), he...\n",
      "photon_convType      | std::vector<int32_t>     | AsJagged(AsDtype('>i4'), he...\n",
      "tau_n                | uint32_t                 | AsDtype('>u4')\n",
      "tau_pt               | std::vector<float>       | AsJagged(AsDtype('>f4'), he...\n",
      "tau_eta              | std::vector<float>       | AsJagged(AsDtype('>f4'), he...\n",
      "tau_phi              | std::vector<float>       | AsJagged(AsDtype('>f4'), he...\n",
      "tau_E                | std::vector<float>       | AsJagged(AsDtype('>f4'), he...\n",
      "tau_isTightID        | std::vector<bool>        | AsJagged(AsDtype('bool'), h...\n",
      "tau_truthMatched     | std::vector<bool>        | AsJagged(AsDtype('bool'), h...\n",
      "tau_trigMatched      | std::vector<bool>        | AsJagged(AsDtype('bool'), h...\n",
      "tau_nTracks          | std::vector<int32_t>     | AsJagged(AsDtype('>i4'), he...\n",
      "tau_BDTid            | std::vector<float>       | AsJagged(AsDtype('>f4'), he...\n",
      "ditau_m              | float                    | AsDtype('>f4')\n",
      "lep_pt_syst          | std::vector<float>       | AsJagged(AsDtype('>f4'), he...\n",
      "met_et_syst          | float                    | AsDtype('>f4')\n",
      "jet_pt_syst          | std::vector<float>       | AsJagged(AsDtype('>f4'), he...\n",
      "photon_pt_syst       | std::vector<float>       | AsJagged(AsDtype('>f4'), he...\n",
      "tau_pt_syst          | std::vector<float>       | AsJagged(AsDtype('>f4'), he...\n",
      "XSection             | float                    | AsDtype('>f4')\n",
      "SumWeights           | float                    | AsDtype('>f4')\n",
      "largeRjet_n          | uint32_t                 | AsDtype('>u4')\n",
      "largeRjet_pt         | std::vector<float>       | AsJagged(AsDtype('>f4'), he...\n",
      "largeRjet_eta        | std::vector<float>       | AsJagged(AsDtype('>f4'), he...\n",
      "largeRjet_phi        | std::vector<float>       | AsJagged(AsDtype('>f4'), he...\n",
      "largeRjet_E          | std::vector<float>       | AsJagged(AsDtype('>f4'), he...\n",
      "largeRjet_m          | std::vector<float>       | AsJagged(AsDtype('>f4'), he...\n",
      "largeRjet_truthMa... | std::vector<float>       | AsJagged(AsDtype('>f4'), he...\n",
      "largeRjet_D2         | std::vector<float>       | AsJagged(AsDtype('>f4'), he...\n",
      "largeRjet_tau32      | std::vector<float>       | AsJagged(AsDtype('>f4'), he...\n",
      "largeRjet_pt_syst    | std::vector<float>       | AsJagged(AsDtype('>f4'), he...\n",
      "tau_charge           | std::vector<int32_t>     | AsJagged(AsDtype('>i4'), he...\n"
     ]
    }
   ],
   "source": [
    "f_4lep = uproot.open(\"https://atlas-opendata.web.cern.ch/atlas-opendata/samples/2020/4lep/Data/data_A.4lep.root:mini\")\n",
    "f_4lep.show()\n",
    "#There are also the following data files you can also run over to increase your data sample\n",
    "#https://atlas-opendata.web.cern.ch/atlas-opendata/samples/2020/4lep/Data/data_B.4lep.root\n",
    "#https://atlas-opendata.web.cern.ch/atlas-opendata/samples/2020/4lep/Data/data_C.4lep.root\n",
    "#https://atlas-opendata.web.cern.ch/atlas-opendata/samples/2020/4lep/Data/data_D.4lep.root\n"
   ]
  },
  {
   "cell_type": "code",
   "execution_count": 3,
   "id": "35f3bd39-47dc-4b6e-8d79-917dda0da25a",
   "metadata": {},
   "outputs": [],
   "source": [
    "# Example. Let's look at the pt distribution of the first lepton of each event\n",
    "hist_pt1 = Hist(hist.axis.Regular(30, 0, 150, name=\"pT [GeV/c]\"))\n"
   ]
  },
  {
   "cell_type": "code",
   "execution_count": 4,
   "id": "6f947708-ece4-479b-a1db-a44495cd30ec",
   "metadata": {},
   "outputs": [
    {
     "name": "stdout",
     "output_type": "stream",
     "text": [
      "Number of events in the file is: 39\n"
     ]
    }
   ],
   "source": [
    "sel_events = f_4lep.arrays([\"lep_pt\", \"lep_eta\", \"lep_phi\", \"lep_E\",\"lep_charge\", \"lep_type\", \"lep_n\"])\n",
    "print('Number of events in the file is: {}'.format(len(sel_events)))"
   ]
  },
  {
   "cell_type": "code",
   "execution_count": 5,
   "id": "fc5dd5ae-33a6-4556-a956-fd062212b5b2",
   "metadata": {},
   "outputs": [
    {
     "name": "stdout",
     "output_type": "stream",
     "text": [
      "Iteration reached event number is 0\n",
      "Iteration reached event number is 10\n",
      "Iteration reached event number is 20\n",
      "Iteration reached event number is 30\n"
     ]
    }
   ],
   "source": [
    "sel_events = f_4lep.arrays([\"lep_pt\", \"lep_eta\", \"lep_phi\", \"lep_E\",\"lep_charge\", \"lep_type\", \"lep_n\"])\n",
    "\n",
    "#Set up a counter when iteratring over events\n",
    "counter = 0\n",
    "outputEvery = 10\n",
    "\n",
    "# Now, iterate through each event in the tree!\n",
    "for event in sel_events:\n",
    "\n",
    "    if ((counter % outputEvery) == 0):\n",
    "        print('Iteration reached event number is {}'.format(counter))\n",
    "    \n",
    "    # Cut #1: At least 4 leptons in the event. lep_n  is the number of them.\n",
    "    lep_n = event[\"lep_n\"]\n",
    "    if lep_n >= 4:\n",
    "        lepton_pt = event[\"lep_pt\"]\n",
    "        hist_pt1.fill(lepton_pt[0]/1000.0) \n",
    "        counter+=1\n",
    "\n"
   ]
  },
  {
   "cell_type": "code",
   "execution_count": 6,
   "id": "63c36ff1-2e26-443f-ace3-67a41b604cad",
   "metadata": {},
   "outputs": [
    {
     "data": {
      "text/plain": [
       "[StairsArtists(stairs=<matplotlib.patches.StepPatch object at 0x7fe626448810>, errorbar=<ErrorbarContainer object of 3 artists>, legend_artist=<ErrorbarContainer object of 3 artists>)]"
      ]
     },
     "execution_count": 6,
     "metadata": {},
     "output_type": "execute_result"
    },
    {
     "data": {
      "image/png": "[encoded data removed]",
      "text/plain": [
       "<Figure size 640x480 with 1 Axes>"
      ]
     },
     "metadata": {},
     "output_type": "display_data"
    }
   ],
   "source": [
    "hist_pt1.plot()"
   ]
  },
  {
   "cell_type": "markdown",
   "id": "066ca342",
   "metadata": {},
   "source": [
    "[Return to contents](#c)\n",
    "\n",
    "---"
   ]
  },
  {
   "cell_type": "markdown",
   "id": "27a8dba7",
   "metadata": {},
   "source": [
    "<div class=\"alert alert-success\">\n",
    "\n",
    "__Congratulations!__ You're really approaching your $Z^0$ boson research like a true scientist now! Bored of the $Z^0$? Come meet the Higgs in Notebook 6.\n",
    "    \n",
    "</div>"
   ]
  }
 ],
 "metadata": {
  "kernelspec": {
   "display_name": "Python 3 (ipykernel)",
   "language": "python",
   "name": "python3"
  },
  "language_info": {
   "codemirror_mode": {
    "name": "ipython",
    "version": 3
   },
   "file_extension": ".py",
   "mimetype": "text/x-python",
   "name": "python",
   "nbconvert_exporter": "python",
   "pygments_lexer": "ipython3",
   "version": "3.11.9"
  }
 },
 "nbformat": 4,
 "nbformat_minor": 5
}
