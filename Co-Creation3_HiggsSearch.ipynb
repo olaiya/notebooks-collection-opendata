{
 "cells": [
  {
   "cell_type": "markdown",
   "metadata": {},
   "source": [
    "<CENTER><img src=\"images/logos.png\" style=\"width:50%\"></CENTER>"
   ]
  },
  {
   "cell_type": "markdown",
   "metadata": {},
   "source": [
    "<CENTER><h1>Searching for the Higgs boson </h1></CENTER>\n",
    "\n",
    "\n",
    "Below are some Feyman diagrams of ways the Higgs boson can be produced according to the Standard Model:\n",
    "\n",
    "<br>\n",
    "\n",
    "<CENTER><img src=\"https://cds.cern.ch/record/2243593/files/Figures_FeynmanHprod.png\" style=\"width:50%\"></CENTER>"
   ]
  },
  {
   "cell_type": "markdown",
   "metadata": {},
   "source": [
    "Just as the Higgs can be produced in several ways, the Higgs can also decay in a number of ways or 'channels'. In this excercise, we will be searching for the Higgs in two different decay channels."
   ]
  },
  {
   "cell_type": "markdown",
   "metadata": {},
   "source": [
    "---"
   ]
  },
  {
   "cell_type": "markdown",
   "metadata": {},
   "source": [
    "### Before we begin:\n",
    "\n",
    "- Some of the datafiles used in this notebook have millions of events - Don't be surpised if running certain event loops takes up to 10 mins (or longer)!\n",
    "\n",
    "- This notebook is designed to give you an idea of how a real physics analysis is set up. Study it carefully to help with your own research!"
   ]
  },
  {
   "cell_type": "markdown",
   "metadata": {},
   "source": [
    "---"
   ]
  },
  {
   "cell_type": "markdown",
   "metadata": {},
   "source": [
    "<CENTER><h2>Search 1: The H&#8594;&gamma;&gamma; channel</h2></CENTER>"
   ]
  },
  {
   "cell_type": "markdown",
   "metadata": {},
   "source": [
    "<CENTER><img src=\"./images/higgsFD.png\" style=\"width:30%\"></CENTER>\n",
    "\n",
    "<br>\n",
    "  \n",
    "One of the ways the Higgs can decay is to two photons. We call this channel __H&#8594;&gamma;&gamma;__ (\"Higgs to gamma gamma\").\n",
    "\n",
    "\n",
    "Of course, there are other ways two photons can be made in the LHC, but if we look at the entire range of invariant masses of these two photons, we should expect there to be more of them around 125 GeV, the mass of the Higgs (\"bump hunting\")."
   ]
  },
  {
   "cell_type": "markdown",
   "metadata": {},
   "source": [
    "#### Importing the usual libraries"
   ]
  },
  {
   "cell_type": "code",
   "execution_count": null,
   "metadata": {},
   "outputs": [],
   "source": [
    "import ROOT\n",
    "from ROOT import TMath"
   ]
  },
  {
   "cell_type": "markdown",
   "metadata": {},
   "source": [
    "### 1. Reading in ROOT files\n",
    "<br>\n",
    "In the usual way:\n",
    "\n",
    "1. Open our datafile containing two photon (\"diphoton\" or $\\gamma\\gamma$) events \n",
    "\n",
    "2. Retrieive the TTree storing the data and \n",
    "\n",
    "3. Get the tree entries \n",
    "\n",
    "<br>\n",
    "\n",
    "As always, if you need hints, refer back to the first tutorial `HistogramTutorial`."
   ]
  },
  {
   "cell_type": "markdown",
   "metadata": {},
   "source": [
    "#### a) Open Root File\n",
    "\n",
    "Using `ROOT`, `TFile.Open()` a sample of diphoton data, stored at \n",
    "\n",
    "`https://atlas-opendata.web.cern.ch/atlas-opendata/samples/2020/GamGam/Data/data_A.GamGam.root`\n",
    "\n",
    " "
   ]
  },
  {
   "cell_type": "code",
   "execution_count": null,
   "metadata": {},
   "outputs": [],
   "source": [
    "f = ROOT.TFile.Open(\"https://atlas-opendata.web.cern.ch/atlas-opendata/samples/2020/GamGam/Data/data_A.GamGam.root\")"
   ]
  },
  {
   "cell_type": "markdown",
   "metadata": {},
   "source": [
    "#### b) Retrieve TTree\n",
    "\n",
    "`Get()` the TTree named `mini` from the ROOT file `f`"
   ]
  },
  {
   "cell_type": "code",
   "execution_count": null,
   "metadata": {},
   "outputs": [],
   "source": [
    "tree = f.Get(\"mini\")"
   ]
  },
  {
   "cell_type": "markdown",
   "metadata": {},
   "source": [
    "#### c) Load TTree data\n",
    "\n",
    "`GetEntries()` of our `tree` to print the number of events in the tree as a check that the data has loaded properly"
   ]
  },
  {
   "cell_type": "code",
   "execution_count": null,
   "metadata": {},
   "outputs": [],
   "source": [
    "tree.GetEntries()"
   ]
  },
  {
   "cell_type": "markdown",
   "metadata": {},
   "source": [
    "### 2. Preparing histograms\n",
    "<br>\n",
    "\n",
    "As in previous examples, before we are ready to fill our histograms we need to:\n",
    "\n",
    "1. Create a canvas for the histogram to be drawn onto\n",
    "\n",
    "2. Define the settings of the histograms we intend to draw"
   ]
  },
  {
   "cell_type": "markdown",
   "metadata": {},
   "source": [
    "#### a) Create canvas\n",
    "\n",
    "Using `ROOT`, create a `TCanvas` named `\"Canvas\"` with the title `'cz'` that's sized `800`x`600` pixels"
   ]
  },
  {
   "cell_type": "code",
   "execution_count": null,
   "metadata": {},
   "outputs": [],
   "source": [
    "canvas = ROOT.TCanvas(\"Canvas\",\"cz\",800,600)"
   ]
  },
  {
   "cell_type": "markdown",
   "metadata": {},
   "source": [
    "#### b) Set up histogram \n",
    "\n",
    "Set up a `TH1F` type histogram to be filled with our __diphoton invariant masses__. Name it `h_M_Hyy`, give it the title `Diphoton invariant-mass`, label the x and y axes `Invariant Mass m_{yy} [GeV]` and `events` respectively and divide it in `30` bins between `105` and `160` GeV.\n",
    "\n",
    "__Hint:__ Remember how we separate names, titles and axis labels in the `TH1F` function?"
   ]
  },
  {
   "cell_type": "code",
   "execution_count": null,
   "metadata": {},
   "outputs": [],
   "source": [
    "#Invariant mass histograms definition\n",
    "hist = ROOT.TH1F(\"h_M_Hyy\",\"Diphoton invariant-mass ; Invariant Mass m_{yy} [GeV] ; events\",30,105,160)"
   ]
  },
  {
   "cell_type": "markdown",
   "metadata": {},
   "source": [
    "### 3. Selecting events and filling histograms"
   ]
  },
  {
   "cell_type": "markdown",
   "metadata": {},
   "source": [
    "Our strategy for filling our diphoton invariant mass histogram is as follows:\n",
    "\n",
    "1. Loop through each `event` in our `tree`. We can print out how many events have been processed every 100000 events to keep track of progress.\n",
    "\n",
    "2. In each event, search for _'good quality photons'_ (more on this later).\n",
    "\n",
    "3. If there are exactly two qood quality photons, check that they are _'well isolated'_ (again, more later).\n",
    "\n",
    "4. If the two photons are well-isolated, extract their 4 momentum from the components' individual TTree branches, converting their transverse momentum (pT) and energy (E) from MeV, as is stored in the TTree, to GeV as will be displayed in the histogram.\n",
    "\n",
    "5. Add the TLorentz vectors of the two photons together\n",
    "\n",
    "6. Fill the histogram with the invariant mass of our two-photon system"
   ]
  },
  {
   "cell_type": "markdown",
   "metadata": {},
   "source": [
    "__NOTE:__ To simplify our code, we will be writing some custom __functions__ to handle some of the more complicated\n",
    "operations performed in each event"
   ]
  },
  {
   "cell_type": "markdown",
   "metadata": {},
   "source": [
    "#### a) Loop tracker"
   ]
  },
  {
   "cell_type": "code",
   "execution_count": null,
   "metadata": {},
   "outputs": [],
   "source": [
    "def trackProgress(n,m):\n",
    "    \"\"\"\n",
    "    Function which prints the event loop progress every m events \n",
    "    \n",
    "    Parameters\n",
    "    ----------\n",
    "    n : Number of events processed so far\n",
    "    \n",
    "    m : Printout event interval\n",
    "    \n",
    "    \"\"\"\n",
    "    if n == 0:\n",
    "        print(\"Event loop tracker\")\n",
    "        print(\"------------------\")\n",
    "    \n",
    "    if(n%m==0):\n",
    "        print(\"%d events processed\" % n)"
   ]
  },
  {
   "cell_type": "markdown",
   "metadata": {},
   "source": [
    "#### b) Photon quality"
   ]
  },
  {
   "cell_type": "code",
   "execution_count": null,
   "metadata": {},
   "outputs": [],
   "source": [
    "def locateGoodPhotons(tree):\n",
    "    \"\"\"\n",
    "    Function which returns the index of photons in the event which pass our quality requirements.\n",
    "    These are:\n",
    "        - Event passes photon trigger\n",
    "        - Photon is identified as such, passing 'Tight' requirements\n",
    "        - Photon has pT > 25 GeV (or 25000 MeV)\n",
    "        - Photon is in the 'central' region of ATLAS i.e. |eta| < 2.37\n",
    "        - Photon does not fall in the 'transition region' between ATLAS's inner detector barrell\n",
    "          and ECal encap i.e. 1.37 <= |eta| <= 1.52\n",
    "          \n",
    "    Parameters\n",
    "    ----------\n",
    "    tree : TTree entry for this event\n",
    "    \n",
    "    \"\"\"\n",
    "    \n",
    "    ## Checking the event passes the photon trigger\n",
    "    if(tree.trigP):\n",
    "        \n",
    "        #Initialise (set up) the variables we want to return\n",
    "        goodphoton_index = [] #Indices (position in list of event's photons) of our good photons\n",
    "            \n",
    "        ##Loop through all the photons in the event\n",
    "        for j in range(0,tree.photon_n):\n",
    "            \n",
    "            ##Check photon ID\n",
    "            if(tree.photon_isTightID[j]):\n",
    "                \n",
    "                if(tree.photon_pt[j] > 25000 and  #Check photon has a large enough pT\n",
    "                  (TMath.Abs(tree.photon_eta[j]) < 2.37) and  #Check photon eta is in the 'central' region\n",
    "                  \n",
    "                  #Exclude \"transition region\" between ID barrell and ECal endcap\n",
    "                  (TMath.Abs(tree.photon_eta[j]) < 1.37 or TMath.Abs(tree.photon_eta[j]) > 1.52)):\n",
    "\n",
    "                    goodphoton_index.append(j) #Store photon's index\n",
    "                    \n",
    "        return goodphoton_index #return list of good photon indices"
   ]
  },
  {
   "cell_type": "markdown",
   "metadata": {},
   "source": [
    "#### c) Photon isolation"
   ]
  },
  {
   "cell_type": "code",
   "execution_count": null,
   "metadata": {},
   "outputs": [],
   "source": [
    "def photonIsolation(tree,photon_indices):\n",
    "    \"\"\"\n",
    "    Function which returns True if all photons are well-isolated, otherwise returns false.\n",
    "    \n",
    "    A photon is considered 'isolated' if the transverse momentum and transverse energy within \n",
    "    a particular radius of the photon is below a certain threshold compared to the photon's \n",
    "    transverse momentum (don't worry too much about the details!).\n",
    "    \n",
    "    Parameters\n",
    "    ----------\n",
    "    tree : TTree entry for this event\n",
    "    \n",
    "    photon_indices : List containing the indices in the TTree of our photons of interest\n",
    "    \n",
    "    \"\"\"\n",
    "    \n",
    "    #Loop through our list of photon indices\n",
    "    for i in photon_indices:\n",
    "        \n",
    "        #If each photon passes isolation requirements...\n",
    "        if((tree.photon_ptcone30[i]/tree.photon_pt[i] < 0.065) and \n",
    "           (tree.photon_etcone20[i] / tree.photon_pt[i] < 0.065)):\n",
    "            continue #...keep the loop going \n",
    "        \n",
    "        #If any fail, break the loop and return False\n",
    "        else: \n",
    "            return False\n",
    "    \n",
    "    #If the loop is able to finish, i.e. all photons are well-isolated, return True\n",
    "    return True"
   ]
  },
  {
   "cell_type": "markdown",
   "metadata": {},
   "source": [
    "#### d) Extracting four-momentum"
   ]
  },
  {
   "cell_type": "code",
   "execution_count": null,
   "metadata": {},
   "outputs": [],
   "source": [
    "def photonFourMomentum(tree, photon_indices):\n",
    "    \"\"\"\n",
    "    Function which returns the 4 momenta of a list of photons in an event as a list of TLorentzVectors\n",
    "    \n",
    "    Parameters\n",
    "    ----------\n",
    "    tree : TTree entry for this event\n",
    "    \n",
    "    photon_indices : List containing the indices in the TTree of our photons of interest\n",
    "    \n",
    "    \"\"\"\n",
    "    \n",
    "    photon_four_momenta = []\n",
    "    \n",
    "    #Loop through our list of photon indices\n",
    "    for i in photon_indices:\n",
    "    \n",
    "        #Initialse (set up) an empty 4 vector for each photon\n",
    "        Photon_i = ROOT.TLorentzVector()\n",
    "        \n",
    "        #Retrieve the photon's 4 momentum components from the tree\n",
    "        #Convert from MeV to GeV where needed\n",
    "        Photon_i.SetPtEtaPhiE(tree.photon_pt[i]/1000., tree.photon_eta[i],tree.photon_phi[i],tree.photon_E[i]/1000.)\n",
    "        \n",
    "        #Store photon's 4 momentum\n",
    "        photon_four_momenta.append(Photon_i)\n",
    "        \n",
    "        \n",
    "    return photon_four_momenta"
   ]
  },
  {
   "cell_type": "markdown",
   "metadata": {},
   "source": [
    "#### e) Sum the 4 momenta of each photon in the event"
   ]
  },
  {
   "cell_type": "code",
   "execution_count": null,
   "metadata": {},
   "outputs": [],
   "source": [
    "def sumFourMomentum(four_momenta):\n",
    "    \"\"\"\n",
    "    Function which sums a list of four-momenta, and returns the resultant four-momentum of the system\n",
    "    \n",
    "    Parameters\n",
    "    ----------\n",
    "    four_momenta : List of TLorentzVectors containing the four-momentum of each object in the system\n",
    "    \n",
    "    \"\"\"\n",
    "    \n",
    "    # Initialise (set up) TLorentzVector for our momentum sum\n",
    "    four_mom_sum = ROOT.TLorentzVector()\n",
    "    \n",
    "    for obj in four_momenta:\n",
    "        four_mom_sum += obj\n",
    "        \n",
    "    return four_mom_sum"
   ]
  },
  {
   "cell_type": "markdown",
   "metadata": {},
   "source": [
    "### Putting it all together!"
   ]
  },
  {
   "cell_type": "code",
   "execution_count": null,
   "metadata": {},
   "outputs": [],
   "source": [
    "n = 0\n",
    "for event in tree:\n",
    "    \n",
    "    #a) Loop progress tracking: Print progress every 100,000 events\n",
    "    trackProgress(n,100000)\n",
    "    n += 1\n",
    "    \n",
    "    #b) Identify exactly two 'good quality photons'\n",
    "    goodphoton_indices = locateGoodPhotons(tree)\n",
    "    \n",
    "    if len(goodphoton_indices) == 2:\n",
    "        \n",
    "        #c) Check our good quality photons are well-isolated\n",
    "        photons_are_isolated = photonIsolation(tree,goodphoton_indices)\n",
    "        \n",
    "        if photons_are_isolated:\n",
    "        \n",
    "            #d) Convert 4-momentum from MeV to GeV\n",
    "            photon_four_momenta = photonFourMomentum(tree, goodphoton_indices)\n",
    "            \n",
    "            #e) Add the 4-momenta together\n",
    "            Photon_12 = sumFourMomentum(photon_four_momenta)\n",
    "            \n",
    "            #f) Fill the histogram with the diphoton invariant mass\n",
    "            inv_mass = Photon_12.M() #Calculated invariant mass\n",
    "            \n",
    "            hist.Fill(inv_mass) #Fill histogram with invariant mass"
   ]
  },
  {
   "cell_type": "markdown",
   "metadata": {},
   "source": [
    "### 4. Draw plots\n",
    "\n",
    "Finally, we would like to draw our diphoton invariant mass histograms and display the canvas showing our results. \n",
    "\n",
    "For this study, we would also like to plot the __error bars__ for each bin to illustrate the (statistical) __uncertainties__ on our measurement. This is done by passing `\"E\"` as an argument to `Draw()` when drawing the _histogram_."
   ]
  },
  {
   "cell_type": "code",
   "execution_count": null,
   "metadata": {},
   "outputs": [],
   "source": [
    "hist.Draw(\"E\")\n",
    "canvas.Draw()"
   ]
  },
  {
   "cell_type": "markdown",
   "metadata": {},
   "source": [
    "To make our plot easier to read, we can change the y axis from a __linear scale__ to a __log scale__. This is done by calling the `.SetLogY()` function on our `canvas`, then `Draw()`ing it agin"
   ]
  },
  {
   "cell_type": "code",
   "execution_count": null,
   "metadata": {},
   "outputs": [],
   "source": [
    "canvas.SetLogy()\n",
    "canvas.Draw()"
   ]
  },
  {
   "cell_type": "markdown",
   "metadata": {},
   "source": [
    "### Some questions to think about...\n",
    "\n",
    "1. Can we say we have 'found' the Higgs based on these histograms alone? Why/why not?\n",
    "2. What steps could we take to make our search for the Higgs more robust?"
   ]
  },
  {
   "cell_type": "markdown",
   "metadata": {},
   "source": [
    "---"
   ]
  },
  {
   "cell_type": "markdown",
   "metadata": {},
   "source": [
    "<CENTER><h2>Search 2: The H&#8594;WW channel</h2></CENTER>"
   ]
  },
  {
   "cell_type": "markdown",
   "metadata": {},
   "source": [
    "The following analysis will aim to find a signal for the Higgs boson decaying to 2 W-bosons:\n",
    "\n",
    "<br>\n",
    "\n",
    "<CENTER><img src=\"https://atlas.web.cern.ch/Atlas/GROUPS/PHYSICS/PAPERS/HIGG-2016-07/fig_01a.png\" style=\"width:30%\"></CENTER>\n",
    "\n",
    "<br>\n",
    "\n",
    "above its the largest background; Events coming from the SM WW-diboson background  production:\n",
    "\n",
    "<CENTER><img src=\"https://cds.cern.ch/record/1484203/files/fig1b.png\" style=\"width:30%\"></CENTER>\n",
    "\n",
    "\n",
    "<br>\n",
    "\n",
    "This __non-resonant search__ is done by histogramming some variable of the decay products (in this case a variable called *transverse mass*) for both data and Monte-Carlo simulations of the background, subtracting the backgrounds from the data (scaled for the fact we have many more simulated events than real events) before looking at the events, if any, left over indicating the presence of the Higgs.\n",
    "\n",
    "\n",
    "**Question:** Why can a bump hunt not be performed in this channel? \n",
    "\n",
    "*Hint*: $m_H$=125 GeV, $m_W$=80 GeV"
   ]
  },
  {
   "cell_type": "markdown",
   "metadata": {},
   "source": [
    "#### Before we begin...\n",
    "\n",
    "\n",
    "Another custom function to simplify our code:"
   ]
  },
  {
   "cell_type": "code",
   "execution_count": null,
   "metadata": {},
   "outputs": [],
   "source": [
    "def printTreeBranches(tree):\n",
    "    \"\"\"\n",
    "    A function which makes it simple to peek inside a TTree and see which variables (branches) are available\n",
    "    \n",
    "    Parameters\n",
    "    ----------\n",
    "    tree : A ROOT TTree\n",
    "    \"\"\"\n",
    "    \n",
    "    branches = tree.GetListOfBranches()\n",
    "\n",
    "    print('TTree branch names:')\n",
    "    print('-------------------')\n",
    "    for branch in branches:\n",
    "        print(branch.GetName())"
   ]
  },
  {
   "cell_type": "markdown",
   "metadata": {},
   "source": [
    "<br>\n",
    "\n",
    "Now we follow our usual analysis steps..."
   ]
  },
  {
   "cell_type": "markdown",
   "metadata": {},
   "source": [
    "### 1. Reading in ROOT files"
   ]
  },
  {
   "cell_type": "code",
   "execution_count": null,
   "metadata": {},
   "outputs": [],
   "source": [
    "#Dilepton data\n",
    "\n",
    "#More luminosity is available (B-D)! Add in at some point?\n",
    "data = ROOT.TFile.Open(\"https://atlas-opendata.web.cern.ch/atlas-opendata/samples/2020/2lep/Data/data_A.2lep.root\")\n",
    "dataTree = data.Get(\"mini\")\n",
    "print('Tree contains %d entries\\n' % dataTree.GetEntries())\n",
    "\n",
    "#Peek inside?\n",
    "view_branches = True #Set to True to look inside\n",
    "if view_branches: printTreeBranches(dataTree)"
   ]
  },
  {
   "cell_type": "code",
   "execution_count": null,
   "metadata": {},
   "outputs": [],
   "source": [
    "## qq->WW background (MC)\n",
    "\n",
    "bkg = ROOT.TFile.Open(\"https://atlas-opendata.web.cern.ch/atlas-opendata/samples/2020/2lep/MC/mc_363492.llvv.2lep.root\")\n",
    "bkgTree = bkg.Get(\"mini\")\n",
    "print('Tree contains %d entries\\n' % bkgTree.GetEntries()) #Will need to be scaled to number of data events\n",
    "\n",
    "#Peek inside?\n",
    "view_branches = False #Set to True to look inside\n",
    "if view_branches: printTreeBranches(bkgTree)"
   ]
  },
  {
   "cell_type": "markdown",
   "metadata": {},
   "source": [
    "### 2. Preparing histograms"
   ]
  },
  {
   "cell_type": "code",
   "execution_count": null,
   "metadata": {},
   "outputs": [],
   "source": [
    "c = ROOT.TCanvas(\"HWWCanvas\",\"Higgs->WW Analysis\",800,600)\n",
    "h_bgs = ROOT.TH1F(\"h_bgs\",\"Transverse mass mT; Transverse Mass m_{T} [GeV] ; events\",20,60,300)\n",
    "h_dat = ROOT.TH1F(\"h_dat\",\"Transverse mass mT; Transverse Mass m_{T} [GeV] ; events\",20,60,300)"
   ]
  },
  {
   "cell_type": "markdown",
   "metadata": {},
   "source": [
    "---"
   ]
  },
  {
   "cell_type": "markdown",
   "metadata": {},
   "source": [
    "### 3. Selecting events and filling histograms"
   ]
  },
  {
   "cell_type": "code",
   "execution_count": null,
   "metadata": {},
   "outputs": [],
   "source": [
    "def mcWeights(tree):\n",
    "    \"\"\"\n",
    "    When MC simulation is compared to data the contribution of each simulated event needs to be\n",
    "    scaled ('reweighted') to account for differences in how some objects behave in simulation\n",
    "    vs in data, as well as the fact that there are different numbers of events in the MC tree than \n",
    "    in the data tree.\n",
    "    \n",
    "    Parameters\n",
    "    ----------\n",
    "    tree : TTree entry for this event\n",
    "    \"\"\"\n",
    "    \n",
    "    return tree.scaleFactor_ELE*tree.scaleFactor_MUON*tree.scaleFactor_LepTRIGGER*tree.scaleFactor_PILEUP*tree.mcWeight"
   ]
  },
  {
   "cell_type": "code",
   "execution_count": null,
   "metadata": {},
   "outputs": [],
   "source": [
    "def goodLeptons(tree):\n",
    "    \"\"\"\n",
    "    A function to return the indices of 'good leptons' (electrons or muons) in an event. This follows \n",
    "    many of the same steps as locateGoodPhotons() and photonIsolation() above.\n",
    "    \n",
    "    Parameters\n",
    "    ----------\n",
    "    tree : TTree entry for this event\n",
    "    \"\"\"\n",
    "    \n",
    "    #Initialise (set up) the variables we want to return\n",
    "    goodlepton_index = [] #Indices (position in list of event's leptons) of our good leptons\n",
    "            \n",
    "    ##Loop through all the leptons in the event\n",
    "    for j in range(0,tree.lep_n):\n",
    "            \n",
    "        ##Check lepton ID\n",
    "        if(tree.lep_isTightID[j]):\n",
    "            \n",
    "                \n",
    "            #Check lepton isolation\n",
    "            #Similar to photonIsolation() above, different thresholds\n",
    "            if((tree.lep_ptcone30[j]/tree.lep_pt[j] < 0.1) and \n",
    "               (tree.lep_etcone20[j]/tree.lep_pt[j] < 0.1)):\n",
    "\n",
    "                #Only central leptons \n",
    "                #Electrons and muons have slightly different eta requirements\n",
    "\n",
    "                #Electrons: 'Particle type code' = 11\n",
    "                if tree.lep_type[j] == 11:\n",
    "                    \n",
    "                    #Check lepton eta is in the 'central' region and not in \"transition region\" \n",
    "                    if (TMath.Abs(tree.lep_eta[j]) < 2.37) and\\\n",
    "                       (TMath.Abs(tree.lep_eta[j]) < 1.37 or TMath.Abs(tree.lep_eta[j]) > 1.52): \n",
    "\n",
    "                        goodlepton_index.append(j) #Store lepton's index\n",
    "\n",
    "                    #Muons: 'Particle type code' = 13\n",
    "                    if (tree.lep_type[j] == 13) and (TMath.Abs(tree.lep_eta[j]) < 2.5): #Check'central' region\n",
    "\n",
    "                        goodlepton_index.append(j) #Store lepton's index\n",
    "\n",
    "\n",
    "        print (len(goodlepton_index))\n",
    "        return goodlepton_index #return list of good lepton indices"
   ]
  },
  {
   "cell_type": "code",
   "execution_count": null,
   "metadata": {},
   "outputs": [],
   "source": [
    "def hWW(tree,hist,mode):\n",
    "    \"\"\"\n",
    "    Function which executes the analysis flow for the Higgs production cross-section measurement in the H->WW\n",
    "    decay channel paper: https://arxiv.org/pdf/1808.09054.pdf\n",
    "    \n",
    "    Fills a histogram with mT(llvv) of events which pass the full set of cuts \n",
    "    \n",
    "    Parameters\n",
    "    ----------\n",
    "    tree : A Ttree containing data / background information\n",
    "    \n",
    "    hist : The name of the histogram to be filled with mT(llvv) values\n",
    "    \n",
    "    mode : A flag to tell the function if it is looping over 'data' or 'mc'\n",
    "    \"\"\"\n",
    "    \n",
    "    n = 0\n",
    "    sumWeights = 0\n",
    "    for event in tree:\n",
    "        \n",
    "        #############################\n",
    "        ### Event-level requirements\n",
    "        #############################\n",
    "    \n",
    "        trackProgress(n,100000)\n",
    "        n += 1\n",
    "        \n",
    "        #If event is MC: Reweight it\n",
    "        if mode.lower() == 'mc': weight = mcWeights(tree)\n",
    "        else: weight = 1\n",
    "            \n",
    "            \n",
    "        #If the event passes either the electron or muon trigger\n",
    "        if tree.trigE or tree.trigM:\n",
    "            \n",
    "            ####Lepton preselections\n",
    "            #goodLeps = goodLeptons(tree) #If the datafiles were not already filtered by number of leptons\n",
    "            goodLeps = [i for i in range(tree.lep_n)]\n",
    "\n",
    "            ###################################\n",
    "            ### Individual lepton requirements\n",
    "            ###################################\n",
    "\n",
    "            if len(goodLeps) == 2: #Exactly two good leptons...\n",
    "                lep1 = goodLeps[0] #INDICES of the good leptons\n",
    "                lep2 = goodLeps[1]\n",
    "\n",
    "                if tree.lep_type[lep1] != tree.lep_type[lep2]: #... with different flavour\n",
    "\n",
    "                    if tree.lep_charge[lep1] != tree.lep_charge[lep2]: #... and opposite charge...\n",
    "\n",
    "                        if (tree.lep_pt[lep1] > 22000) and (tree.lep_pt[lep2] > 15000): #pT requirements\n",
    "                            #Note TTrees always sort objects in descending pT order\n",
    "\n",
    "                            if abs(tree.lep_phi[lep1]-tree.lep_phi[lep2]) < 1.8: #lepton separtion in phi \n",
    "\n",
    "                                #################################\n",
    "                                ### Dilepton system requirements\n",
    "                                #################################\n",
    "\n",
    "                                #Initialse (set up) an empty 4 vector for dilepton system\n",
    "                                dilep_four_mmtm = ROOT.TLorentzVector()\n",
    "\n",
    "                                #Loop through our list of lepton indices\n",
    "                                for i in goodLeps:\n",
    "\n",
    "                                    #Initialse (set up) an empty 4 vector for each lepton\n",
    "                                    lep_i = ROOT.TLorentzVector()\n",
    "\n",
    "                                    #Retrieve the lepton's 4 momentum components from the tree\n",
    "                                    lep_i.SetPtEtaPhiE(tree.lep_pt[i], tree.lep_eta[i],tree.lep_phi[i],tree.lep_E[i])\n",
    "\n",
    "                                    #Store lepton's 4 momentum\n",
    "                                    dilep_four_mmtm += lep_i\n",
    "\n",
    "                                if (dilep_four_mmtm.M() > 10000) :#and (dilep_four_mmtm.M() < 55000):\n",
    "\n",
    "                                    #####################\n",
    "                                    ### MET requirements\n",
    "                                    #####################\n",
    "\n",
    "                                    #Initialse (set up) an empty 4 vector for the event's MET and fill from tree\n",
    "                                    met_four_mom = ROOT.TLorentzVector()\n",
    "                                    met_four_mom.SetPtEtaPhiE(tree.met_et,0,tree.met_phi,tree.met_et)\n",
    "\n",
    "                                    if met_four_mom.Pt() > 20000:\n",
    "\n",
    "                                        #####################\n",
    "                                        ### Full llvv system\n",
    "                                        #####################\n",
    "                                        \n",
    "\n",
    "                                        system_four_mom = dilep_four_mmtm + met_four_mom\n",
    "                                        hist.Fill(system_four_mom.Mt()/1000,weight)\n",
    "                                        sumWeights += weight\n",
    "                                        \n",
    "    \n",
    "    print('\\nSumweights:', sumWeights)\n",
    "                                        \n",
    "\n",
    "\n",
    "#Additional cuts applied by the paper:\n",
    "#----------------------------------\n",
    "#e,mu / lep,jet 'overlap removal'\n",
    "#Some extra selections based on jet multiplicity 'channels'\n",
    "\n",
    "#Also Nb-jet,(pT>20GeV)=0"
   ]
  },
  {
   "cell_type": "code",
   "execution_count": null,
   "metadata": {},
   "outputs": [],
   "source": [
    "#Data\n",
    "hWW(dataTree,h_dat,'data')"
   ]
  },
  {
   "cell_type": "code",
   "execution_count": null,
   "metadata": {},
   "outputs": [],
   "source": [
    "#Look at data histogram\n",
    "\n",
    "h_dat.SetFillStyle(3003)\n",
    "h_dat.SetFillColor(2)\n",
    "h_dat.SetLineColor(2)\n",
    "\n",
    "h_dat.Draw(\"hist\")\n",
    "c.Draw()"
   ]
  },
  {
   "cell_type": "code",
   "execution_count": null,
   "metadata": {},
   "outputs": [],
   "source": [
    "#MC \n",
    "hWW(bkgTree,h_bgs,'mc')"
   ]
  },
  {
   "cell_type": "code",
   "execution_count": null,
   "metadata": {},
   "outputs": [],
   "source": [
    "#Look at MC histogram\n",
    "\n",
    "h_bgs.SetFillStyle(3001)\n",
    "h_bgs.SetFillColor(4)\n",
    "h_bgs.SetLineColor(4)\n",
    "\n",
    "h_bgs.Draw(\"hist\")\n",
    "c.Draw()"
   ]
  },
  {
   "cell_type": "markdown",
   "metadata": {},
   "source": [
    "---"
   ]
  },
  {
   "cell_type": "markdown",
   "metadata": {},
   "source": [
    "### 4. Draw (final) plots"
   ]
  },
  {
   "cell_type": "code",
   "execution_count": null,
   "metadata": {},
   "outputs": [],
   "source": [
    "#Scale MC histogram\n",
    "\n",
    "mcScale = 0.1*dataTree.GetEntries()/(bkgTree.GetEntries())\n",
    "print('MC event weight = %0.4f' % mcScale)\n",
    "\n",
    "h_bgs_scale = h_bgs.Clone(\"scale\")\n",
    "h_bgs_scale.Scale(mcScale)"
   ]
  },
  {
   "cell_type": "code",
   "execution_count": null,
   "metadata": {},
   "outputs": [],
   "source": [
    "#Draw histograms on same canvas\n",
    "\n",
    "h_dat.Draw(\"hist\")\n",
    "h_bgs_scale.Draw(\"histsame\")\n",
    "\n",
    "h_dat.SetStats(0)\n",
    "h_bgs_scale.SetStats(0)\n",
    "\n",
    "legend=ROOT.TLegend(0.5,0.7,0.9,0.9)\n",
    "legend.AddEntry(h_bgs_scale,\"Background (WW) \",\"l\")\n",
    "legend.AddEntry(h_dat,\"Data\",\"l\")\n",
    "legend.Draw()\n",
    "\n",
    "c.Draw()"
   ]
  },
  {
   "cell_type": "code",
   "execution_count": null,
   "metadata": {},
   "outputs": [],
   "source": [
    "#Subtract the two histograms\n",
    "\n",
    "h_diff = h_dat.Clone(\"diff\")\n",
    "h_diff.Add(h_bgs_scale,-1)"
   ]
  },
  {
   "cell_type": "code",
   "execution_count": null,
   "metadata": {},
   "outputs": [],
   "source": [
    "#Plot the subtracted histogram\n",
    "\n",
    "h_diff.SetFillStyle(3001)\n",
    "h_diff.SetFillColor(8)\n",
    "h_diff.SetLineColor(8)\n",
    "h_diff.SetStats(0)\n",
    "#h_diff.SetMinimum(10)\n",
    "\n",
    "h_diff.Draw(\"hist\")\n",
    "c.Draw()"
   ]
  },
  {
   "cell_type": "markdown",
   "metadata": {},
   "source": [
    "## Extension exercises\n",
    "\n",
    "a) Adding more data will improve the precision of our measurement: Without clearing the histogram, loop through the data trees for the dataB-D files in same folder as `data_A.2lep.root`.\n",
    "\n",
    "\n",
    "b) This estimation of the strength of our Higgs signal is actually rather overoptimistic! This is because we are only accounting for one background (albeit the strongest one). The next-strongest background is top quark production, identified by the presence of **bjets** (showers of strongly interacting particles originating from a bottom quark), which themselves are identified by the `jet` `MV2c10` algorithm. \n",
    " - Adjust the `hWW()` function to only allow through events if there is no jet with an `MV2c10` score > 0.18 (indicating the likelihood a jet is a bjet), in the central region ($|\\eta|<2.5$) with a $p_T > 20$ GeV.\n",
    " \n",
    "c) Another large background to the $H\\rightarrow WW$ process comes from top quarks.\n",
    "- Seach in the [Open Data repository](https://atlas-opendata.web.cern.ch/atlas-opendata/samples/2020) for some simiulated top quark production data.\n",
    "- Initialise a histogram for your top data, apply your analysis cuts and fill the histogram\n",
    "- Think of the best way to display your results on a histogram"
   ]
  },
  {
   "cell_type": "markdown",
   "metadata": {},
   "source": [
    "<details>\n",
    "    <summary>Click here for plotting hint 1: </summary>\n",
    "    Sum your background histograms togther (similar to the subtraction) and adjust your plot legend, or..\n",
    "</details>"
   ]
  },
  {
   "cell_type": "markdown",
   "metadata": {},
   "source": [
    "<details>\n",
    "    <summary>Click here for plotting hint 2: </summary>\n",
    "    Investigate ROOT's TStack functionality: https://root.cern.ch/doc/master/classTHStack.html\n",
    "</details>"
   ]
  },
  {
   "cell_type": "markdown",
   "metadata": {},
   "source": [
    "---"
   ]
  }
 ],
 "metadata": {
  "kernelspec": {
   "display_name": "Python 3 (ipykernel)",
   "language": "python",
   "name": "python3"
  },
  "language_info": {
   "codemirror_mode": {
    "name": "ipython",
    "version": 3
   },
   "file_extension": ".py",
   "mimetype": "text/x-python",
   "name": "python",
   "nbconvert_exporter": "python",
   "pygments_lexer": "ipython3",
   "version": "3.7.6"
  }
 },
 "nbformat": 4,
 "nbformat_minor": 4
}
