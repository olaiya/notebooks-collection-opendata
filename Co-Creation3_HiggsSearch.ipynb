{
 "cells": [
  {
   "cell_type": "markdown",
   "metadata": {},
   "source": [
    "<CENTER><img src=\"images/logos.png\" style=\"width:50%\"></CENTER>"
   ]
  },
  {
   "cell_type": "markdown",
   "metadata": {},
   "source": [
    "<CENTER><h1>Searching for the Higgs boson </h1></CENTER>\n",
    "\n",
    "\n",
    "Below are some Feyman diagrams of ways the Higgs boson can be produced according to the Standard Model:\n",
    "\n",
    "<br>\n",
    "\n",
    "<CENTER><img src=\"https://cds.cern.ch/record/2243593/files/Figures_FeynmanHprod.png\" style=\"width:50%\"></CENTER>"
   ]
  },
  {
   "cell_type": "markdown",
   "metadata": {},
   "source": [
    "Just as the Higgs can be produced in several ways, the Higgs can also decay in a number of ways or 'channels'. In this excercise, we will be searching for the Higgs in two different decay channels."
   ]
  },
  {
   "cell_type": "markdown",
   "metadata": {},
   "source": [
    "---"
   ]
  },
  {
   "cell_type": "markdown",
   "metadata": {},
   "source": [
    "### Before we begin:\n",
    "\n",
    "- Some of the datafiles used in this notebook have millions of events - Don't be surpised if running certain event loops takes up to 10 mins (or longer)!\n",
    "\n",
    "- This notebook is designed to give you an idea of how a real physics analysis is set up. Study it carefully to help with your own research!\n",
    "\n",
    "- The two analyses presented in this notebooks are inspired by the [prompts](http://opendata.atlas.cern/release/2020/documentation/physics/intro.html) on the ATLAS Open Data website. \n",
    "    - This is a great place to start for ideas for your own research!"
   ]
  },
  {
   "cell_type": "markdown",
   "metadata": {},
   "source": [
    "---"
   ]
  },
  {
   "cell_type": "markdown",
   "metadata": {},
   "source": [
    "<CENTER><h2>Search 1: The H&#8594;&gamma;&gamma; channel</h2></CENTER>"
   ]
  },
  {
   "cell_type": "markdown",
   "metadata": {},
   "source": [
    "<CENTER><img src=\"./images/higgsFD.png\" style=\"width:30%\"></CENTER>\n",
    "\n",
    "<br>\n",
    "  \n",
    "One of the ways the Higgs can decay is to two photons. We call this channel __H&#8594;&gamma;&gamma;__ (\"Higgs to gamma gamma\").\n",
    "\n",
    "\n",
    "Of course, there are other ways two photons can be made in the LHC, but if we look at the entire range of invariant masses of these two photons, we should expect there to be more of them around 125 GeV, the mass of the Higgs (\"bump hunting\")."
   ]
  },
  {
   "cell_type": "markdown",
   "metadata": {},
   "source": [
    "### This analysis is inspired by the prompt on the Open Data website [here](http://opendata.atlas.cern/release/2020/documentation/physics/YY.html)."
   ]
  },
  {
   "cell_type": "markdown",
   "metadata": {},
   "source": [
    "#### Importing the usual libraries"
   ]
  },
  {
   "cell_type": "code",
   "execution_count": 1,
   "metadata": {},
   "outputs": [
    {
     "name": "stdout",
     "output_type": "stream",
     "text": [
      "Welcome to JupyROOT 6.18/04\n"
     ]
    }
   ],
   "source": [
    "import ROOT\n",
    "from ROOT import TMath"
   ]
  },
  {
   "cell_type": "markdown",
   "metadata": {},
   "source": [
    "### 1. Reading in ROOT files\n",
    "<br>\n",
    "In the usual way:\n",
    "\n",
    "1. Open our datafile containing two photon (\"diphoton\" or $\\gamma\\gamma$) events \n",
    "\n",
    "2. Retrieive the TTree storing the data and \n",
    "\n",
    "3. Get the tree entries \n",
    "\n",
    "<br>\n",
    "\n",
    "As always, if you need hints, refer back to the first tutorial `HistogramTutorial`."
   ]
  },
  {
   "cell_type": "markdown",
   "metadata": {},
   "source": [
    "#### a) Open Root File\n",
    "\n",
    "Using `ROOT`, `TFile.Open()` a sample of diphoton data, stored at \n",
    "\n",
    "`https://atlas-opendata.web.cern.ch/atlas-opendata/samples/2020/GamGam/Data/data_A.GamGam.root`\n",
    "\n",
    " "
   ]
  },
  {
   "cell_type": "code",
   "execution_count": 26,
   "metadata": {},
   "outputs": [],
   "source": [
    "f = ROOT.TFile.Open(\"https://atlas-opendata.web.cern.ch/atlas-opendata/samples/2020/GamGam/Data/data_A.GamGam.root\")"
   ]
  },
  {
   "cell_type": "markdown",
   "metadata": {},
   "source": [
    "#### b) Retrieve TTree\n",
    "\n",
    "`Get()` the TTree named `mini` from the ROOT file `f`"
   ]
  },
  {
   "cell_type": "code",
   "execution_count": 27,
   "metadata": {},
   "outputs": [],
   "source": [
    "tree = f.Get(\"mini\")"
   ]
  },
  {
   "cell_type": "markdown",
   "metadata": {},
   "source": [
    "#### c) Load TTree data\n",
    "\n",
    "`GetEntries()` of our `tree` to print the number of events in the tree as a check that the data has loaded properly"
   ]
  },
  {
   "cell_type": "code",
   "execution_count": null,
   "metadata": {},
   "outputs": [],
   "source": [
    "tree.GetEntries()"
   ]
  },
  {
   "cell_type": "markdown",
   "metadata": {},
   "source": [
    "### 2. Preparing histograms\n",
    "<br>\n",
    "\n",
    "As in previous examples, before we are ready to fill our histograms we need to:\n",
    "\n",
    "1. Create a canvas for the histogram to be drawn onto\n",
    "\n",
    "2. Define the settings of the histograms we intend to draw"
   ]
  },
  {
   "cell_type": "markdown",
   "metadata": {},
   "source": [
    "#### a) Create canvas\n",
    "\n",
    "Using `ROOT`, create a `TCanvas` named `\"Canvas\"` with the title `'cz'` that's sized `800`x`600` pixels"
   ]
  },
  {
   "cell_type": "code",
   "execution_count": null,
   "metadata": {},
   "outputs": [],
   "source": [
    "canvas = ROOT.TCanvas(\"Canvas\",\"cz\",800,600)"
   ]
  },
  {
   "cell_type": "markdown",
   "metadata": {},
   "source": [
    "#### b) Set up histogram \n",
    "\n",
    "Set up a `TH1F` type histogram to be filled with our __diphoton invariant masses__. Name it `h_M_Hyy`, give it the title `Diphoton invariant-mass`, label the x and y axes `Invariant Mass m_{yy} [GeV]` and `events` respectively and divide it in `30` bins between `105` and `160` GeV.\n",
    "\n",
    "__Hint:__ Remember how we separate names, titles and axis labels in the `TH1F` function?"
   ]
  },
  {
   "cell_type": "code",
   "execution_count": null,
   "metadata": {},
   "outputs": [],
   "source": [
    "#Invariant mass histograms definition\n",
    "hist = ROOT.TH1F(\"h_M_Hyy\",\"Diphoton invariant-mass ; Invariant Mass m_{yy} [GeV] ; events\",30,105,160)"
   ]
  },
  {
   "cell_type": "markdown",
   "metadata": {},
   "source": [
    "### 3. Selecting events and filling histograms"
   ]
  },
  {
   "cell_type": "markdown",
   "metadata": {},
   "source": [
    "Our strategy, for filling our diphoton invariant mass histogram is as follows:\n",
    "\n",
    "1. Loop through each `event` in our `tree`. We can print out how many events have been processed every 100000 events to keep track of progress.\n",
    "\n",
    "2. In each event, search for _'good quality photons'_ (more on this later).\n",
    "\n",
    "3. If there are exactly two qood quality photons, check that they are _'well isolated'_ (again, more later).\n",
    "\n",
    "4. If the two photons are well-isolated, extract their 4 momentum from the the pT, eta, phi and energy TTree branches, and store in a TLorentz vector. Make sure to convert their transverse momentum (pT) and energy (E) from MeV, as is stored in the TTree, to GeV as will be displayed in the histogram.\n",
    "\n",
    "5. Add the TLorentz vectors of the two photons together\n",
    "\n",
    "6. Calculate the invariant mass of our two-photon system\n",
    "\n",
    "6. Check each photon makes up a minimum fraction of the diphoton system invariant mass\n",
    "\n",
    "8. Fill the histogram with the invariant mass of our two-photon system"
   ]
  },
  {
   "cell_type": "markdown",
   "metadata": {},
   "source": [
    "__NOTE:__ To simplify our code, we will be writing some custom __functions__ to perform each of the above operations."
   ]
  },
  {
   "cell_type": "markdown",
   "metadata": {},
   "source": [
    "#### 1) Loop tracker"
   ]
  },
  {
   "cell_type": "code",
   "execution_count": 2,
   "metadata": {},
   "outputs": [],
   "source": [
    "def trackProgress(n,m):\n",
    "    \"\"\"\n",
    "    Function which prints the event loop progress every m events \n",
    "    \n",
    "    Parameters\n",
    "    ----------\n",
    "    n : Number of events processed so far\n",
    "    \n",
    "    m : Printout event interval\n",
    "    \n",
    "    \"\"\"\n",
    "    if n == 0:\n",
    "        print(\"Event loop tracker\")\n",
    "        print(\"------------------\")\n",
    "    \n",
    "    if(n%m==0):\n",
    "        print(\"%d events processed\" % n)"
   ]
  },
  {
   "cell_type": "markdown",
   "metadata": {},
   "source": [
    "#### 2) Photon quality"
   ]
  },
  {
   "cell_type": "code",
   "execution_count": 3,
   "metadata": {},
   "outputs": [],
   "source": [
    "def locateGoodPhotons(tree):\n",
    "    \"\"\"\n",
    "    Function which returns the index of photons in the event which pass our quality requirements.\n",
    "    These are:\n",
    "        - Event passes photon trigger\n",
    "        - Photon is identified as such, passing 'Tight' requirements \n",
    "            - This means we are very sure our photon is indeed a photon, but we might lose some photons that are \n",
    "              less obvious in the process. The opposite of this is the 'Loose' requirement, where we are less\n",
    "              sure that our photon is a photon, but we are less likely to miss real ones .\n",
    "        - Photon has pT > 25 GeV (or 25000 MeV)\n",
    "        - Photon is in the 'central' region of ATLAS i.e. it has |eta| < 2.37\n",
    "        - Photon does not fall in the 'transition region' between ATLAS's inner detector barrell\n",
    "          and ECal endcap i.e. 1.37 <= |eta| <= 1.52\n",
    "          \n",
    "    Parameters\n",
    "    ----------\n",
    "    tree : TTree entry for this event\n",
    "    \n",
    "    \"\"\"\n",
    "    \n",
    "    ## Checking the event passes the photon trigger\n",
    "    if(tree.trigP):\n",
    "        \n",
    "        #Initialise (set up) the variables we want to return\n",
    "        goodphoton_index = [] #Indices (position in list of event's photons) of our good photons\n",
    "            \n",
    "        ##Loop through all the photons in the event\n",
    "        for j in range(0,tree.photon_n):\n",
    "            \n",
    "            ##Check photon ID\n",
    "            if(tree.photon_isTightID[j]):\n",
    "                \n",
    "                #Check photon has a large enough pT\n",
    "                if (j==0 and tree.photon_pt[j] > 35000) or (j==1 and tree.photon_pt[j] > 25000):\n",
    "                    \n",
    "                    #Check photon eta is in the 'central' region\n",
    "                    if (TMath.Abs(tree.photon_eta[j]) < 2.37):\n",
    "                  \n",
    "                      #Exclude \"transition region\" between ID barrell and ECal endcap\n",
    "                      if (TMath.Abs(tree.photon_eta[j]) < 1.37 or TMath.Abs(tree.photon_eta[j]) > 1.52):\n",
    "\n",
    "                        goodphoton_index.append(j) #Store photon's index\n",
    "                    \n",
    "        return goodphoton_index #return list of good photon indices"
   ]
  },
  {
   "cell_type": "markdown",
   "metadata": {},
   "source": [
    "#### 3) Photon isolation"
   ]
  },
  {
   "cell_type": "code",
   "execution_count": 4,
   "metadata": {},
   "outputs": [],
   "source": [
    "def photonIsolation(tree,photon_indices):\n",
    "    \"\"\"\n",
    "    Function which returns True if all photons are well-isolated, otherwise returns false.\n",
    "    \n",
    "    A photon is considered 'isolated' if the transverse momentum and transverse energy in the detector, within \n",
    "    a particular radius around the photon (variables called 'ptcone30' and 'etcone20'), is below a certain threshold compared to the photon's \n",
    "    transverse momentum (don't worry too much about the details!).\n",
    "    \n",
    "    Parameters\n",
    "    ----------\n",
    "    tree : TTree entry for this event\n",
    "    \n",
    "    photon_indices : List containing the indices in the TTree of our photons of interest\n",
    "    \n",
    "    \"\"\"\n",
    "    \n",
    "    #Loop through our list of photon indices\n",
    "    for i in photon_indices:\n",
    "        \n",
    "        #If each photon passes isolation requirements...\n",
    "        if((tree.photon_ptcone30[i]/tree.photon_pt[i] < 0.065) and \n",
    "           (tree.photon_etcone20[i] / tree.photon_pt[i] < 0.065)):\n",
    "            continue #...keep the loop going \n",
    "        \n",
    "        #If any fail, break the loop and return False\n",
    "        else: \n",
    "            return False\n",
    "    \n",
    "    #If the loop is able to finish, i.e. all photons are well-isolated, return True\n",
    "    return True"
   ]
  },
  {
   "cell_type": "markdown",
   "metadata": {},
   "source": [
    "#### 4) Extracting four-momentum"
   ]
  },
  {
   "cell_type": "code",
   "execution_count": 5,
   "metadata": {},
   "outputs": [],
   "source": [
    "def photonFourMomentum(tree, photon_indices):\n",
    "    \"\"\"\n",
    "    Function which returns the 4 momenta of a list of photons in an event as a list of TLorentzVectors\n",
    "    \n",
    "    Parameters\n",
    "    ----------\n",
    "    tree : TTree entry for this event\n",
    "    \n",
    "    photon_indices : List containing the indices in the TTree of our photons of interest\n",
    "    \n",
    "    \"\"\"\n",
    "    \n",
    "    photon_four_momenta = []\n",
    "    \n",
    "    #Loop through our list of photon indices\n",
    "    for i in photon_indices:\n",
    "    \n",
    "        #Initialse (set up) an empty 4 vector for each photon\n",
    "        Photon_i = ROOT.TLorentzVector()\n",
    "        \n",
    "        #Retrieve the photon's 4 momentum components from the tree\n",
    "        #Convert from MeV to GeV where needed by dividing by 1000\n",
    "        Photon_i.SetPtEtaPhiE(tree.photon_pt[i]/1000., tree.photon_eta[i],tree.photon_phi[i],tree.photon_E[i]/1000.)\n",
    "        \n",
    "        #Store photon's 4 momentum\n",
    "        photon_four_momenta.append(Photon_i)\n",
    "        \n",
    "        \n",
    "    return photon_four_momenta"
   ]
  },
  {
   "cell_type": "markdown",
   "metadata": {},
   "source": [
    "#### 5) Sum the 4 momenta of each photon in the event"
   ]
  },
  {
   "cell_type": "code",
   "execution_count": 6,
   "metadata": {},
   "outputs": [],
   "source": [
    "def sumFourMomentum(four_momenta):\n",
    "    \"\"\"\n",
    "    Function which sums a list of four-momenta, and returns the resultant four-momentum of the system\n",
    "    \n",
    "    Parameters\n",
    "    ----------\n",
    "    four_momenta : List of TLorentzVectors containing the four-momentum of each object in the system\n",
    "    \n",
    "    \"\"\"\n",
    "    \n",
    "    # Initialise (set up) TLorentzVector for our momentum sum\n",
    "    four_mom_sum = ROOT.TLorentzVector()\n",
    "    \n",
    "    for obj in four_momenta:\n",
    "        four_mom_sum += obj\n",
    "        \n",
    "    return four_mom_sum"
   ]
  },
  {
   "cell_type": "markdown",
   "metadata": {},
   "source": [
    "### Putting it all together!"
   ]
  },
  {
   "cell_type": "code",
   "execution_count": null,
   "metadata": {},
   "outputs": [],
   "source": [
    "n = 0\n",
    "for event in tree:\n",
    "    \n",
    "    #1) Loop progress tracking: Print progress every 100,000 events\n",
    "    trackProgress(n,100000)\n",
    "    n += 1\n",
    "    \n",
    "    #2) Identify exactly two 'good quality photons'\n",
    "    goodphoton_indices = locateGoodPhotons(tree)\n",
    "    \n",
    "    if len(goodphoton_indices) == 2:\n",
    "        \n",
    "        #3) Check our good quality photons are well-isolated\n",
    "        photons_are_isolated = photonIsolation(tree,goodphoton_indices)\n",
    "        \n",
    "        if photons_are_isolated:\n",
    "        \n",
    "            #4) Convert 4-momentum from MeV to GeV\n",
    "            photon_four_momenta = photonFourMomentum(tree, goodphoton_indices)\n",
    "            \n",
    "            #5) Add the 4-momenta together\n",
    "            Photon_12 = sumFourMomentum(photon_four_momenta)\n",
    "            \n",
    "            #6) Calculate the diphoton invariant mass\n",
    "            inv_mass = Photon_12.M() #Calculated invariant mass\n",
    "            \n",
    "            #7) Check each photon makes up a minimum fraction of the diphoton system invariant mass\n",
    "            if ((tree.photon_pt[0]/inv_mass) > 0.35) and ((tree.photon_pt[1]/inv_mass) > 0.25):\n",
    "                \n",
    "                #8) Fill histogram with invariant mass\n",
    "                hist.Fill(inv_mass) "
   ]
  },
  {
   "cell_type": "markdown",
   "metadata": {},
   "source": [
    "### 4. Draw plots\n",
    "\n",
    "Finally, we would like to draw our diphoton invariant mass histograms and display the canvas showing our results. \n",
    "\n",
    "For this study, we would also like to plot the __error bars__ for each bin to illustrate the (statistical) __uncertainties__ on our measurement. This is done by passing `\"E\"` as an argument to `Draw()` when drawing the _histogram_."
   ]
  },
  {
   "cell_type": "code",
   "execution_count": null,
   "metadata": {},
   "outputs": [],
   "source": [
    "hist.Draw(\"E\")\n",
    "canvas.Draw()"
   ]
  },
  {
   "cell_type": "markdown",
   "metadata": {},
   "source": [
    "### Some questions to think about...\n",
    "\n",
    "1. Can we say we have 'found' the Higgs based on these histograms alone? Why/why not?"
   ]
  },
  {
   "cell_type": "markdown",
   "metadata": {},
   "source": [
    "<details>\n",
    "    <summary>Click here for hint: </summary>\n",
    "    To have \"found\" the Higgs, we would need to see an obvious bump above the background at 125 GeV, the mass of the Higgs. Do we see this in the histogram we've just made?\n",
    "</details>"
   ]
  },
  {
   "cell_type": "markdown",
   "metadata": {},
   "source": [
    "2. What steps could we take to make our search for the Higgs more robust?"
   ]
  },
  {
   "cell_type": "markdown",
   "metadata": {},
   "source": [
    "<details>\n",
    "    <summary>Click here for hint: </summary>\n",
    "    Take a look in the directory containing our diphoton data. Are there more files available? What would be the effect of adding more files to the analysis?\n",
    "    \n",
    "    https://atlas-opendata.web.cern.ch/atlas-opendata/samples/2020/GamGam/Data/\n",
    "</details>"
   ]
  },
  {
   "cell_type": "markdown",
   "metadata": {},
   "source": [
    "### Over to you!"
   ]
  },
  {
   "cell_type": "markdown",
   "metadata": {},
   "source": [
    "<details>\n",
    "    <summary>When you have thought about your answers to the questions above, click here to reveal your execise: </summary>\n",
    "    Reapeat the above analysis, this time using all four diphoton datafiles, each filling the same histogram. Is the bump clearer now?\n",
    "</details>"
   ]
  },
  {
   "cell_type": "markdown",
   "metadata": {},
   "source": [
    "_If you are having trouble, click the boxes below for help with the individual steps_"
   ]
  },
  {
   "cell_type": "markdown",
   "metadata": {},
   "source": [
    "<details>\n",
    "    <summary> Loading in multiple ROOT files </summary>\n",
    "    \n",
    "    fa = ROOT.TFile.Open(\"https://atlas-opendata.web.cern.ch/atlas-opendata/samples/2020/GamGam/Data/data_A.GamGam.root\")\n",
    "    fb = ROOT.TFile.Open(\"https://atlas-opendata.web.cern.ch/atlas-opendata/samples/2020/GamGam/Data/data_B.GamGam.root\")\n",
    "    fc = ROOT.TFile.Open(\"https://atlas-opendata.web.cern.ch/atlas-opendata/samples/2020/GamGam/Data/data_C.GamGam.root\")\n",
    "    fd = ROOT.TFile.Open(\"https://atlas-opendata.web.cern.ch/atlas-opendata/samples/2020/GamGam/Data/data_D.GamGam.root\")\n",
    "\n",
    "    my_files = [fa,fb,fc,fd]\n",
    "</details>"
   ]
  },
  {
   "cell_type": "code",
   "execution_count": null,
   "metadata": {},
   "outputs": [],
   "source": [
    "fa = ROOT.TFile.Open(\"https://atlas-opendata.web.cern.ch/atlas-opendata/samples/2020/GamGam/Data/data_A.GamGam.root\")\n",
    "fb = ROOT.TFile.Open(\"https://atlas-opendata.web.cern.ch/atlas-opendata/samples/2020/GamGam/Data/data_B.GamGam.root\")\n",
    "fc = ROOT.TFile.Open(\"https://atlas-opendata.web.cern.ch/atlas-opendata/samples/2020/GamGam/Data/data_C.GamGam.root\")\n",
    "fd = ROOT.TFile.Open(\"https://atlas-opendata.web.cern.ch/atlas-opendata/samples/2020/GamGam/Data/data_D.GamGam.root\")\n",
    "\n",
    "my_files = [fa,fb,fc,fd]"
   ]
  },
  {
   "cell_type": "markdown",
   "metadata": {},
   "source": [
    "<details>\n",
    "    <summary>Setting up a fresh histogram and canvas: </summary>\n",
    "    \n",
    "    my_canvas = ROOT.TCanvas(\"My_Canvas\",\"my_cz\",800,600)\n",
    "    my_hist = ROOT.TH1F(\"h_M_Hyy\",\"Diphoton invariant-mass ; Invariant Mass m_{yy} [GeV] ; events\",30,105,160)\n",
    "    \n",
    "Remember to give each one a new name!\n",
    "</details>"
   ]
  },
  {
   "cell_type": "code",
   "execution_count": 62,
   "metadata": {},
   "outputs": [
    {
     "name": "stderr",
     "output_type": "stream",
     "text": [
      "Warning in <TCanvas::Constructor>: Deleting canvas with same name: My_Canvas\n"
     ]
    }
   ],
   "source": [
    "my_canvas = ROOT.TCanvas(\"My_Canvas\",\"my_cz\",800,600)\n",
    "my_hist = ROOT.TH1F(\"h_M_Hyy\",\"Diphoton invariant-mass ; Invariant Mass m_{yy} [GeV] ; events\",30,105,160)"
   ]
  },
  {
   "cell_type": "markdown",
   "metadata": {},
   "source": [
    "<details>\n",
    "    <summary>Adjust the event loop to loop over each file as well as each event </summary>\n",
    "    This is ONLY ONE way to do it\n",
    "\n",
    "    for i in range(0,len(my_files)):\n",
    "        file_i = my_files[i]\n",
    "        tree_i = file_i.Get(\"mini\")\n",
    "\n",
    "        print(\"\\nProcessing file %d, which conatins %d events\\n\" % (i+1,tree_i.GetEntries()))\n",
    "\n",
    "        #Now repeat the analysis loop from above, making sure to change the name of the tree and the histogram\n",
    "        n = 0\n",
    "        for event in tree_i:\n",
    "\n",
    "            #1) Loop progress tracking: Print progress every 100,000 events\n",
    "            trackProgress(n,100000)\n",
    "            n += 1\n",
    "\n",
    "            #2) Identify exactly two 'good quality photons'\n",
    "            goodphoton_indices = locateGoodPhotons(tree_i)\n",
    "\n",
    "            if len(goodphoton_indices) == 2:\n",
    "\n",
    "                #3) Check our good quality photons are well-isolated\n",
    "                photons_are_isolated = photonIsolation(tree_i,goodphoton_indices)\n",
    "\n",
    "                if photons_are_isolated:\n",
    "\n",
    "                    #4) Convert 4-momentum from MeV to GeV\n",
    "                    photon_four_momenta = photonFourMomentum(tree_i, goodphoton_indices)\n",
    "\n",
    "                    #5) Add the 4-momenta together\n",
    "                    Photon_12 = sumFourMomentum(photon_four_momenta)\n",
    "\n",
    "                    #6) Calculate the diphoton invariant mass\n",
    "                    inv_mass = Photon_12.M() #Calculated invariant mass\n",
    "\n",
    "                    #7) Check each photon makes up a minimum fraction of the diphoton system invariant mass\n",
    "                    if ((tree_i.photon_pt[0]/inv_mass) > 0.35) and ((tree_i.photon_pt[1]/inv_mass) > 0.25):\n",
    "\n",
    "                        #8) Fill histogram with invariant mass\n",
    "                        my_hist.Fill(inv_mass)\n",
    "\n",
    "        print('\\nFinished file %d!\\n' % (i+1))\n",
    "    \n",
    "Feel free to add extra printouts (like above) to help with progress tracking\n",
    "</details>"
   ]
  },
  {
   "cell_type": "code",
   "execution_count": 63,
   "metadata": {},
   "outputs": [
    {
     "name": "stdout",
     "output_type": "stream",
     "text": [
      "\n",
      "Processing file 1, which conatins 430344 events\n",
      "\n",
      "Event loop tracker\n",
      "------------------\n",
      "0 events processed\n",
      "100000 events processed\n",
      "200000 events processed\n",
      "300000 events processed\n",
      "400000 events processed\n",
      "\n",
      "Finished file 1!\n",
      "\n",
      "\n",
      "Processing file 2, which conatins 1528717 events\n",
      "\n",
      "Event loop tracker\n",
      "------------------\n",
      "0 events processed\n",
      "100000 events processed\n",
      "200000 events processed\n",
      "300000 events processed\n",
      "400000 events processed\n",
      "500000 events processed\n",
      "600000 events processed\n",
      "700000 events processed\n",
      "800000 events processed\n",
      "900000 events processed\n",
      "1000000 events processed\n",
      "1100000 events processed\n",
      "1200000 events processed\n",
      "1300000 events processed\n",
      "1400000 events processed\n",
      "1500000 events processed\n",
      "\n",
      "Finished file 2!\n",
      "\n",
      "\n",
      "Processing file 3, which conatins 2237187 events\n",
      "\n",
      "Event loop tracker\n",
      "------------------\n",
      "0 events processed\n",
      "100000 events processed\n",
      "200000 events processed\n",
      "300000 events processed\n",
      "400000 events processed\n",
      "500000 events processed\n",
      "600000 events processed\n",
      "700000 events processed\n",
      "800000 events processed\n",
      "900000 events processed\n",
      "1000000 events processed\n",
      "1100000 events processed\n",
      "1200000 events processed\n",
      "1300000 events processed\n",
      "1400000 events processed\n",
      "1500000 events processed\n",
      "1600000 events processed\n",
      "1700000 events processed\n",
      "1800000 events processed\n",
      "1900000 events processed\n",
      "2000000 events processed\n",
      "2100000 events processed\n",
      "2200000 events processed\n",
      "\n",
      "Finished file 3!\n",
      "\n",
      "\n",
      "Processing file 4, which conatins 3602176 events\n",
      "\n",
      "Event loop tracker\n",
      "------------------\n",
      "0 events processed\n",
      "100000 events processed\n",
      "200000 events processed\n",
      "300000 events processed\n",
      "400000 events processed\n",
      "500000 events processed\n",
      "600000 events processed\n",
      "700000 events processed\n",
      "800000 events processed\n",
      "900000 events processed\n",
      "1000000 events processed\n",
      "1100000 events processed\n",
      "1200000 events processed\n",
      "1300000 events processed\n",
      "1400000 events processed\n",
      "1500000 events processed\n",
      "1600000 events processed\n",
      "1700000 events processed\n",
      "1800000 events processed\n",
      "1900000 events processed\n",
      "2000000 events processed\n",
      "2100000 events processed\n",
      "2200000 events processed\n",
      "2300000 events processed\n",
      "2400000 events processed\n",
      "2500000 events processed\n",
      "2600000 events processed\n",
      "2700000 events processed\n",
      "2800000 events processed\n",
      "2900000 events processed\n",
      "3000000 events processed\n",
      "3100000 events processed\n",
      "3200000 events processed\n",
      "3300000 events processed\n",
      "3400000 events processed\n",
      "3500000 events processed\n",
      "3600000 events processed\n",
      "\n",
      "Finished file 4!\n",
      "\n"
     ]
    }
   ],
   "source": [
    "for i in range(0,len(my_files)):\n",
    "    file_i = my_files[i]\n",
    "    tree_i = file_i.Get(\"mini\")\n",
    "    \n",
    "    print(\"\\nProcessing file %d, which conatins %d events\\n\" % (i+1,tree_i.GetEntries()))\n",
    "    \n",
    "    #Now repeat the analysis loop from above, making sure to change the name of the tree and the histogram\n",
    "    n = 0\n",
    "    for event in tree_i:\n",
    "\n",
    "        #1) Loop progress tracking: Print progress every 100,000 events\n",
    "        trackProgress(n,100000)\n",
    "        n += 1\n",
    "\n",
    "        #2) Identify exactly two 'good quality photons'\n",
    "        goodphoton_indices = locateGoodPhotons(tree_i)\n",
    "\n",
    "        if len(goodphoton_indices) == 2:\n",
    "\n",
    "            #3) Check our good quality photons are well-isolated\n",
    "            photons_are_isolated = photonIsolation(tree_i,goodphoton_indices)\n",
    "\n",
    "            if photons_are_isolated:\n",
    "\n",
    "                #4) Convert 4-momentum from MeV to GeV\n",
    "                photon_four_momenta = photonFourMomentum(tree_i, goodphoton_indices)\n",
    "\n",
    "                #5) Add the 4-momenta together\n",
    "                Photon_12 = sumFourMomentum(photon_four_momenta)\n",
    "\n",
    "                #6) Calculate the diphoton invariant mass\n",
    "                inv_mass = Photon_12.M() #Calculated invariant mass\n",
    "                \n",
    "                #7) Check each photon makes up a minimum fraction of the diphoton system invariant mass\n",
    "                if ((tree_i.photon_pt[0]/inv_mass) > 0.35) and ((tree_i.photon_pt[1]/inv_mass) > 0.25):\n",
    "                    \n",
    "                    #8) Fill histogram with invariant mass\n",
    "                    my_hist.Fill(inv_mass)\n",
    "                \n",
    "    print('\\nFinished file %d!\\n' % (i+1))"
   ]
  },
  {
   "cell_type": "markdown",
   "metadata": {},
   "source": [
    "<details>\n",
    "    <summary>Draw the new histogram </summary>\n",
    "    Lets add a few extra formatting options as we go:\n",
    "    \n",
    "    my_hist.SetMarkerStyle(20) #Choose the shape for our markers\n",
    "    my_hist.SetMarkerSize(0.5) #Choose the size for our markers\n",
    "    my_hist.Draw(\"P\") #Plot bin markers as well as error bars\n",
    "    my_hist.Draw(\"E\")\n",
    "    my_canvas.Draw()\n",
    "    \n",
    "</details>"
   ]
  },
  {
   "cell_type": "code",
   "execution_count": 64,
   "metadata": {},
   "outputs": [
    {
     "data": {
      "image/png": "[encoded data removed]",
      "text/plain": [
       "<IPython.core.display.Image object>"
      ]
     },
     "metadata": {},
     "output_type": "display_data"
    }
   ],
   "source": [
    "my_hist.SetMarkerStyle(20)\n",
    "my_hist.SetMarkerSize(0.5)\n",
    "my_hist.Draw(\"P\")\n",
    "my_hist.Draw(\"E\")\n",
    "my_canvas.Draw()"
   ]
  },
  {
   "cell_type": "markdown",
   "metadata": {},
   "source": [
    "### One more thing we can do!\n",
    "\n",
    "$H\\rightarrow\\gamma\\gamma$ is a rare event, and its signal can be difficult to see over the background of two photons being produced in other ways (as your plots above show!). One way we can make this easier to see is to make a predicition for what this background looks like.\n",
    "\n",
    "Here we can do a **data-driven** estimate of the background, by fitting the data with a cubic function, the shape we're assuming for the distribution of background diphoton events.\n",
    "\n",
    "To do this, we can use ROOT's `.Fit()` function. In the example below, we are passing it two arguments:\n",
    "\n",
    "- `\"pol3\"`: Indicates we want to fit out histogram with a third-order polynomial i.e. a cubic function \n",
    "- `\"S\"`: Indictes we will want to draw this function on the same canvas as our histogram"
   ]
  },
  {
   "cell_type": "code",
   "execution_count": 65,
   "metadata": {},
   "outputs": [
    {
     "name": "stdout",
     "output_type": "stream",
     "text": [
      "\n",
      "****************************************\n",
      "Minimizer is Linear\n",
      "Chi2                      =      38.2644\n",
      "NDf                       =           26\n",
      "p0                        =      34161.4   +/-   6974.72     \n",
      "p1                        =      -519.06   +/-   158.438     \n",
      "p2                        =      2.85367   +/-   1.1908      \n",
      "p3                        =  -0.00556113   +/-   0.00296212  \n"
     ]
    }
   ],
   "source": [
    "background = my_hist.Fit(\"pol3\",'S')"
   ]
  },
  {
   "cell_type": "markdown",
   "metadata": {},
   "source": [
    "Now draw our fit on the same plot as our histogram (indicated by the argument `\"SAME\"`), and redraw our canvas."
   ]
  },
  {
   "cell_type": "code",
   "execution_count": 66,
   "metadata": {},
   "outputs": [
    {
     "data": {
      "image/png": "[encoded data removed]",
      "text/plain": [
       "<IPython.core.display.Image object>"
      ]
     },
     "metadata": {},
     "output_type": "display_data"
    }
   ],
   "source": [
    "background.Draw(\"SAME\")\n",
    "my_canvas.Draw()"
   ]
  },
  {
   "cell_type": "markdown",
   "metadata": {},
   "source": [
    "Is the bump at 125 GeV easier to see now? Compare your plot to the figure from the full ATLAS below, which uses much more data"
   ]
  },
  {
   "cell_type": "markdown",
   "metadata": {},
   "source": [
    "<CENTER><img src=\"images/Higgs.png\" style=\"width:50%\"></CENTER>"
   ]
  },
  {
   "cell_type": "markdown",
   "metadata": {},
   "source": [
    "Even with much more data, the bump is small! However, sometimes a small bump is all we need - this amount of extra events over the expected background was enough for the Higgs to be declared discovered in 2012, winning Peter Higgs and François Englert, the scientists who first invented its theory, the Nobel Prize."
   ]
  },
  {
   "cell_type": "markdown",
   "metadata": {},
   "source": [
    "---"
   ]
  },
  {
   "cell_type": "markdown",
   "metadata": {},
   "source": [
    "<CENTER><h2>Search 2: The H&#8594;WW channel</h2></CENTER>"
   ]
  },
  {
   "cell_type": "markdown",
   "metadata": {},
   "source": [
    "The following analysis will aim to find a signal for the Higgs boson decaying to 2 W-bosons:\n",
    "\n",
    "<br>\n",
    "\n",
    "<CENTER><img src=\"https://atlas.web.cern.ch/Atlas/GROUPS/PHYSICS/PAPERS/HIGG-2016-07/fig_01a.png\" style=\"width:30%\"></CENTER>\n",
    "\n",
    "<br>\n",
    "\n",
    "above its the largest background; Events coming from the SM WW-diboson background production from two quarks:\n",
    "\n",
    "<CENTER><img src=\"https://cds.cern.ch/record/1484203/files/fig1b.png\" style=\"width:30%\"></CENTER>\n",
    "\n",
    "\n",
    "<br>\n",
    "\n",
    "Unlike the previous analysis, we can't do a bump-hunt when the invariant mass of the decay products are larger than the mass of the particle that's decaying ($m_H$=125 GeV and $m_W$=80 GeV x 2). Instead, we can do a  __non-resonant search__. This is done by histogramming some variable of the decay products (in this case a variable called *transverse mass*) for both data and Monte-Carlo simulations of the background, subtracting the backgrounds from the data (scaled for the fact we have many more simulated events than real events) before looking at the events, if any, left over indicating the presence of the Higgs."
   ]
  },
  {
   "cell_type": "markdown",
   "metadata": {},
   "source": [
    "### This analysis is inspired by the prompt on the Open Data website [here](http://opendata.atlas.cern/release/2020/documentation/physics/DL2.html)."
   ]
  },
  {
   "cell_type": "markdown",
   "metadata": {},
   "source": [
    "#### Before we begin...\n",
    "\n",
    "\n",
    "Another custom function to simplify our code:"
   ]
  },
  {
   "cell_type": "code",
   "execution_count": 3,
   "metadata": {},
   "outputs": [],
   "source": [
    "def printTreeBranches(tree):\n",
    "    \"\"\"\n",
    "    A function which makes it simple to peek inside a TTree and see which variables (branches) are available\n",
    "    \n",
    "    Parameters\n",
    "    ----------\n",
    "    tree : A ROOT TTree\n",
    "    \"\"\"\n",
    "    \n",
    "    branches = tree.GetListOfBranches()\n",
    "\n",
    "    print('TTree branch names:')\n",
    "    print('-------------------')\n",
    "    for branch in branches:\n",
    "        print(branch.GetName())"
   ]
  },
  {
   "cell_type": "markdown",
   "metadata": {},
   "source": [
    "<br>\n",
    "\n",
    "Now we follow our usual analysis steps..."
   ]
  },
  {
   "cell_type": "markdown",
   "metadata": {},
   "source": [
    "### 1. Reading in ROOT files"
   ]
  },
  {
   "cell_type": "code",
   "execution_count": 4,
   "metadata": {},
   "outputs": [
    {
     "name": "stdout",
     "output_type": "stream",
     "text": [
      "Tree contains 668152 entries\n",
      "\n",
      "TTree branch names:\n",
      "-------------------\n",
      "runNumber\n",
      "eventNumber\n",
      "channelNumber\n",
      "mcWeight\n",
      "scaleFactor_PILEUP\n",
      "scaleFactor_ELE\n",
      "scaleFactor_MUON\n",
      "scaleFactor_PHOTON\n",
      "scaleFactor_TAU\n",
      "scaleFactor_BTAG\n",
      "scaleFactor_LepTRIGGER\n",
      "scaleFactor_PhotonTRIGGER\n",
      "trigE\n",
      "trigM\n",
      "trigP\n",
      "lep_n\n",
      "lep_truthMatched\n",
      "lep_trigMatched\n",
      "lep_pt\n",
      "lep_eta\n",
      "lep_phi\n",
      "lep_E\n",
      "lep_z0\n",
      "lep_charge\n",
      "lep_type\n",
      "lep_isTightID\n",
      "lep_ptcone30\n",
      "lep_etcone20\n",
      "lep_trackd0pvunbiased\n",
      "lep_tracksigd0pvunbiased\n",
      "met_et\n",
      "met_phi\n",
      "jet_n\n",
      "jet_pt\n",
      "jet_eta\n",
      "jet_phi\n",
      "jet_E\n",
      "jet_jvt\n",
      "jet_trueflav\n",
      "jet_truthMatched\n",
      "jet_MV2c10\n",
      "photon_n\n",
      "photon_truthMatched\n",
      "photon_trigMatched\n",
      "photon_pt\n",
      "photon_eta\n",
      "photon_phi\n",
      "photon_E\n",
      "photon_isTightID\n",
      "photon_ptcone30\n",
      "photon_etcone20\n",
      "photon_convType\n",
      "tau_n\n",
      "tau_pt\n",
      "tau_eta\n",
      "tau_phi\n",
      "tau_E\n",
      "tau_isTightID\n",
      "tau_truthMatched\n",
      "tau_trigMatched\n",
      "tau_nTracks\n",
      "tau_BDTid\n",
      "ditau_m\n",
      "lep_pt_syst\n",
      "met_et_syst\n",
      "jet_pt_syst\n",
      "photon_pt_syst\n",
      "tau_pt_syst\n",
      "XSection\n",
      "SumWeights\n",
      "largeRjet_n\n",
      "largeRjet_pt\n",
      "largeRjet_eta\n",
      "largeRjet_phi\n",
      "largeRjet_E\n",
      "largeRjet_m\n",
      "largeRjet_truthMatched\n",
      "largeRjet_D2\n",
      "largeRjet_tau32\n",
      "largeRjet_pt_syst\n",
      "tau_charge\n"
     ]
    }
   ],
   "source": [
    "#Dilepton data\n",
    "\n",
    "#More luminosity is available (B-D)! Add in at some point?\n",
    "data = ROOT.TFile.Open(\"https://atlas-opendata.web.cern.ch/atlas-opendata/samples/2020/2lep/Data/data_A.2lep.root\")\n",
    "dataTree = data.Get(\"mini\")\n",
    "print('Tree contains %d entries\\n' % dataTree.GetEntries())\n",
    "\n",
    "#Peek inside?\n",
    "view_branches = True #Set to True to look inside\n",
    "if view_branches: printTreeBranches(dataTree)"
   ]
  },
  {
   "cell_type": "code",
   "execution_count": 30,
   "metadata": {},
   "outputs": [
    {
     "name": "stdout",
     "output_type": "stream",
     "text": [
      "Tree contains 3409043 entries\n",
      "\n"
     ]
    }
   ],
   "source": [
    "## qq->WW background (MC)\n",
    "\n",
    "bkg = ROOT.TFile.Open(\"https://atlas-opendata.web.cern.ch/atlas-opendata/samples/2020/2lep/MC/mc_363492.llvv.2lep.root\")\n",
    "bkgTree = bkg.Get(\"mini\")\n",
    "print('Tree contains %d entries\\n' % bkgTree.GetEntries()) #Will need to be scaled to number of data events\n",
    "\n",
    "#Peek inside?\n",
    "view_branches = False #Set to True to look inside\n",
    "if view_branches: printTreeBranches(bkgTree)"
   ]
  },
  {
   "cell_type": "markdown",
   "metadata": {},
   "source": [
    "### 2. Preparing histograms"
   ]
  },
  {
   "cell_type": "code",
   "execution_count": 55,
   "metadata": {},
   "outputs": [
    {
     "name": "stderr",
     "output_type": "stream",
     "text": [
      "Warning in <TCanvas::Constructor>: Deleting canvas with same name: HWWCanvas\n",
      "Warning in <TDavixFile::Append>: Replacing existing TH1: h_bgs (Potential memory leak).\n",
      "Warning in <TDavixFile::Append>: Replacing existing TH1: h_dat (Potential memory leak).\n"
     ]
    }
   ],
   "source": [
    "c = ROOT.TCanvas(\"HWWCanvas\",\"Higgs->WW Analysis\",800,600)\n",
    "h_bgs = ROOT.TH1F(\"h_bgs\",\"Transverse mass mT; Transverse Mass m_{T} [GeV] ; events\",20,60,300)\n",
    "h_dat = ROOT.TH1F(\"h_dat\",\"Transverse mass mT; Transverse Mass m_{T} [GeV] ; events\",20,60,300)"
   ]
  },
  {
   "cell_type": "markdown",
   "metadata": {},
   "source": [
    "---"
   ]
  },
  {
   "cell_type": "markdown",
   "metadata": {},
   "source": [
    "### 3. Selecting events and filling histograms"
   ]
  },
  {
   "cell_type": "code",
   "execution_count": 56,
   "metadata": {},
   "outputs": [],
   "source": [
    "def mcWeights(tree,lumi=10):\n",
    "    \"\"\"\n",
    "    When MC simulation is compared to data the contribution of each simulated event needs to be\n",
    "    scaled ('reweighted') to account for differences in how some objects behave in simulation\n",
    "    vs in data, as well as the fact that there are different numbers of events in the MC tree than \n",
    "    in the data tree.\n",
    "    \n",
    "    Parameters\n",
    "    ----------\n",
    "    tree : TTree entry for this event\n",
    "    \"\"\"\n",
    "    \n",
    "    #These values don't change from event to event\n",
    "    norm = lumi*(tree.XSection*1000)/tree.SumWeights\n",
    "    \n",
    "    #These values do change from event to event\n",
    "    scale_factors = tree.scaleFactor_ELE*tree.scaleFactor_MUON*tree.scaleFactor_LepTRIGGER*tree.scaleFactor_PILEUP*tree.mcWeight\n",
    "    \n",
    "    weight = norm*scale_factors\n",
    "    return weight"
   ]
  },
  {
   "cell_type": "code",
   "execution_count": 57,
   "metadata": {},
   "outputs": [],
   "source": [
    "def goodLeptons(tree):\n",
    "    \"\"\"\n",
    "    A function to return the indices of 'good leptons' (electrons or muons) in an event. This follows \n",
    "    many of the same steps as locateGoodPhotons() and photonIsolation() above.\n",
    "    \n",
    "    Parameters\n",
    "    ----------\n",
    "    tree : TTree entry for this event\n",
    "    \"\"\"\n",
    "    \n",
    "    #Initialise (set up) the variables we want to return\n",
    "    goodlepton_index = [] #Indices (position in list of event's leptons) of our good leptons\n",
    "            \n",
    "    ##Loop through all the leptons in the event\n",
    "    for j in range(0,tree.lep_n):\n",
    "            \n",
    "        ##Check lepton ID\n",
    "        if(tree.lep_isTightID[j]):\n",
    "            \n",
    "            #Check lepton isolation\n",
    "            #Similar to photonIsolation() above, different thresholds\n",
    "            if((tree.lep_ptcone30[j]/tree.lep_pt[j] < 0.1) and \n",
    "               (tree.lep_etcone20[j]/tree.lep_pt[j] < 0.1)):\n",
    "\n",
    "                #Only central leptons \n",
    "                #Electrons and muons have slightly different eta requirements\n",
    "\n",
    "                #Electrons: 'Particle type code' = 11\n",
    "                if tree.lep_type[j] == 11:\n",
    "                    \n",
    "                    #Check lepton eta is in the 'central' region and not in \"transition region\" \n",
    "                    if (TMath.Abs(tree.lep_eta[j]) < 2.37) and\\\n",
    "                       (TMath.Abs(tree.lep_eta[j]) < 1.37 or TMath.Abs(tree.lep_eta[j]) > 1.52): \n",
    "\n",
    "                        goodlepton_index.append(j) #Store lepton's index\n",
    "\n",
    "                #Muons: 'Particle type code' = 13\n",
    "                elif (tree.lep_type[j] == 13) and (TMath.Abs(tree.lep_eta[j]) < 2.5): #Check'central' region\n",
    "\n",
    "                        goodlepton_index.append(j) #Store lepton's index\n",
    "\n",
    "\n",
    "    return goodlepton_index #return list of good lepton indices"
   ]
  },
  {
   "cell_type": "code",
   "execution_count": 58,
   "metadata": {},
   "outputs": [],
   "source": [
    "def hWW(tree,hist,mode):\n",
    "    \"\"\"\n",
    "    Function which executes the analysis flow for the Higgs production cross-section measurement in the H->WW\n",
    "    decay channel.\n",
    "    \n",
    "    Fills a histogram with mT(llvv) of events which pass the full set of cuts \n",
    "    \n",
    "    Parameters\n",
    "    ----------\n",
    "    tree : A Ttree containing data / background information\n",
    "    \n",
    "    hist : The name of the histogram to be filled with mT(llvv) values\n",
    "    \n",
    "    mode : A flag to tell the function if it is looping over 'data' or 'mc'\n",
    "    \"\"\"\n",
    "    \n",
    "    n = 0\n",
    "    for event in tree:\n",
    "        \n",
    "        #############################\n",
    "        ### Event-level requirements\n",
    "        #############################\n",
    "    \n",
    "        trackProgress(n,100000)\n",
    "        n += 1\n",
    "        \n",
    "        #If event is MC: Reweight it\n",
    "        if mode.lower() == 'mc': weight = mcWeights(tree)\n",
    "        else: weight = 1\n",
    "            \n",
    "            \n",
    "        #If the event passes either the electron or muon trigger\n",
    "        if tree.trigE or tree.trigM:\n",
    "            \n",
    "            ####Lepton preselections\n",
    "            goodLeps = goodLeptons(tree) #If the datafiles were not already filtered by number of leptons\n",
    "\n",
    "            ###################################\n",
    "            ### Individual lepton requirements\n",
    "            ###################################\n",
    "\n",
    "            if len(goodLeps) == 2: #Exactly two good leptons...\n",
    "                lep1 = goodLeps[0] #INDICES of the good leptons\n",
    "                lep2 = goodLeps[1]\n",
    "\n",
    "                if tree.lep_type[lep1] != tree.lep_type[lep2]: #... with different flavour\n",
    "\n",
    "                    if tree.lep_charge[lep1] != tree.lep_charge[lep2]: #... and opposite charge...\n",
    "\n",
    "                        if (tree.lep_pt[lep1] > 22000) and (tree.lep_pt[lep2] > 15000): #pT requirements\n",
    "                            #Note: TTrees always sort objects in descending pT order\n",
    "\n",
    "                            if abs(tree.lep_phi[lep1]-tree.lep_phi[lep2]) < 1.8: #lepton separtion in phi \n",
    "\n",
    "                                #################################\n",
    "                                ### Dilepton system requirements\n",
    "                                #################################\n",
    "\n",
    "                                #Initialse (set up) an empty 4 vector for dilepton system\n",
    "                                dilep_four_mmtm = ROOT.TLorentzVector()\n",
    "\n",
    "                                #Loop through our list of lepton indices\n",
    "                                for i in goodLeps:\n",
    "\n",
    "                                    #Initialse (set up) an empty 4 vector for each lepton\n",
    "                                    lep_i = ROOT.TLorentzVector()\n",
    "\n",
    "                                    #Retrieve the lepton's 4 momentum components from the tree\n",
    "                                    lep_i.SetPtEtaPhiE(tree.lep_pt[i], tree.lep_eta[i],tree.lep_phi[i],tree.lep_E[i])\n",
    "\n",
    "                                    #Store lepton's 4 momentum\n",
    "                                    dilep_four_mmtm += lep_i\n",
    "                                  \n",
    "                                # Dilepton system pT > 30 GeV\n",
    "                                if dilep_four_mmtm.Pt() > 30000:\n",
    "\n",
    "                                    if (dilep_four_mmtm.M() > 10000) and (dilep_four_mmtm.M() < 55000):\n",
    "\n",
    "                                        #####################\n",
    "                                        ### MET requirements\n",
    "                                        #####################\n",
    "\n",
    "                                        #Initialse (set up) an empty 4 vector for the event's MET and fill from tree\n",
    "                                        met_four_mom = ROOT.TLorentzVector()\n",
    "                                        met_four_mom.SetPtEtaPhiE(tree.met_et,0,tree.met_phi,tree.met_et)\n",
    "\n",
    "                                        #MET > 30 GeV\n",
    "                                        if met_four_mom.Pt() > 30000:\n",
    "\n",
    "                                            #Diffence in phi between the dilepton system and the MET < pi/2\n",
    "                                            if abs(dilep_four_mmtm.Phi()-met_four_mom.Phi()) < 1.571:\n",
    "\n",
    "                                                #####################\n",
    "                                                ### Full llvv system\n",
    "                                                #####################\n",
    "\n",
    "                                                system_four_mom = dilep_four_mmtm + met_four_mom\n",
    "                                                \n",
    "                                                #If Fill() is passed a second argument, the event is weighted by that amount\n",
    "                                                hist.Fill(system_four_mom.Mt()/1000,weight)\n",
    "                                        \n",
    "                                        \n",
    "\n",
    "\n",
    "#Additional cuts applied by the paper:\n",
    "#----------------------------------\n",
    "# Jet cuts!"
   ]
  },
  {
   "cell_type": "code",
   "execution_count": 59,
   "metadata": {},
   "outputs": [
    {
     "name": "stdout",
     "output_type": "stream",
     "text": [
      "Event loop tracker\n",
      "------------------\n",
      "0 events processed\n",
      "100000 events processed\n",
      "200000 events processed\n",
      "300000 events processed\n",
      "400000 events processed\n",
      "500000 events processed\n",
      "600000 events processed\n"
     ]
    }
   ],
   "source": [
    "#Data\n",
    "hWW(dataTree,h_dat,'data')"
   ]
  },
  {
   "cell_type": "code",
   "execution_count": 60,
   "metadata": {},
   "outputs": [
    {
     "data": {
      "image/png": "[encoded data removed]",
      "text/plain": [
       "<IPython.core.display.Image object>"
      ]
     },
     "metadata": {},
     "output_type": "display_data"
    }
   ],
   "source": [
    "#Look at data histogram\n",
    "\n",
    "h_dat.SetFillStyle(3003)\n",
    "h_dat.SetFillColor(2)\n",
    "h_dat.SetLineColor(2)\n",
    "\n",
    "h_dat.Draw(\"hist\")\n",
    "c.Draw()"
   ]
  },
  {
   "cell_type": "code",
   "execution_count": 61,
   "metadata": {},
   "outputs": [
    {
     "name": "stdout",
     "output_type": "stream",
     "text": [
      "Event loop tracker\n",
      "------------------\n",
      "0 events processed\n",
      "100000 events processed\n",
      "200000 events processed\n",
      "300000 events processed\n",
      "400000 events processed\n",
      "500000 events processed\n",
      "600000 events processed\n",
      "700000 events processed\n",
      "800000 events processed\n",
      "900000 events processed\n",
      "1000000 events processed\n",
      "1100000 events processed\n",
      "1200000 events processed\n",
      "1300000 events processed\n",
      "1400000 events processed\n",
      "1500000 events processed\n",
      "1600000 events processed\n",
      "1700000 events processed\n",
      "1800000 events processed\n",
      "1900000 events processed\n",
      "2000000 events processed\n",
      "2100000 events processed\n",
      "2200000 events processed\n",
      "2300000 events processed\n",
      "2400000 events processed\n",
      "2500000 events processed\n",
      "2600000 events processed\n",
      "2700000 events processed\n",
      "2800000 events processed\n",
      "2900000 events processed\n",
      "3000000 events processed\n",
      "3100000 events processed\n",
      "3200000 events processed\n",
      "3300000 events processed\n",
      "3400000 events processed\n"
     ]
    }
   ],
   "source": [
    "#MC \n",
    "hWW(bkgTree,h_bgs,'mc')"
   ]
  },
  {
   "cell_type": "code",
   "execution_count": 62,
   "metadata": {},
   "outputs": [
    {
     "data": {
      "image/png": "[encoded data removed]",
      "text/plain": [
       "<IPython.core.display.Image object>"
      ]
     },
     "metadata": {},
     "output_type": "display_data"
    }
   ],
   "source": [
    "#Look at MC histogram\n",
    "\n",
    "h_bgs.SetFillStyle(3001)\n",
    "h_bgs.SetFillColor(4)\n",
    "h_bgs.SetLineColor(4)\n",
    "\n",
    "h_bgs.Draw(\"hist\")\n",
    "c.Draw()"
   ]
  },
  {
   "cell_type": "markdown",
   "metadata": {},
   "source": [
    "---"
   ]
  },
  {
   "cell_type": "markdown",
   "metadata": {},
   "source": [
    "### 4. Draw (final) plots"
   ]
  },
  {
   "cell_type": "code",
   "execution_count": 63,
   "metadata": {},
   "outputs": [
    {
     "data": {
      "image/png": "[encoded data removed]",
      "text/plain": [
       "<IPython.core.display.Image object>"
      ]
     },
     "metadata": {},
     "output_type": "display_data"
    }
   ],
   "source": [
    "#Draw histograms on same canvas\n",
    "\n",
    "h_dat.Draw(\"hist\")\n",
    "h_bgs.Draw(\"histsame\")\n",
    "\n",
    "h_dat.SetStats(0)\n",
    "h_bgs.SetStats(0)\n",
    "\n",
    "legend=ROOT.TLegend(0.5,0.7,0.9,0.9)\n",
    "legend.AddEntry(h_bgs,\"Background (qq->WW) \",\"l\")\n",
    "legend.AddEntry(h_dat,\"Data\",\"l\")\n",
    "legend.Draw()\n",
    "\n",
    "c.Draw()"
   ]
  },
  {
   "cell_type": "code",
   "execution_count": 64,
   "metadata": {},
   "outputs": [
    {
     "data": {
      "text/plain": [
       "True"
      ]
     },
     "execution_count": 64,
     "metadata": {},
     "output_type": "execute_result"
    }
   ],
   "source": [
    "#Subtract the two histograms\n",
    "\n",
    "h_diff = h_dat.Clone(\"diff\")\n",
    "h_diff.Add(h_bgs,-1)"
   ]
  },
  {
   "cell_type": "code",
   "execution_count": 65,
   "metadata": {},
   "outputs": [
    {
     "data": {
      "image/png": "[encoded data removed]",
      "text/plain": [
       "<IPython.core.display.Image object>"
      ]
     },
     "metadata": {},
     "output_type": "display_data"
    }
   ],
   "source": [
    "#Plot the subtracted histogram\n",
    "\n",
    "h_diff.SetFillStyle(3001)\n",
    "h_diff.SetFillColor(8)\n",
    "h_diff.SetLineColor(8)\n",
    "h_diff.SetStats(0)\n",
    "#h_diff.SetMinimum(10)\n",
    "\n",
    "h_diff.Draw(\"hist\")\n",
    "c.Draw()"
   ]
  },
  {
   "cell_type": "markdown",
   "metadata": {},
   "source": [
    "## Extension exercises\n",
    "\n",
    "a) This estimation of the strength of our Higgs signal is actually rather overoptimistic! This is because we are only accounting for one background (albeit the strongest one). Another large background to the $H\\rightarrow WW$ process comes from top quarks.\n",
    "- Seach in the [Open Data repository](https://atlas-opendata.web.cern.ch/atlas-opendata/samples/2020) for some simiulated top quark production data.\n",
    "- Initialise a histogram for your top data, apply your analysis cuts and fill the histogram\n",
    "- Think of the best way to display your results on a histogram"
   ]
  },
  {
   "cell_type": "markdown",
   "metadata": {},
   "source": [
    "<details>\n",
    "    <summary>Click here for plotting hint 1: </summary>\n",
    "    Sum your background histograms togther (similar to the subtraction) and adjust your plot legend, or..\n",
    "</details>"
   ]
  },
  {
   "cell_type": "markdown",
   "metadata": {},
   "source": [
    "<details>\n",
    "    <summary>Click here for plotting hint 2: </summary>\n",
    "    Investigate ROOT's TStack functionality: https://root.cern.ch/doc/master/classTHStack.html\n",
    "</details>"
   ]
  },
  {
   "cell_type": "markdown",
   "metadata": {},
   "source": [
    "b) The reason for imposing **cuts** in any analysis is to reduce backgrounds while keeping as many of our signal events as possible. We are now considering a new background, the production of top quarks.\n",
    "\n",
    "Fortunately, processes involving top quarks are easy to spot, because the decay almost exclusively to **bjets** - showers of strongly interacting particles originating from a bottom quark.\n",
    "\n",
    "- Take a look at the [prompt](http://opendata.atlas.cern/release/2020/documentation/physics/DL2.html) for this analysis on the Open Data website. You'll notice that there's one about jets that we've skipped.\n",
    "\n",
    "    - Return to our $H\\rightarrow WW$ analysis, and implement this cut to reduced the contribution from our newly-added top background."
   ]
  },
  {
   "cell_type": "markdown",
   "metadata": {},
   "source": [
    "<details>\n",
    "    <summary>Click here for hint 1: </summary>\n",
    "    Write a function similar to goodLeptons() that returns the indices of good jets in the event. For each jet in an event only keep it if:\n",
    "        \n",
    "    jet_pt > 30 GeV\n",
    "</details>"
   ]
  },
  {
   "cell_type": "markdown",
   "metadata": {},
   "source": [
    "<details>\n",
    "    <summary>Click here for hint 2: </summary>\n",
    "    Write a function similar to goodLeptons() that returns the indices of good bjets in the event. For each bjet in an event only keep it if:\n",
    "    jet_MV2c10 branch > 0.18    \n",
    "    jet_pt > 20 GeV\n",
    "    \n",
    "- MV2c10 is the ATLAS algorithm that tell's us how likely it is that a jet is a bjet. These kinds of algorithms are called __btaggers__.\n",
    "</details>"
   ]
  },
  {
   "cell_type": "markdown",
   "metadata": {},
   "source": [
    "<details>\n",
    "    <summary>Click here for hint 3: </summary>\n",
    "    Our btagger is another thing that performs differently on real data vs simulated MC data. This means it needs to be added to the multiplication in our mcWeights() function. \n",
    "    \n",
    "The btagging scale factor changes from event-to-event, and is stored in a branch called `scaleFactor_BTAG`\n",
    "</details>"
   ]
  },
  {
   "cell_type": "markdown",
   "metadata": {},
   "source": [
    "<details>\n",
    "    <summary>Click here for hint 4: </summary>\n",
    "    \n",
    "In our main event loop, only keep an event if it has:\n",
    "    - Less than 2 good-jets\n",
    "    - 0 good-bjets \n",
    "        \n",
    "</details>"
   ]
  },
  {
   "cell_type": "markdown",
   "metadata": {},
   "source": [
    "---"
   ]
  },
  {
   "cell_type": "markdown",
   "metadata": {},
   "source": [
    "### The two analyses presented in this notebooks are inspired by the [prompts](http://opendata.atlas.cern/release/2020/documentation/physics/intro.html) on the ATLAS Open Data website. \n",
    "- This is a great place to start for ideas for your own research - Good luck!!"
   ]
  },
  {
   "cell_type": "markdown",
   "metadata": {},
   "source": [
    "---"
   ]
  }
 ],
 "metadata": {
  "kernelspec": {
   "display_name": "Python 3 (ipykernel)",
   "language": "python",
   "name": "python3"
  },
  "language_info": {
   "codemirror_mode": {
    "name": "ipython",
    "version": 3
   },
   "file_extension": ".py",
   "mimetype": "text/x-python",
   "name": "python",
   "nbconvert_exporter": "python",
   "pygments_lexer": "ipython3",
   "version": "3.7.6"
  }
 },
 "nbformat": 4,
 "nbformat_minor": 4
}
