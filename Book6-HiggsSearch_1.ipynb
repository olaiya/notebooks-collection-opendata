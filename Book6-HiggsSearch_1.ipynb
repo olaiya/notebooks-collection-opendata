{
 "cells": [
  {
   "cell_type": "markdown",
   "metadata": {},
   "source": [
    "<CENTER><img src=\"images/logos.png\" style=\"width:50%\"></CENTER>"
   ]
  },
  {
   "cell_type": "markdown",
   "metadata": {},
   "source": [
    "# Searching for the Higgs boson\n",
    "\n",
    "\n",
    "Below are some Feyman diagrams of ways the Higgs boson can be produced according to the Standard Model:\n",
    "\n",
    "<br>\n",
    "\n",
    "<CENTER><img src=\"https://cds.cern.ch/record/2243593/files/Figures_FeynmanHprod.png\" style=\"width:50%\"></CENTER>"
   ]
  },
  {
   "cell_type": "markdown",
   "metadata": {},
   "source": [
    "Just as the Higgs can be produced in several ways, the Higgs can also decay in a number of ways or 'channels'. In this Notebook 6, and the following Notebook 7, we will be searching for the Higgs in two different decay channels."
   ]
  },
  {
   "cell_type": "markdown",
   "metadata": {},
   "source": [
    "<div class=\"alert alert-success\">To understand the background to finding the Higgs boson, watch <a href=\"https://youtu.be/1nHYs-qUymo\"> this </a> RAL video by Dr Kristian Harder about the Higgs and the LHC.</div>\n",
    "\n"
   ]
  },
  {
   "cell_type": "markdown",
   "metadata": {},
   "source": [
    "### Before we begin:\n",
    "\n",
    "<div class=\"alert alert-info\">\n",
    "   \n",
    "- Some of the datafiles used in this notebook have millions of events - Don't be surpised if running certain event loops takes up to 10 mins or longer!\n",
    "\n",
    "- This notebook is designed to give you an idea of how a real physics analysis is set up. Study it carefully to help with your own research!\n",
    "</div>\n",
    "\n",
    "<div class=\"alert alert-success\">\n",
    "    \n",
    "The two analyses presented in this and the following notebook are inspired by the <a href=\"http://opendata.atlas.cern/release/2020/documentation/physics/intro.html\"> prompts </a> on the ATLAS Open Data website. \n",
    "\n",
    "This is a great place to start for ideas for your own research!\n",
    "</div> \n"
   ]
  },
  {
   "cell_type": "markdown",
   "metadata": {},
   "source": [
    "# Search 1: The H$\\rightarrow \\gamma \\gamma$ channel"
   ]
  },
  {
   "cell_type": "markdown",
   "metadata": {},
   "source": [
    "<CENTER><img src=\"./images/higgsFD.png\" style=\"width:30%\"></CENTER>\n",
    "\n",
    "<br>\n",
    "  \n",
    "One of the ways the Higgs can decay is to two photons. We call this channel __H&#8594;&gamma;&gamma;__ (\"Higgs to gamma gamma\").\n",
    "\n",
    "\n",
    "Of course, there are other ways two photons can be made in the LHC, but if we look at the entire range of invariant masses of these two photons, we should expect there to be more of them around 125 GeV, the mass of the Higgs (\"bump hunting\")."
   ]
  },
  {
   "cell_type": "markdown",
   "metadata": {},
   "source": [
    "<div class=\"alert alert-success\">This analysis is inspired by the prompt on the Open Data website <a href=\"http://opendata.atlas.cern/release/2020/documentation/physics/YY.html\"> here </a>.</div>"
   ]
  },
  {
   "cell_type": "markdown",
   "metadata": {},
   "source": [
    "**Contents:** <a name=\"c\"></a>\n",
    "- [ Reading in ROOT files](#0.)\n",
    "- [Preparing histograms ](#1.)\n",
    "- [Selecting events and filling histograms ](#2.)\n",
    "- [Draw plots](#3.)\n",
    "- [Over to you!](#4.)\n",
    "- [One more thing we can do](#5.)\n",
    "---"
   ]
  },
  {
   "cell_type": "markdown",
   "metadata": {},
   "source": [
    "## 1. Reading in ROOT files <a name=\"0.\"></a>"
   ]
  },
  {
   "cell_type": "markdown",
   "metadata": {},
   "source": [
    "First, import the usual libraries"
   ]
  },
  {
   "cell_type": "code",
   "execution_count": null,
   "metadata": {},
   "outputs": [],
   "source": [
    "import uproot\n",
    "import hist\n",
    "from hist import Hist\n",
    "from TLorentzVector import TLorentzVector"
   ]
  },
  {
   "cell_type": "markdown",
   "metadata": {},
   "source": [
    "Then in the usual way:\n",
    "\n",
    "1. Open our datafile containing two photon (\"diphoton\" or $\\gamma\\gamma$) events \n",
    "\n",
    "2. Retrieive the TTree storing the data and \n",
    "\n",
    "3. Get the tree entries \n",
    "\n",
    "\n",
    "<div class=\"alert alert-info\">If you need a reminder on how to do this, refer back to the histogramming tutorial in Notebook 3.</div>"
   ]
  },
  {
   "cell_type": "markdown",
   "metadata": {},
   "source": [
    "### a) Open Root File\n",
    "\n",
    "Using `uproot`, `uproot.open()` a sample of diphoton data, stored at \n",
    "\n",
    "`https://atlas-opendata.web.cern.ch/atlas-opendata/samples/2020/GamGam/Data/data_A.GamGam.root`\n",
    "\n",
    " "
   ]
  },
  {
   "cell_type": "code",
   "execution_count": null,
   "metadata": {},
   "outputs": [],
   "source": [
    "f = uproot.open(\"https://atlas-opendata.web.cern.ch/atlas-opendata/samples/2020/GamGam/Data/data_A.GamGam.root\")"
   ]
  },
  {
   "cell_type": "markdown",
   "metadata": {},
   "source": [
    "### b) Retrieve TTree\n",
    "\n",
    "Get the TTree named `mini` from the ROOT file `f`"
   ]
  },
  {
   "cell_type": "code",
   "execution_count": null,
   "metadata": {},
   "outputs": [],
   "source": [
    "tree = f[\"mini\"]"
   ]
  },
  {
   "cell_type": "markdown",
   "metadata": {},
   "source": [
    "### c) Show the branches of the TTree data\n",
    "\n",
    "`show()` what is stored in the TTree "
   ]
  },
  {
   "cell_type": "code",
   "execution_count": null,
   "metadata": {},
   "outputs": [],
   "source": [
    "tree.show()"
   ]
  },
  {
   "cell_type": "markdown",
   "metadata": {},
   "source": [
    "[Return to contents](#c)\n",
    "\n",
    "---"
   ]
  },
  {
   "cell_type": "markdown",
   "metadata": {},
   "source": [
    "## 2. Preparing histograms <a name=\"1.\"></a>"
   ]
  },
  {
   "cell_type": "markdown",
   "metadata": {},
   "source": [
    "As in previous examples, before we are ready to fill our histograms we need to define the settings of the histograms we intend to draw"
   ]
  },
  {
   "cell_type": "markdown",
   "metadata": {},
   "source": [
    "### Set up histogram \n",
    "\n",
    "Set up a  histogram to be filled with our __diphoton invariant masses__. Divide the histogram into $30$ bins between $105$ and $160 \\; GeV$."
   ]
  },
  {
   "cell_type": "markdown",
   "metadata": {},
   "source": [
    "<details>\n",
    "    <summary>Click for a hint: </summary>\n",
    "    Remember how we separate bins, limits and labels in the .axis.Regular() function?\n",
    "</details>"
   ]
  },
  {
   "cell_type": "code",
   "execution_count": null,
   "metadata": {},
   "outputs": [],
   "source": [
    "my_hist = ####"
   ]
  },
  {
   "cell_type": "markdown",
   "metadata": {},
   "source": [
    "<details>\n",
    "    <summary>Answer: </summary>\n",
    "    \n",
    "    my_hist = Hist(hist.axis.Regular(30, 105, 160))\n",
    "</details>"
   ]
  },
  {
   "cell_type": "markdown",
   "metadata": {},
   "source": [
    "[Return to contents](#c)\n",
    "\n",
    "---"
   ]
  },
  {
   "cell_type": "markdown",
   "metadata": {},
   "source": [
    "## 3. Selecting events and filling histograms <a name=\"2.\"></a>"
   ]
  },
  {
   "cell_type": "markdown",
   "metadata": {},
   "source": [
    "Our strategy, for filling our diphoton invariant mass histogram is as follows:\n",
    "\n",
    "1. Loop through each `event` in our `tree`. We can print out how many events have been processed every 100000 events to keep track of progress.\n",
    "\n",
    "2. In each event, search for _'good quality photons'_ (more on this later).\n",
    "\n",
    "3. If there are exactly two qood quality photons, check that they are _'well isolated'_ (again, more later).\n",
    "\n",
    "4. If the two photons are well-isolated, extract their 4 momentum from the the $p_\\rm{T}$, $\\eta$, $\\phi$ and energy TTree branches, and store in a TLorentz vector. Make sure to convert their transverse momentum ($p_\\rm{T}$) and energy ($E$) from MeV, as is stored in the TTree, to GeV as will be displayed in the histogram.\n",
    "\n",
    "5. Add the TLorentz vectors of the two photons together\n",
    "\n",
    "6. Calculate the invariant mass of our two-photon system\n",
    "\n",
    "6. Check each photon makes up a minimum fraction of the diphoton system invariant mass\n",
    "\n",
    "8. Fill the histogram with the invariant mass of our two-photon system"
   ]
  },
  {
   "cell_type": "markdown",
   "metadata": {},
   "source": [
    "<div class=\"alert alert-info\">To simplify our code, we will be writing some custom functions to perform each of the above operations.</div>"
   ]
  },
  {
   "cell_type": "markdown",
   "metadata": {},
   "source": [
    "### 1) Loop tracker"
   ]
  },
  {
   "cell_type": "code",
   "execution_count": null,
   "metadata": {},
   "outputs": [],
   "source": [
    "def trackProgress(n,m):\n",
    "    \"\"\"\n",
    "    Function which prints the event loop progress every m events \n",
    "    \n",
    "    Parameters\n",
    "    ----------\n",
    "    n : Number of events processed so far\n",
    "    \n",
    "    m : Printout event interval\n",
    "    \n",
    "    \"\"\"\n",
    "    if n == 0:\n",
    "        print(\"Event loop tracker\")\n",
    "        print(\"------------------\")\n",
    "    \n",
    "    if(n%m==0):\n",
    "        print(\"%d events processed\" % n)"
   ]
  },
  {
   "cell_type": "markdown",
   "metadata": {},
   "source": [
    "### 2) Photon quality"
   ]
  },
  {
   "cell_type": "code",
   "execution_count": null,
   "metadata": {},
   "outputs": [],
   "source": [
    "def locateGoodPhotons(dat):\n",
    "    \"\"\"\n",
    "    Function which returns the index of photons in the event which pass our quality requirements.\n",
    "    These are:\n",
    "        - Event passes photon trigger\n",
    "        - Photon is identified as such, passing 'Tight' requirements \n",
    "            - This means we are very sure our photon is indeed a photon, but we might lose some photons that are \n",
    "              less obvious in the process. The opposite of this is the 'Loose' requirement, where we are less\n",
    "              sure that our photon is a photon, but we are less likely to miss real ones .\n",
    "        - Photon has pT > 25 GeV (or 25000 MeV)\n",
    "        - Photon is in the 'central' region of ATLAS i.e. it has |eta| < 2.37\n",
    "        - Photon does not fall in the 'transition region' between ATLAS's inner detector barrell\n",
    "          and ECal endcap i.e. 1.37 <= |eta| <= 1.52\n",
    "          \n",
    "    Parameters\n",
    "    ----------\n",
    "    dat : array from TTree for this event\n",
    "    \n",
    "    \"\"\"\n",
    "    \n",
    "    ## Checking the event passes the photon trigger\n",
    "    #trigP = tree[\"trigP\"]\n",
    "    trigP = dat[\"trigP\"]\n",
    "    if trigP == True:\n",
    "        \n",
    "        # Initialise (set up) the variables we want to return\n",
    "        goodphoton_index = [] #Indices (position in list of event's photons) of our good photons\n",
    "            \n",
    "        ## Loop through all the photons in the event\n",
    "        photon_n = dat[\"photon_n\"]\n",
    "        for j in range(0,photon_n):\n",
    "            \n",
    "            ## Check photon ID\n",
    "            photon_isTight = dat[\"photon_isTightID\"][j]\n",
    "            if(photon_isTight):\n",
    "                photon_pt = dat[\"photon_pt\"][j]\n",
    "                # Check photon has a large enough pT\n",
    "                if (j==0 and photon_pt > 35000) or (j==1 and photon_pt > 25000):\n",
    "                    photon_eta = dat[\"photon_eta\"][j]\n",
    "                    # Check photon eta is in the 'central' region\n",
    "                    if (abs(photon_eta) < 2.37):\n",
    "                  \n",
    "                      # Exclude \"transition region\" between ID barrell and ECal endcap\n",
    "                      if (abs(photon_eta) < 1.37 or abs(photon_eta) > 1.52):\n",
    "\n",
    "                        goodphoton_index.append(j) # Store photon's index\n",
    "                    \n",
    "        return goodphoton_index # Return list of good photon indices"
   ]
  },
  {
   "cell_type": "markdown",
   "metadata": {},
   "source": [
    "### 3) Photon isolation"
   ]
  },
  {
   "cell_type": "code",
   "execution_count": null,
   "metadata": {},
   "outputs": [],
   "source": [
    "def photonIsolation(dat,photon_indices):\n",
    "    \"\"\"\n",
    "    Function which returns True if all photons are well-isolated, otherwise returns false.\n",
    "    \n",
    "    A photon is considered 'isolated' if the transverse momentum and transverse energy in the detector, within \n",
    "    a particular radius around the photon (variables called 'ptcone30' and 'etcone20'), is below a certain threshold compared to the photon's \n",
    "    transverse momentum (don't worry too much about the details!).\n",
    "    \n",
    "    Parameters\n",
    "    ----------\n",
    "    dat : array from TTree for this event\n",
    "    \n",
    "    photon_indices : List containing the indices in the TTree of our photons of interest\n",
    "    \n",
    "    \"\"\"\n",
    "    \n",
    "    # Loop through our list of photon indices\n",
    "    for i in photon_indices:\n",
    "        photon_ptcone30 = dat[\"photon_ptcone30\"][i]\n",
    "        photon_pt = dat[\"photon_pt\"][i]\n",
    "        photon_etcone20 = dat[\"photon_etcone20\"][i]\n",
    "        \n",
    "        # If each photon passes isolation requirements...\n",
    "        if((photon_ptcone30 / photon_pt < 0.065) and \n",
    "           (photon_etcone20 / photon_pt < 0.065)):\n",
    "            continue #...keep the loop going \n",
    "        \n",
    "        # If any fail, break the loop and return False\n",
    "        else: \n",
    "            return False\n",
    "    \n",
    "    # If the loop is able to finish, i.e. all photons are well-isolated, return True\n",
    "    return True"
   ]
  },
  {
   "cell_type": "markdown",
   "metadata": {},
   "source": [
    "### 4) Extracting four-momentum"
   ]
  },
  {
   "cell_type": "code",
   "execution_count": null,
   "metadata": {},
   "outputs": [],
   "source": [
    "def photonFourMomentum(dat, photon_indices):\n",
    "    \"\"\"\n",
    "    Function which returns the 4 momenta of a list of photons in an event as a list of TLorentzVectors\n",
    "    \n",
    "    Parameters\n",
    "    ----------\n",
    "    dat : array from TTree for this event\n",
    "    \n",
    "    photon_indices : List containing the indices in the TTree of our photons of interest\n",
    "    \n",
    "    \"\"\"\n",
    "    \n",
    "    photon_four_momenta = []\n",
    "    \n",
    "    # Loop through our list of photon indices\n",
    "    for i in photon_indices:\n",
    "    \n",
    "        # Initialse (set up) an empty 4 vector for each photon\n",
    "        Photon_i = TLorentzVector()\n",
    "    \n",
    "        photon_pt = dat[\"photon_pt\"][i]\n",
    "        photon_eta = dat[\"photon_eta\"][i]\n",
    "        photon_phi = dat[\"photon_phi\"][i]\n",
    "        photon_E = dat[\"photon_E\"][i]\n",
    "        # Retrieve the photon's 4 momentum components from the tree\n",
    "        # Convert from MeV to GeV where needed by dividing by 1000\n",
    "        Photon_i.SetPtEtaPhiE(photon_pt/1000., photon_eta, photon_phi, photon_E/1000.)\n",
    "        \n",
    "        # Store photon's 4 momentum\n",
    "        photon_four_momenta.append(Photon_i)\n",
    "        \n",
    "        \n",
    "    return photon_four_momenta"
   ]
  },
  {
   "cell_type": "markdown",
   "metadata": {},
   "source": [
    "### 5) Sum the 4 momenta of each photon in the event"
   ]
  },
  {
   "cell_type": "code",
   "execution_count": null,
   "metadata": {},
   "outputs": [],
   "source": [
    "def sumFourMomentum(four_momenta):\n",
    "    \"\"\"\n",
    "    Function which sums a list of four-momenta, and returns the resultant four-momentum of the system\n",
    "    \n",
    "    Parameters\n",
    "    ----------\n",
    "    four_momenta : List of TLorentzVectors containing the four-momentum of each object in the system\n",
    "    \n",
    "    \"\"\"\n",
    "    \n",
    "    # Initialise (set up) TLorentzVector for our momentum sum\n",
    "    four_mom_sum = TLorentzVector()\n",
    "    \n",
    "    for obj in four_momenta:\n",
    "        four_mom_sum += obj\n",
    "        \n",
    "    return four_mom_sum"
   ]
  },
  {
   "cell_type": "markdown",
   "metadata": {},
   "source": [
    "### Putting it all together!"
   ]
  },
  {
   "cell_type": "code",
   "execution_count": null,
   "metadata": {},
   "outputs": [],
   "source": [
    "#Select the measurements you want in your array\n",
    "\n",
    "sel_events = tree.arrays([\"photon_ptcone30\",\"photon_etcone20\", \"photon_isTightID\", \"photon_eta\", \"photon_phi\",\n",
    "                          \"photon_n\", \"photon_E\", \"photon_pt\", \"trigP\"])\n",
    "\n",
    "n = 0\n",
    "for event in sel_events:\n",
    "       \n",
    "    #1) Loop progress tracking: Print progress every 100,000 events\n",
    "    trackProgress(n,100000)\n",
    "    n += 1\n",
    "    \n",
    "    #2) Identify exactly two 'good quality photons'\n",
    "    goodphoton_indices = locateGoodPhotons(event)\n",
    "    if len(goodphoton_indices) == 2:\n",
    "        \n",
    "        #3) Check our good quality photons are well-isolated\n",
    "        photons_are_isolated = photonIsolation(event, goodphoton_indices)\n",
    "        \n",
    "        if photons_are_isolated:\n",
    "        \n",
    "            #4) Convert 4-momentum from MeV to GeV\n",
    "            photon_four_momenta = photonFourMomentum(event, goodphoton_indices)\n",
    "            \n",
    "            #5) Add the 4-momenta together\n",
    "            Photon_12 = sumFourMomentum(photon_four_momenta)\n",
    "            \n",
    "            #6) Calculate the diphoton invariant mass\n",
    "            inv_mass = Photon_12.M() #Calculated invariant mass\n",
    "            \n",
    "            photon_pt = event[\"photon_pt\"]\n",
    "            #7) Check each photon makes up a minimum fraction of the diphoton system invariant mass\n",
    "            if ((photon_pt[0]/inv_mass) > 0.35) and ((photon_pt[1]/inv_mass) > 0.25):\n",
    "                \n",
    "                #8) Fill histogram with invariant mass\n",
    "                my_hist.fill(inv_mass)\n",
    "                "
   ]
  },
  {
   "cell_type": "markdown",
   "metadata": {},
   "source": [
    "[Return to contents](#c)\n",
    "\n",
    "---"
   ]
  },
  {
   "cell_type": "markdown",
   "metadata": {},
   "source": [
    "## 4. Draw plots <a name=\"3.\"></a>\n",
    "\n",
    "Finally, we would like to draw our diphoton invariant mass histograms and display the canvas showing our results. \n",
    "\n",
    "For this study, we would also like to plot the __error bars__ for each bin to illustrate the (statistical) __uncertainties__ on our measurement. This is done by default when drawing the _histogram_."
   ]
  },
  {
   "cell_type": "code",
   "execution_count": null,
   "metadata": {},
   "outputs": [],
   "source": [
    "import matplotlib.pyplot as plt\n",
    "\n",
    "my_hist.plot()\n",
    "plt.show()"
   ]
  },
  {
   "cell_type": "markdown",
   "metadata": {},
   "source": [
    "### Some questions to think about..."
   ]
  },
  {
   "cell_type": "markdown",
   "metadata": {},
   "source": [
    "<div class=\"alert alert-warning\">1. Can we say we have 'found' the Higgs based on these histograms alone? Why/why not?</div>\n",
    "<br>\n",
    "<details>\n",
    "    <summary>Click here for hint: </summary>\n",
    "    To have \"found\" the Higgs, we would need to see an obvious bump above the background at 125 GeV, the mass of the Higgs. Do we see this in the histogram we've just made?\n",
    "</details>"
   ]
  },
  {
   "cell_type": "markdown",
   "metadata": {},
   "source": [
    "<div class=\"alert alert-warning\">2. What steps could we take to make our search for the Higgs more robust?</div>\n",
    "<br>\n",
    "<details>\n",
    "    <summary>Click here for hint: </summary>\n",
    "    Take a look in the directory containing our diphoton data. Are there more files available? What would be the effect of adding more files to the analysis?\n",
    "    \n",
    "    https://atlas-opendata.web.cern.ch/atlas-opendata/samples/2020/GamGam/Data/\n",
    "</details>"
   ]
  },
  {
   "cell_type": "markdown",
   "metadata": {},
   "source": [
    "[Return to contents](#c)\n",
    "\n",
    "---"
   ]
  },
  {
   "cell_type": "markdown",
   "metadata": {},
   "source": [
    "## 5. Over to you! <a name=\"4.\"></a>"
   ]
  },
  {
   "cell_type": "markdown",
   "metadata": {},
   "source": [
    "<details>\n",
    "    <summary><div class=\"alert alert-warning\">When you have thought about your answers to the questions above, click here to reveal your execise:</div> </summary><br>\n",
    "    Repeat the above analysis, this time using all four diphoton datafiles, each filling the same histogram. Is the bump clearer now?\n",
    "</details>"
   ]
  },
  {
   "cell_type": "markdown",
   "metadata": {},
   "source": [
    "<div class=\"alert alert-info\"> When completing this execise, it is recommended to copy/paste any code you're reusing from above into new cells, to keep the example available for reference.\n",
    "<br>\n",
    "    \n",
    "New cells can be added above using `esc` + `a`, below using `esc` + `b`, or using the `Insert` tab at the top of the page.</div> "
   ]
  },
  {
   "cell_type": "markdown",
   "metadata": {},
   "source": [
    "<div class=\"alert alert-info\">If you are having trouble, click the boxes below for help with the individual steps</div>"
   ]
  },
  {
   "cell_type": "markdown",
   "metadata": {},
   "source": [
    "<details>\n",
    "    <summary> - Loading in multiple ROOT files </summary>\n",
    "    \n",
    "    fa = uproot.open(\"https://atlas-opendata.web.cern.ch/atlas-opendata/samples/2020/GamGam/Data/data_A.GamGam.root\")\n",
    "    fb = uproot.open(\"https://atlas-opendata.web.cern.ch/atlas-opendata/samples/2020/GamGam/Data/data_B.GamGam.root\")\n",
    "    fc = uproot.open(\"https://atlas-opendata.web.cern.ch/atlas-opendata/samples/2020/GamGam/Data/data_C.GamGam.root\")\n",
    "    fd = uproot.open(\"https://atlas-opendata.web.cern.ch/atlas-opendata/samples/2020/GamGam/Data/data_D.GamGam.root\")\n",
    "\n",
    "    my_files = [fa,fb,fc,fd]\n",
    "</details>"
   ]
  },
  {
   "cell_type": "markdown",
   "metadata": {},
   "source": [
    "<details>\n",
    "    <summary>- Setting up fresh histograms: </summary>\n",
    "    \n",
    "    my_hist2 = Hist(hist.axis.Regular(30, 105, 160))\n",
    "    my_hist3 = Hist(hist.axis.Regular(30, 105, 160))\n",
    "    my_hist4 = Hist(hist.axis.Regular(30, 105, 160))\n",
    "</details>"
   ]
  },
  {
   "cell_type": "markdown",
   "metadata": {},
   "source": [
    "<details>\n",
    "    <summary>- Fill a histogram for each data file. </summary>\n",
    "\n",
    "#This is ONLY ONE way to do it. We can fill a histogram for each data file. Then add all the histograms together. We have already run over the file https://atlas-opendata.web.cern.ch/atlas-opendata/samples/2020/GamGam/Data/data_A.GamGam.root above, (this is fa now, we don't need to run over this). We now need to run over fb, fc and fd. This example runs over fb and fills the histogram my_hist2. You will need to run over fc and fd as well, filling histograms my_hist3 and my_hist4 respectively. This will take quite a while. If you don't have time, fill the histograms you can\n",
    "    \n",
    "     \n",
    "    tree2 = fb[\"mini\"]\n",
    "    \n",
    "    sel_events = tree2.arrays([\"photon_ptcone30\",\"photon_etcone20\", \"photon_isTightID\", \"photon_eta\", \"photon_phi\",\"photon_n\", \"photon_E\", \"photon_pt\", \"trigP\"])\n",
    "\n",
    "    #Now repeat the analysis loop from above, making sure to change the name of the tree and the histogram\n",
    "    n = 0\n",
    "    for event in sel_events:\n",
    "\n",
    "        #1) Loop progress tracking: Print progress every 100,000 events\n",
    "        trackProgress(n,100000)\n",
    "        n += 1\n",
    "\n",
    "        #2) Identify exactly two 'good quality photons'\n",
    "        goodphoton_indices = locateGoodPhotons(event)\n",
    "\n",
    "        if len(goodphoton_indices) == 2:\n",
    "\n",
    "            #3) Check our good quality photons are well-isolated\n",
    "            photons_are_isolated = photonIsolation(event, goodphoton_indices)\n",
    "\n",
    "            if photons_are_isolated:\n",
    "\n",
    "                #4) Convert 4-momentum from MeV to GeV\n",
    "                photon_four_momenta = photonFourMomentum(event, goodphoton_indices)\n",
    "\n",
    "                #5) Add the 4-momenta together\n",
    "                Photon_12 = sumFourMomentum(photon_four_momenta)\n",
    "\n",
    "                #6) Calculate the diphoton invariant mass\n",
    "                inv_mass = Photon_12.M() #Calculated invariant mass\n",
    "                photon_pt = event[\"photon_pt\"]\n",
    "\n",
    "                #7) Check each photon makes up a minimum fraction of the diphoton system invariant mass\n",
    "                if ((photon_pt[0]/inv_mass) > 0.35) and ((photon_pt[1]/inv_mass) > 0.25):\n",
    "\n",
    "                    #8) Fill histogram with invariant mass\n",
    "                    my_hist2.fill(inv_mass)   \n",
    "    \n",
    "\n",
    "    \n",
    "#Feel free to add extra printouts (like above) to help with progress tracking\n",
    "</details>"
   ]
  },
  {
   "cell_type": "markdown",
   "metadata": {},
   "source": [
    "<details>\n",
    "    <summary>- Adding and drawing the new histogram </summary>\n",
    "\n",
    "#Let's add a few extra formatting options as we go:\n",
    "    \n",
    "    \n",
    "    # If you didn't fill all the histograms, add the histograms you filled\n",
    "    final_hist = my_hist + my_hist2 + my_hist3 + my_hist4\n",
    "    \n",
    "    final_hist.plot(histtype = \"fill\")\n",
    "    plt.title(\"Diphoton invariant mass\")\n",
    "    plt.show()\n",
    "    \n",
    "</details>"
   ]
  },
  {
   "cell_type": "markdown",
   "metadata": {},
   "source": [
    "[Return to contents](#c)\n",
    "\n",
    "---"
   ]
  },
  {
   "cell_type": "markdown",
   "metadata": {},
   "source": [
    "## 6.  One more thing we can do <a name=\"5.\"></a>"
   ]
  },
  {
   "cell_type": "markdown",
   "metadata": {},
   "source": [
    "$H\\rightarrow\\gamma\\gamma$ is a rare event, and its signal can be difficult to see over the background of two photons being produced in other ways (as your plots above show!). One way we can make this easier to see is to make a predicition for what this background looks like.\n",
    "\n",
    "Here we can do a **data-driven** estimate of the background, by fitting the data with a cubic function, the shape we're assuming for the distribution of background diphoton events.\n",
    "\n",
    "To do this, we can use hist's `plot_ratio` function. This function enables us to pass a function you want to fit to the histogram. The function is then fitted to the histogram and the ratio of the histogram and the fitted function is also shown. In the example below, we first define the function we want to fit. This is a third-order polynomial i.e. a cubic function."
   ]
  },
  {
   "cell_type": "code",
   "execution_count": null,
   "metadata": {},
   "outputs": [],
   "source": [
    "#Define a function that is a third order polynomial (background) plus a Gaussian distribution (signal)\n",
    "\n",
    "def fit_function(x, a, b, c,):\n",
    "    background = (a * x) +  (b * x * x) + (c * x * x * x)\n",
    "    return (background)"
   ]
  },
  {
   "cell_type": "markdown",
   "metadata": {},
   "source": [
    "Now draw our fit on the same histogram data (now shown as points with error bars) using the `plot_ratio` method."
   ]
  },
  {
   "cell_type": "code",
   "execution_count": null,
   "metadata": {},
   "outputs": [],
   "source": [
    "fig = plt.figure(figsize=(10, 8))\n",
    "main_ax_artists, sublot_ax_arists = my_hist.plot_ratio(fit_function)"
   ]
  },
  {
   "cell_type": "markdown",
   "metadata": {},
   "source": [
    "You can also use the options available to the method `plot_ratio` to change the appearence of the plot"
   ]
  },
  {
   "cell_type": "code",
   "execution_count": null,
   "metadata": {},
   "outputs": [],
   "source": [
    "fig = plt.figure(figsize=(10, 8))\n",
    "main_ax_artists, sublot_ax_arists = my_hist.plot_ratio(\n",
    "    fit_function,\n",
    "    eb_ecolor=\"black\",\n",
    "    eb_mfc=\"black\",\n",
    "    eb_mec=\"black\",\n",
    "    eb_fmt=\"o\",\n",
    "    fp_c=\"red\",\n",
    "    fp_ls=\"-\",\n",
    "    fp_lw=2,\n",
    "    fp_alpha=0.8,\n",
    ")"
   ]
  },
  {
   "cell_type": "markdown",
   "metadata": {},
   "source": [
    "<div class=\"alert alert-warning\">Is the bump at 125 GeV easier to see now? Compare your plot to the figure from the full ATLAS below, which uses much more data.</div>"
   ]
  },
  {
   "cell_type": "markdown",
   "metadata": {},
   "source": [
    "<CENTER><img src=\"images/Higgs.png\" style=\"width:50%\"></CENTER>"
   ]
  },
  {
   "cell_type": "markdown",
   "metadata": {},
   "source": [
    "<details>\n",
    "    <summary>Answer: </summary>\n",
    "    Even with much more data, the bump is small! However, sometimes a small bump is all we need - this amount of extra events over the expected background was enough for the Higgs to be declared discovered in 2012, winning Peter Higgs and François Englert, the scientists who first invented its theory, the Nobel Prize.\n",
    "</details>\n",
    "\n"
   ]
  },
  {
   "cell_type": "markdown",
   "metadata": {},
   "source": [
    "[Return to contents](#c)\n",
    "\n",
    "---"
   ]
  },
  {
   "cell_type": "markdown",
   "metadata": {},
   "source": [
    "<div class=\"alert alert-success\">\n",
    "\n",
    "__Congratulations!__ You've made it through one of the hardest notebooks and sucessfully discovered the Higgs, a feat we didn't accomplish at CERN until 2012! You're definitely able for one more Higgs hunting challenge - see you in Notebook 7!\n",
    "</div>"
   ]
  }
 ],
 "metadata": {
  "kernelspec": {
   "display_name": "Python 3 (ipykernel)",
   "language": "python",
   "name": "python3"
  },
  "language_info": {
   "codemirror_mode": {
    "name": "ipython",
    "version": 3
   },
   "file_extension": ".py",
   "mimetype": "text/x-python",
   "name": "python",
   "nbconvert_exporter": "python",
   "pygments_lexer": "ipython3",
   "version": "3.10.0"
  }
 },
 "nbformat": 4,
 "nbformat_minor": 4
}
