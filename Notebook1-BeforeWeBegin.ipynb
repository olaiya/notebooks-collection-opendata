{
 "cells": [
  {
   "cell_type": "markdown",
   "id": "5c807734",
   "metadata": {},
   "source": [
    "<CENTER><img src=\"images/logos.png\" style=\"width:50%\"></CENTER>"
   ]
  },
  {
   "cell_type": "markdown",
   "id": "99d8064d",
   "metadata": {},
   "source": [
    "# Introduction to Particle Physics - theory background"
   ]
  },
  {
   "cell_type": "markdown",
   "id": "04b865ed",
   "metadata": {},
   "source": [
    "Particle physics is the field of physics where structures of matter and radiation and the interactions between them are studied. In experimental particle physics,  research is performed by accelerating particles and colliding them either with other particles or with solid targets. This is done with _particle accelerators_ and  the collisions are examined with _particle detectors_.\n",
    "\n",
    "The world's largest particle accelerator, the Large Hadron Collider (LHC), is located at CERN, the European Organization for Nuclear Research. The LHC is a 27 kilometers long circle-shaped synchrotron accelerator. The LHC is located in a tunnel 100 meters underground on the border of France and Switzerland (image 1)."
   ]
  },
  {
   "cell_type": "markdown",
   "id": "43010fd7",
   "metadata": {},
   "source": [
    "In 2012 the ATLAS and CMS experiments at CERN made an announcement that they had observed a new particle with a mass equal to the predicted mass of the Higgs boson. The Higgs boson and the Higgs field related to it explain the origin of the mass of particles. In 2013 Peter Higgs and François Englert, who predicted the Higgs boson theoretically, were awarded the Nobel prize in physics."
   ]
  },
  {
   "cell_type": "markdown",
   "id": "059a6400",
   "metadata": {},
   "source": [
    "<figure>\n",
    "    <center> <img src=\"images/LHC-Copy1.png\" alt=\"image missing\" style=\"height: 350px\" />\n",
    "   <figcaption>Image 1: The LHC accelerator and the four detectors around it. &copy; <a href=\"https://cds.cern.ch/record/1708847\">CERN</a> [1]</figcaption> </center>\n",
    "</figure>"
   ]
  },
  {
   "cell_type": "markdown",
   "id": "af20d5ba",
   "metadata": {},
   "source": [
    "**Contents:**  <a name=\"c\"></a>\n",
    "- [Accelerating particles](#0.)\n",
    "- [Examining particle collisions - detectors ¶](#1.)\n",
    "\n",
    "---"
   ]
  },
  {
   "cell_type": "markdown",
   "id": "4b1d215c",
   "metadata": {},
   "source": [
    "## Accelerating particles <a name=\"0.\"></a>"
   ]
  },
  {
   "cell_type": "markdown",
   "id": "c1680c0d",
   "metadata": {},
   "source": [
    "The LHC mainly accelerates protons. The proton source of the LHC is a bottle of hydrogen. Protons are produced by stripping the electrons away from the hydrogen atoms with the help of an electric field.\n",
    "\n",
    "The process of accelerating the protons starts before the LHC. Before the protons arrive in the LHC they are accelerated with electric fields and directed with magnetic fields in smaller accelerators (Linac 2, Proton Synchrotron Booster, Proton Synchrotron and Super Proton Synchrotron). After these the protons have an energy of 450 GeV. The protons are injected into the LHC in two different beampipes, each beam contains 2808 proton bunches located about 7.5 meters from each other. Each of these bunches include $1\\text{.}2\\cdot 10^{11}$ protons.\n",
    "\n",
    "The two beams circulate in opposite directions in two different vacuum tubes. Image 2 shows a part of the LHC accelerator opened with the two vacuum tubes visible inside. Each of the proton beams will reach the energy of about 7 TeV (7000 GeV) in the LHC."
   ]
  },
  {
   "cell_type": "markdown",
   "id": "87689849",
   "metadata": {},
   "source": [
    "<figure>\n",
    " \n",
    "   <center> <img src=\"images/LHC2.jpg\" alt=\"image missing\" style=\"height: 350px\" />\n",
    "     <figcaption>Image 2: Part of the LHC accelerator opened. &copy; <a href=\"https://cds.cern.ch/record/905940\">CERN</a> [2]</figcaption> </center>\n",
    "</figure>"
   ]
  },
  {
   "cell_type": "markdown",
   "id": "86c2e76c",
   "metadata": {},
   "source": [
    "Particle collisions are created by crossing these two beams that are heading in opposite directions. Because the bunches are travelling so fast, there will be about 40 million bunch crosses per second in the LHC. When two proton bunches cross not all of the protons collide with each others. Only about 40 protons per bunch will collide and so create about 20 collisions. But that means there will be 800 million proton collisions every second in the LHC. That's a lot of action!\n",
    "\n",
    "The maximum energy of these collisions is 14 TeV. However in most cases the collision energy is smaller than that because when protons collide it is really their constitiuents, the quarks and gluons, which collide with each other. So not all of the energy of the protons is transmitted to the collision.\n",
    "\n",
    "When the protons collide the energy of the collision can be transformed into mass ($E=mc^2$) and new particles are produced in the collisions. These new particles are ejected from the collision area, a bit like a small explosion. By examining and measuring the particles created in collisions, researchers try to understand better the known particles which make up our universe and search for new particles which could explain puzzles such as dark matter."
   ]
  },
  {
   "cell_type": "markdown",
   "id": "10b43be3",
   "metadata": {},
   "source": [
    "### Video"
   ]
  },
  {
   "cell_type": "markdown",
   "id": "8ab37698",
   "metadata": {},
   "source": [
    "The acceleration and collision processes are summarised well in the short video below. Watch the video from the start until 1:15 to get a picture about these processes. You can start the video by running the code cell below (click the cell and then press SHIFT + ENTER)."
   ]
  },
  {
   "cell_type": "code",
   "execution_count": null,
   "id": "da214926",
   "metadata": {},
   "outputs": [],
   "source": [
    "from IPython.display import HTML\n",
    "HTML('<iframe width=\"560\" height=\"315\" src=\"https://www.youtube.com/embed/pQhbhpU9Wrg\" frameborder=\"0\" allow=\"accelerometer; autoplay; encrypted-media; gyroscope; picture-in-picture\" allowfullscreen></iframe>')"
   ]
  },
  {
   "cell_type": "markdown",
   "id": "27a65217",
   "metadata": {},
   "source": [
    "[Return to contents](#c)\n",
    "\n",
    "---"
   ]
  },
  {
   "cell_type": "markdown",
   "id": "b731e54b",
   "metadata": {},
   "source": [
    "## Examining particle collisions - detectors <a name=\"1.\"></a>"
   ]
  },
  {
   "cell_type": "markdown",
   "id": "75fd0e0f",
   "metadata": {},
   "source": [
    "At the LHC the proton beams are brought together to collide at four different points. In order to study the particles produced by the collisions, <b>particle detectors</b> are built around the collision points. \n",
    "The four particle detectors at the LHC are ATLAS, LHCb, ALICE and CMS (check Image 1). These detectors are like very large digital cameras and take a \"picture\" of the particles emerging from the collision.\n",
    "\n",
    "In Image 3 there are visualisations of some particles created in one collision <b>event</b> seen at the CMS (Compact Muon Solenoid) detector."
   ]
  },
  {
   "cell_type": "markdown",
   "id": "13c24240",
   "metadata": {},
   "source": [
    "<table><tr>\n",
    "<td> <img src=\"images/eventdisplay.png\" style=\"width: 150px;\"/> </td>\n",
    "</tr></table>"
   ]
  },
  {
   "cell_type": "markdown",
   "id": "9674adcf",
   "metadata": {},
   "source": [
    "If you want to look at some more event displays for different types of events, open the file <a href=\"Events/EventDisplays.pdf\"> here</a>. For answers to the quiz at the end, click <a href=\"Events/QuizAnswers.pdf\"> here</a>."
   ]
  },
  {
   "cell_type": "markdown",
   "id": "5a52b429",
   "metadata": {},
   "source": [
    "This set of execises uses data recorded by the ATLAS (A Large Toroidal LHC ApparatuS) detector, so lets look in more detail at this detector...\n",
    "\n",
    "Simplified, the goal of the ATLAS detector is to detect particles that are created in collisions and measure different quantities about them (charge, energy, momentum, etc.). The ATLAS detector consists of different <b> sub-detectors</b> which form an onion-like structure around the collision point. This structure ensures that as many particles as possible from the collision are detected and measured."
   ]
  },
  {
   "cell_type": "markdown",
   "id": "186693bd",
   "metadata": {},
   "source": [
    "<figure>\n",
    "    <center> <img src=\"images/Cutaway-ATLAS.png\" alt=\"image missing\" style=\"height: 360px\" />\n",
    "    <figcaption>Image 4: The ATLAS detector opened. &copy; <a href=\"https://cds.cern.ch/record/1095924 \">ATLAS Collaboration</a> [3]</figcaption> </center>\n",
    "</figure>"
   ]
  },
  {
   "cell_type": "markdown",
   "id": "e7ba2544",
   "metadata": {},
   "source": [
    "Different particles act differently in the different sub-detectors of ATLAS. Image 5 shows a cross-section of the ATLAS detector. The particle beams would travel in and out from the plane. Image 5 also demonstrates how different particles can be identified in the detector."
   ]
  },
  {
   "cell_type": "markdown",
   "id": "c48cc44d",
   "metadata": {},
   "source": [
    "<figure>\n",
    "   <center>  <img src=\"images/ATLAS.jpg\" alt=\"image missing\" style=\"height: 350px\" />\n",
    "   <figcaption>Image 5: The cross-section of the CMS and different particle interactions in it. &copy; <a href=\"https://cds.cern.ch/record/1505342\">ATLAS Collaboration</a> [4]</figcaption> </center>\n",
    "</figure>"
   ]
  },
  {
   "cell_type": "markdown",
   "id": "33137e00",
   "metadata": {},
   "source": [
    "Let's look at the different parts of the detector: "
   ]
  },
  {
   "cell_type": "markdown",
   "id": "c0f1ea54",
   "metadata": {},
   "source": [
    "### Tracker\n",
    "\n",
    "The innermost part is the silicon tracker. The silicon tracker makes it possible to reconstruct trajectories of charged particles. Charged particles interact electromagnetically with the tracker and create an electric pulse. An intense magnetic field bends the trajectories of the charged particles. With the curvature of the trajectories shown by the pulses created in the tracker, it is possible to calculate the momenta of the charged particles."
   ]
  },
  {
   "cell_type": "markdown",
   "id": "6cf18119",
   "metadata": {},
   "source": [
    "### Calorimeter\n",
    "\n",
    "\n",
    "Particle energies can be measured with help of the calorimeters. Electrons and photons will be stopped by the Electromagnetic Calorimeter (ECAL). Hadrons, for example protons or neutrons, will pass through the ECAL but will be stopped in the Hadron Calorimeter (HCAL). The ATLAS calorimeters are made up of two subsystems. \n",
    "\n",
    "The Liquid Argon (LAr) Calorimeter surrounds the ATLAS Inner Detector and measures the energy of electrons, photons and hadrons. This system is made of layers of metal which absorb high energy particles, turning them into a 'shower' of lower energy particle which ionised layers of liquid argon in-between, creating an electrical signal. To keep the argon in liquid form, the LAr calorimeter is kept at -184°C. \n",
    "\n",
    "The second ATLAS calorimeter is the Tile calorimeter, which surrounds the LAr and measures the energy of hadronical particles only, which may not have deposited all of their energy in the LAr. This is made of layers of steel, which generates showers of particles from incoming particles, and scintillating plastic tiles, which convert the showering particles to photons of a proportional energy, and which we can measure."
   ]
  },
  {
   "cell_type": "markdown",
   "id": "fde9297e",
   "metadata": {},
   "source": [
    "### Muon spectrometer\n",
    "\n",
    "Only muons and very weakly interacting particles like neutrinos will pass through both the ECAL and HCAL without being stopped. Energies and momenta of muons can be determined with the muon chambers. The detection of the momentum is based on electrical pulses that muons create in the different sections of the muon chambers. Energies of muons can't be measured directly, but the energies will be determined by calculating them from the other measured quantities.\n"
   ]
  },
  {
   "cell_type": "markdown",
   "id": "ca830ab5",
   "metadata": {},
   "source": [
    "### Missing energy\n",
    "\n",
    "Neutrinos can't be detected directly in the detector (they only interact very weakly and pass right through the detector), but the existence of them can be derived with the help of missing energy. It is possible that the total energy of the particles detected in a collision is smaller than the energy before the collision. Yet, we know that energy must be conserved. This situation indicates that something was undetected in the collision, this <b>\"missing energy\"</b> is assumed to be due to neutrinos created in the collision."
   ]
  },
  {
   "cell_type": "markdown",
   "id": "b6654b79",
   "metadata": {},
   "source": [
    "[Return to contents](#c)\n",
    "\n",
    "---"
   ]
  },
  {
   "cell_type": "markdown",
   "id": "f1512bf6",
   "metadata": {},
   "source": [
    "<div class=\"alert alert-success\">\n",
    "\n",
    "__Congratulations!__ Now you know how a particle accelerator works, and how particle physicists use detectors to get a snapshot of the collisions! To get a first taste of the programming tools used to study the results of particle collisions, move on to Notebook 2.\n",
    "    \n",
    "</div>"
   ]
  },
  {
   "cell_type": "markdown",
   "id": "e0cea12e",
   "metadata": {},
   "source": [
    "<div class=\"alert alert-success\">Before you continue to the next notebook, please familarise yourself with how particle accelerators work by watching <a href=\"https://youtu.be/WwLPH5B0efk\"> this </a> RAL video by Dr Tom Williams..</div>"
   ]
  },
  {
   "cell_type": "markdown",
   "id": "65f55962",
   "metadata": {},
   "source": [
    "### Sources"
   ]
  },
  {
   "cell_type": "markdown",
   "id": "bea1000f",
   "metadata": {},
   "source": [
    "[1] P. Mouche, *Overall view of the LHC. Vue d'ensemble du LHC*, 2014.\n",
    "Url: [https://cds.cern.ch/record/1708847](https://cds.cern.ch/record/1708847).\n",
    "\n",
    "[2] M. Brice, *View of an open LHC interconnection. Vue d'une interconnection ouverte*, 2005.\n",
    "Url: [https://cds.cern.ch/record/905940](https://cds.cern.ch/record/905940)\n",
    "\n",
    "[3] ATLAS Collaboration, *Computer generated image of the whole ATLAS detector*, 2008.\n",
    "Url: [https://cds.cern.ch/record/1095924](https://cds.cern.ch/record/1095924).\n",
    "\n",
    "[4] ATLAS Collaboration, *How ATLAS detects particles: diagram of particle paths in the detector*, 2013.\n",
    "Url: [https://cds.cern.ch/record/1505342](https://cds.cern.ch/record/1505342)."
   ]
  }
 ],
 "metadata": {
  "kernelspec": {
   "display_name": "Python 3 (ipykernel)",
   "language": "python",
   "name": "python3"
  },
  "language_info": {
   "codemirror_mode": {
    "name": "ipython",
    "version": 3
   },
   "file_extension": ".py",
   "mimetype": "text/x-python",
   "name": "python",
   "nbconvert_exporter": "python",
   "pygments_lexer": "ipython3",
   "version": "3.7.6"
  }
 },
 "nbformat": 4,
 "nbformat_minor": 5
}
