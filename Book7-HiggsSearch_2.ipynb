{
 "cells": [
  {
   "cell_type": "markdown",
   "id": "d813229d",
   "metadata": {},
   "source": [
    "<CENTER><img src=\"images/logos.png\" style=\"width:50%\"></CENTER>"
   ]
  },
  {
   "cell_type": "markdown",
   "id": "76cd76af",
   "metadata": {},
   "source": [
    "# Higgs Search 2: The H$\\rightarrow$WW channel"
   ]
  },
  {
   "cell_type": "markdown",
   "id": "30a843ee",
   "metadata": {},
   "source": [
    "The following analysis will aim to find a signal for the Higgs boson decaying to 2 W-bosons:\n",
    "\n",
    "<br>\n",
    "\n",
    "<CENTER><img src=\"https://atlas.web.cern.ch/Atlas/GROUPS/PHYSICS/PAPERS/HIGG-2016-07/fig_01a.png\" style=\"width:30%\"></CENTER>\n",
    "\n",
    "<br>\n",
    "\n",
    "above its the largest background; Events coming from the SM WW-diboson background production from two quarks:\n",
    "\n",
    "<CENTER><img src=\"https://cds.cern.ch/record/1484203/files/fig1b.png\" style=\"width:30%\"></CENTER>\n",
    "\n",
    "\n",
    "<br>\n",
    "\n",
    "Unlike the previous analysis, we can't do a bump-hunt when the invariant mass of the decay products is larger than the mass of the particle that's decaying ($m_H$=125 GeV and $m_W$=80 GeV x 2). Instead, we can do a  __non-resonant search__. This is done by histogramming some variable of the decay products (in this case a variable called *transverse mass*) for both data and Monte-Carlo simulations of the background, subtracting the backgrounds from the data (scaled for the fact we have many more simulated events than real events) before looking at the events, if any, left over indicating the presence of the Higgs."
   ]
  },
  {
   "cell_type": "markdown",
   "id": "e0c23ba3",
   "metadata": {},
   "source": [
    "<div class=\"alert alert-success\">This analysis is inspired by the prompt on the Open Data website <a href=\"http://opendata.atlas.cern/release/2020/documentation/physics/DL2.html\"> here</a>.</div>"
   ]
  },
  {
   "cell_type": "markdown",
   "id": "9431b383",
   "metadata": {},
   "source": [
    "**Contents:** <a name=\"c\"></a>\n",
    "- [Initial setup](#0.)\n",
    "- [Reading in ROOT files](#1.)\n",
    "- [Preparing histograms](#2.)\n",
    "- [Selecting events and filling histograms](#3.)\n",
    "- [Running your event loop](#4.)\n",
    "- [Draw final plots ](#5.)\n",
    "- [Optional extra exercises / 'Do your own project' ideas](#6.)\n",
    "---"
   ]
  },
  {
   "cell_type": "markdown",
   "id": "df499e15",
   "metadata": {},
   "source": [
    "## 0. Initial setup <a name=\"0.\"></a>"
   ]
  },
  {
   "cell_type": "markdown",
   "id": "4b6a5878",
   "metadata": {},
   "source": [
    "### Importing libraries"
   ]
  },
  {
   "cell_type": "markdown",
   "id": "d45e3f3b",
   "metadata": {},
   "source": [
    "Since this is a new notebook, we'll need to import the usual python libraries"
   ]
  },
  {
   "cell_type": "code",
   "execution_count": null,
   "id": "a77d768b",
   "metadata": {},
   "outputs": [],
   "source": [
    "import uproot\n",
    "import hist\n",
    "from hist import Hist\n",
    "from TLorentzVector import TLorentzVector\n",
    "import numpy as np\n",
    "import matplotlib.pyplot as plt"
   ]
  },
  {
   "cell_type": "markdown",
   "id": "2bc215ac",
   "metadata": {},
   "source": [
    "### Defining functions"
   ]
  },
  {
   "cell_type": "markdown",
   "id": "24932aa0",
   "metadata": {},
   "source": [
    "We'll also be reusing one of the helpful functions we wrote in Notebook 6..."
   ]
  },
  {
   "cell_type": "code",
   "execution_count": null,
   "id": "5792d897",
   "metadata": {},
   "outputs": [],
   "source": [
    "def trackProgress(n,m):\n",
    "    \"\"\"\n",
    "    Function which prints the event loop progress every m events \n",
    "    \n",
    "    Parameters\n",
    "    ----------\n",
    "    n : Number of events processed so far\n",
    "    \n",
    "    m : Printout event interval\n",
    "    \n",
    "    \"\"\"\n",
    "    if n == 0:\n",
    "        print(\"Event loop tracker\")\n",
    "        print(\"------------------\")\n",
    "    \n",
    "    if(n%m==0):\n",
    "        print(\"%d events processed\" % n)"
   ]
  },
  {
   "cell_type": "markdown",
   "id": "7250124c",
   "metadata": {},
   "source": [
    "<div class=\"alert alert-info\">Now, we follow very similar anaysis steps to Notebook 6!</div>"
   ]
  },
  {
   "cell_type": "markdown",
   "id": "ac635ff7",
   "metadata": {},
   "source": [
    "[Return to contents](#c)\n",
    "\n",
    "---"
   ]
  },
  {
   "cell_type": "markdown",
   "id": "13a77eeb",
   "metadata": {},
   "source": [
    "## 1. Reading in ROOT files <a name=\"1.\"></a>"
   ]
  },
  {
   "cell_type": "markdown",
   "id": "4c7a9d69",
   "metadata": {},
   "source": [
    "### Dilepton data"
   ]
  },
  {
   "cell_type": "code",
   "execution_count": null,
   "id": "c2eb8a6f",
   "metadata": {},
   "outputs": [],
   "source": [
    "real = uproot.open(\"https://atlas-opendata.web.cern.ch/atlas-opendata/samples/2020/2lep/Data/data_A.2lep.root\")\n",
    "dataTree = real[\"mini\"]\n",
    "print(\"Tree contains\", len(dataTree[\"runNumber\"].array()), \"entries\")"
   ]
  },
  {
   "cell_type": "markdown",
   "id": "00237d04",
   "metadata": {},
   "source": [
    "### qq$\\rightarrow$WW background (MC)"
   ]
  },
  {
   "cell_type": "markdown",
   "id": "da9731e3",
   "metadata": {},
   "source": [
    "These background events are not real data, they are created using simulations (\"Monte-Carlo\" in physicis-speak!)."
   ]
  },
  {
   "cell_type": "code",
   "execution_count": null,
   "id": "4867b227",
   "metadata": {},
   "outputs": [],
   "source": [
    "bkg = uproot.open(\"https://atlas-opendata.web.cern.ch/atlas-opendata/samples/2020/2lep/MC/mc_363492.llvv.2lep.root\")\n",
    "bkgTree = bkg[\"mini\"]\n",
    "print(\"Tree contains\", len(bkgTree[\"runNumber\"].array()), \"entries\") "
   ]
  },
  {
   "cell_type": "markdown",
   "id": "499d8183",
   "metadata": {},
   "source": [
    "<div class=\"alert alert-info\">Since many more of these simulated events are created than real data events are recorded, later on we will have to scale the size of the background to account for this.</div>"
   ]
  },
  {
   "cell_type": "markdown",
   "id": "16653ad0",
   "metadata": {},
   "source": [
    "[Return to contents](#c)\n",
    "\n",
    "---"
   ]
  },
  {
   "cell_type": "markdown",
   "id": "48d038e5",
   "metadata": {},
   "source": [
    "## 2. Preparing histograms <a name=\"2.\"></a>"
   ]
  },
  {
   "cell_type": "code",
   "execution_count": null,
   "id": "ae398e18",
   "metadata": {},
   "outputs": [],
   "source": [
    "h_bgs = Hist(hist.axis.Regular(20, 60, 300, label = \"Transverse mass m_{T}\"))\n",
    "h_dat = Hist(hist.axis.Regular(20, 60, 300, label = \"Transverse mass m_{T}\"))\n",
    "\n",
    "dataTree.show()"
   ]
  },
  {
   "cell_type": "markdown",
   "id": "d78c1f09",
   "metadata": {},
   "source": [
    "[Return to contents](#c)\n",
    "\n",
    "---"
   ]
  },
  {
   "cell_type": "markdown",
   "id": "20207824",
   "metadata": {},
   "source": [
    "## 3. Selecting events and filling histograms  <a name=\"3.\"></a>"
   ]
  },
  {
   "cell_type": "markdown",
   "id": "1a2816c6",
   "metadata": {},
   "source": [
    "As before, we'll break our code up into separate __functions__ to make it more manageable and readable."
   ]
  },
  {
   "cell_type": "markdown",
   "id": "16ccf972",
   "metadata": {},
   "source": [
    "### 1) Rescaling the simulated events"
   ]
  },
  {
   "cell_type": "markdown",
   "id": "5b071fc4",
   "metadata": {},
   "source": [
    "When MC simulation is compared to data the contribution of each simulated event needs to be\n",
    "    scaled ('reweighted') to account for differences in how some objects behave in simulation\n",
    "    vs in data, as well as the fact that there are different numbers of events in the MC tree than \n",
    "    in the data tree."
   ]
  },
  {
   "cell_type": "code",
   "execution_count": null,
   "id": "73d365ef",
   "metadata": {},
   "outputs": [],
   "source": [
    "def mcWeights(data,lumi=10):\n",
    "    \"\"\"\n",
    "    When MC simulation is compared to data the contribution of each simulated event needs to be\n",
    "    scaled ('reweighted') to account for differences in how some objects behave in simulation\n",
    "    vs in data, as well as the fact that there are different numbers of events in the MC tree than \n",
    "    in the data tree.\n",
    "    \n",
    "    Parameters\n",
    "    ----------\n",
    "    tree : TTree entry for this event\n",
    "    \"\"\"\n",
    "    \n",
    "    XSection = data[\"XSection\"]\n",
    "    SumWeights = data[\"SumWeights\"]\n",
    "    #These values don't change from event to event\n",
    "    norm = lumi*(XSection*1000)/SumWeights\n",
    "    \n",
    "    scaleFactor_ELE = data[\"scaleFactor_ELE\"]\n",
    "    scaleFactor_MUON = data[\"scaleFactor_MUON\"]\n",
    "    scaleFactor_LepTRIGGER = data[\"scaleFactor_LepTRIGGER\"]\n",
    "    scaleFactor_PILEUP = data[\"scaleFactor_PILEUP\"]\n",
    "    mcWeight = data[\"mcWeight\"]\n",
    "    #These values do change from event to event\n",
    "    scale_factors = scaleFactor_ELE*scaleFactor_MUON*scaleFactor_LepTRIGGER*scaleFactor_PILEUP*mcWeight\n",
    "    \n",
    "    weight = norm*scale_factors\n",
    "    return weight"
   ]
  },
  {
   "cell_type": "markdown",
   "id": "a1542119",
   "metadata": {},
   "source": [
    "### 2) Selecting 'good leptons'"
   ]
  },
  {
   "cell_type": "markdown",
   "id": "1328796a",
   "metadata": {},
   "source": [
    "W bosons do not show up directly in the ATLAS detector - they decay too quickly! Instead, we infer that they were there by the presence of their decay products -  one 'good quality' lepton and missing energy ('MET') from the non-interacting neutrino. "
   ]
  },
  {
   "cell_type": "code",
   "execution_count": null,
   "id": "44501063",
   "metadata": {},
   "outputs": [],
   "source": [
    "def goodLeptons(data):\n",
    "    \"\"\"\n",
    "    A function to return the indices of 'good leptons' (electrons or muons) in an event. This follows \n",
    "    many of the same steps as locateGoodPhotons() and photonIsolation() in Notebook 6.\n",
    "    \n",
    "    Parameters\n",
    "    ----------\n",
    "    tree : TTree entry for this event\n",
    "    \"\"\"\n",
    "    \n",
    "    #Initialise (set up) the variables we want to return\n",
    "    goodlepton_index = [] #Indices (position in list of event's leptons) of our good leptons\n",
    "    \n",
    "    lep_n = data[\"lep_n\"]\n",
    "    ##Loop through all the leptons in the event\n",
    "    for j in range(0,lep_n):\n",
    "        lep_isTightID = data[\"lep_isTightID\"][j]    \n",
    "        ##Check lepton ID\n",
    "        if(lep_isTightID):\n",
    "            lep_ptcone30 = data[\"lep_ptcone30\"][j]\n",
    "            lep_pt = data[\"lep_pt\"][j]\n",
    "            lep_etcone20 = data[\"lep_etcone20\"][j]\n",
    "            #Check lepton isolation\n",
    "            #Similar to photonIsolation() above, different thresholds\n",
    "            if((lep_ptcone30 / lep_pt < 0.1) and \n",
    "               (lep_etcone20 / lep_pt < 0.1)):\n",
    "\n",
    "                #Only central leptons \n",
    "                #Electrons and muons have slightly different eta requirements\n",
    "                lep_type = data[\"lep_type\"][j]\n",
    "                lep_eta = data[\"lep_eta\"][j]\n",
    "                #Electrons: 'Particle type code' = 11\n",
    "                if lep_type == 11:\n",
    "                    #Check lepton eta is in the 'central' region and not in \"transition region\" \n",
    "                    if (np.abs(lep_eta) < 2.37) and\\\n",
    "                       (np.abs(lep_eta) < 1.37 or np.abs(lep_eta) > 1.52): \n",
    "\n",
    "                        goodlepton_index.append(j) #Store lepton's index\n",
    "\n",
    "                #Muons: 'Particle type code' = 13\n",
    "                elif (lep_type == 13) and (np.abs(lep_eta) < 2.5): #Check'central' region\n",
    "\n",
    "                        goodlepton_index.append(j) #Store lepton's index\n",
    "\n",
    "\n",
    "    return goodlepton_index #return list of good lepton indices"
   ]
  },
  {
   "cell_type": "markdown",
   "id": "d063fa7c",
   "metadata": {},
   "source": [
    "### Put it all together in the event loop!"
   ]
  },
  {
   "cell_type": "code",
   "execution_count": null,
   "id": "c930cfbe",
   "metadata": {},
   "outputs": [],
   "source": [
    "def hWW(data,hist,mode):\n",
    "    \"\"\"\n",
    "    Function which executes the analysis flow for the Higgs production cross-section measurement in the H->WW\n",
    "    decay channel.\n",
    "    \n",
    "    Fills a histogram with mT(llvv) of events which pass the full set of cuts \n",
    "    \n",
    "    Parameters\n",
    "    ----------\n",
    "    data : A Ttree containing data / background information\n",
    "    \n",
    "    hist : The name of the histogram to be filled with mT(llvv) values\n",
    "    \n",
    "    mode : A flag to tell the function if it is looping over 'data' or 'mc'\n",
    "    \"\"\"\n",
    "    \n",
    "    n = 0\n",
    "    for event in data:\n",
    "        \n",
    "        #############################\n",
    "        ### Event-level requirements\n",
    "        #############################\n",
    "    \n",
    "        trackProgress(n,100000)\n",
    "        n += 1\n",
    "        \n",
    "        #If event is MC: Reweight it\n",
    "        if mode.lower() == 'mc': weight = mcWeights(event)\n",
    "        else: weight = 1\n",
    "            \n",
    "        trigE = event[\"trigE\"]\n",
    "        trigM = event[\"trigM\"]\n",
    "        #If the event passes either the electron or muon trigger\n",
    "        if trigE or trigM:\n",
    "            \n",
    "            ####Lepton preselections\n",
    "            goodLeps = goodLeptons(event) #If the datafiles were not already filtered by number of leptons\n",
    "\n",
    "            ###################################\n",
    "            ### Individual lepton requirements\n",
    "            ###################################\n",
    "\n",
    "            if len(goodLeps) == 2: #Exactly two good leptons...\n",
    "                lep1 = goodLeps[0] #INDICES of the good leptons\n",
    "                lep2 = goodLeps[1]\n",
    "                \n",
    "                lep_type = event[\"lep_type\"]\n",
    "                if lep_type[lep1] != lep_type[lep2]: #... with different flavour\n",
    "                    \n",
    "                    lep_charge = event[\"lep_charge\"]\n",
    "                    if lep_charge[lep1] != lep_charge[lep2]: #... and opposite charge...\n",
    "                        \n",
    "                        lep_pt = event[\"lep_pt\"]\n",
    "                        if (lep_pt[lep1] > 22000) and (lep_pt[lep2] > 15000): #pT requirements\n",
    "                            #Note: TTrees always sort objects in descending pT order\n",
    "                            \n",
    "                            lep_phi = event[\"lep_phi\"]\n",
    "                            if abs(lep_phi[lep1] - lep_phi[lep2]) < 1.8: #lepton separtion in phi \n",
    "\n",
    "                                #################################\n",
    "                                ### Dilepton system requirements\n",
    "                                #################################\n",
    "\n",
    "                                #Initialse (set up) an empty 4 vector for dilepton system\n",
    "                                dilep_four_mmtm = TLorentzVector()\n",
    "\n",
    "                                #Loop through our list of lepton indices\n",
    "                                for i in goodLeps:\n",
    "\n",
    "                                    #Initialse (set up) an empty 4 vector for each lepton\n",
    "                                    lep_i = TLorentzVector()\n",
    "                                    \n",
    "                                    lep_pt = event[\"lep_pt\"][i]\n",
    "                                    lep_eta = event[\"lep_eta\"][i]\n",
    "                                    lep_phi = event[\"lep_phi\"][i]\n",
    "                                    lep_E = event[\"lep_E\"][i]\n",
    "                                    #Retrieve the lepton's 4 momentum components from the tree\n",
    "                                    lep_i.SetPtEtaPhiE(lep_pt, lep_eta, lep_phi, lep_E)\n",
    "\n",
    "                                    #Store lepton's 4 momentum\n",
    "                                    dilep_four_mmtm += lep_i\n",
    "                                  \n",
    "                                # Dilepton system pT > 30 GeV\n",
    "                                if dilep_four_mmtm.Pt() > 30000:\n",
    "\n",
    "                                    if (dilep_four_mmtm.M() > 10000) and (dilep_four_mmtm.M() < 55000):\n",
    "\n",
    "                                        #####################\n",
    "                                        ### MET requirements\n",
    "                                        #####################\n",
    "                                        \n",
    "                                        met_et = event[\"met_et\"]\n",
    "                                        met_phi = event[\"met_phi\"]\n",
    "                                        #Initialse (set up) an empty 4 vector for the event's MET and fill from tree\n",
    "                                        met_four_mom = TLorentzVector()\n",
    "                                        met_four_mom.SetPtEtaPhiE(met_et,0,met_phi,met_et)\n",
    "\n",
    "                                        #MET > 30 GeV\n",
    "                                        if met_four_mom.Pt() > 30000:\n",
    "\n",
    "                                            #Diffence in phi between the dilepton system and the MET < pi/2\n",
    "                                            if abs(dilep_four_mmtm.Phi()-met_four_mom.Phi()) < 1.571:\n",
    "\n",
    "                                                #####################\n",
    "                                                ### Full llvv system\n",
    "                                                #####################\n",
    "                                                system_four_mom = dilep_four_mmtm + met_four_mom\n",
    "                                                \n",
    "                                                #Use the keyword weight to specify the weight of the evwnt\n",
    "                                                hist.fill(system_four_mom.Mt()/1000, weight=weight)\n",
    "                                            \n",
    "                                        "
   ]
  },
  {
   "cell_type": "markdown",
   "id": "c671be55",
   "metadata": {},
   "source": [
    "[Return to contents](#c)\n",
    "\n",
    "---"
   ]
  },
  {
   "cell_type": "markdown",
   "id": "0108ff0a",
   "metadata": {},
   "source": [
    "## 4. Running your event loop <a name=\"4.\"></a>"
   ]
  },
  {
   "cell_type": "markdown",
   "id": "9d791c60",
   "metadata": {},
   "source": [
    "### Data array"
   ]
  },
  {
   "cell_type": "markdown",
   "id": "2ae82a65",
   "metadata": {},
   "source": [
    "Select the measurements you want in your data array"
   ]
  },
  {
   "cell_type": "code",
   "execution_count": null,
   "id": "3a4a5e91",
   "metadata": {},
   "outputs": [],
   "source": [
    "#Data\n",
    "data = dataTree.arrays([\"lep_ptcone30\",\"lep_etcone20\", \"lep_isTightID\", \"lep_eta\", \"photon_phi\", \"lep_type\",\n",
    "                          \"lep_n\", \"photon_E\", \"lep_E\", \"lep_pt\", \"trigP\", \"XSection\", \"SumWeights\", \"trigE\", \"trigM\",\n",
    "                          \"scaleFactor_ELE\", \"scaleFactor_MUON\", \"scaleFactor_PILEUP\", \"scaleFactor_LepTRIGGER\",\n",
    "                        \"mcWeight\", \"lep_charge\",\"lep_phi\", \"met_et\", \"met_phi\"])"
   ]
  },
  {
   "cell_type": "markdown",
   "id": "55aec29c",
   "metadata": {},
   "source": [
    "Run your data loop"
   ]
  },
  {
   "cell_type": "code",
   "execution_count": null,
   "id": "340cdf3e",
   "metadata": {},
   "outputs": [],
   "source": [
    "#Data\n",
    "hWW(data,h_dat,'data')"
   ]
  },
  {
   "cell_type": "markdown",
   "id": "9a335a16",
   "metadata": {},
   "source": [
    "<div class=\"alert alert-danger\">Warning, this may take a long time!.</div>"
   ]
  },
  {
   "cell_type": "markdown",
   "id": "38637bd6",
   "metadata": {},
   "source": [
    "Plot your data"
   ]
  },
  {
   "cell_type": "code",
   "execution_count": null,
   "id": "f2352bc8",
   "metadata": {},
   "outputs": [],
   "source": [
    "h_dat.plot(histtype = \"fill\")\n",
    "plt.show()"
   ]
  },
  {
   "cell_type": "markdown",
   "id": "0290d4f4",
   "metadata": {},
   "source": [
    "### Simulation array"
   ]
  },
  {
   "cell_type": "markdown",
   "id": "631a76e9",
   "metadata": {},
   "source": [
    "Select the measurements you want in your simulation array"
   ]
  },
  {
   "cell_type": "code",
   "execution_count": null,
   "id": "9fde6672",
   "metadata": {},
   "outputs": [],
   "source": [
    "#MC\n",
    "mcSim = bkgTree.arrays([\"lep_ptcone30\",\"lep_etcone20\", \"lep_isTightID\", \"lep_eta\", \"photon_phi\", \"lep_type\",\n",
    "                          \"lep_n\", \"photon_E\", \"lep_E\", \"lep_pt\", \"trigP\", \"XSection\", \"SumWeights\", \"trigE\", \"trigM\",\n",
    "                          \"scaleFactor_ELE\", \"scaleFactor_MUON\", \"scaleFactor_PILEUP\", \"scaleFactor_LepTRIGGER\",\n",
    "                        \"mcWeight\", \"lep_charge\",\"lep_phi\", \"met_et\", \"met_phi\"])"
   ]
  },
  {
   "cell_type": "markdown",
   "id": "226ccbf1",
   "metadata": {},
   "source": [
    "Run your MC loop"
   ]
  },
  {
   "cell_type": "code",
   "execution_count": null,
   "id": "0c930cc6",
   "metadata": {},
   "outputs": [],
   "source": [
    "#MC \n",
    "hWW(mcSim,h_bgs,'mc')"
   ]
  },
  {
   "cell_type": "markdown",
   "id": "a73cea32",
   "metadata": {},
   "source": [
    "<div class=\"alert alert-danger\">Warning, this may take a VERY long time!.</div>"
   ]
  },
  {
   "cell_type": "markdown",
   "id": "9e06f4a0",
   "metadata": {},
   "source": [
    "Plot your MC backgrounds"
   ]
  },
  {
   "cell_type": "code",
   "execution_count": null,
   "id": "8e5b23c9",
   "metadata": {},
   "outputs": [],
   "source": [
    "#Look at MC histogram\n",
    "\n",
    "h_bgs.plot(histtype = \"fill\")\n",
    "plt.show()\n",
    "h_bgs.sum()"
   ]
  },
  {
   "cell_type": "markdown",
   "id": "e4e8d115",
   "metadata": {},
   "source": [
    "[Return to contents](#c)\n",
    "\n",
    "---"
   ]
  },
  {
   "cell_type": "markdown",
   "id": "8b230f48",
   "metadata": {},
   "source": [
    "## 5. Draw final plots <a name=\"5.\"></a>"
   ]
  },
  {
   "cell_type": "markdown",
   "id": "17435074",
   "metadata": {},
   "source": [
    "Draw the data and simulated background histograms on the same canvas"
   ]
  },
  {
   "cell_type": "code",
   "execution_count": null,
   "id": "8f14a69c",
   "metadata": {},
   "outputs": [],
   "source": [
    "h_dat.plot(histtype = \"fill\")\n",
    "h_bgs.plot(histtype = \"fill\")\n",
    "\n",
    "plt.show()"
   ]
  },
  {
   "cell_type": "markdown",
   "id": "bbae2d23",
   "metadata": {},
   "source": [
    "Subtract the two histograms"
   ]
  },
  {
   "cell_type": "code",
   "execution_count": null,
   "id": "12352035",
   "metadata": {},
   "outputs": [],
   "source": [
    "h_diff = h_dat - h_bgs"
   ]
  },
  {
   "cell_type": "markdown",
   "id": "8a2545ff",
   "metadata": {},
   "source": [
    "Plot the subtracted histogram"
   ]
  },
  {
   "cell_type": "code",
   "execution_count": null,
   "id": "ddf8cd58",
   "metadata": {},
   "outputs": [],
   "source": [
    "h_diff.plot(histtype = \"fill\")\n",
    "plt.show()"
   ]
  },
  {
   "cell_type": "markdown",
   "id": "6e07099f",
   "metadata": {},
   "source": [
    "<div class=\"alert alert-success\">This subtracted histogram is our measured Higgs signal!.</div>"
   ]
  },
  {
   "cell_type": "markdown",
   "id": "e9eb82e7",
   "metadata": {},
   "source": [
    "[Return to contents](#c)\n",
    "\n",
    "---"
   ]
  },
  {
   "cell_type": "markdown",
   "id": "f61c632e",
   "metadata": {},
   "source": [
    "## Optional extra exercises / 'Do your own project' ideas  <a name=\"6.\"></a>"
   ]
  },
  {
   "cell_type": "markdown",
   "id": "ca19b3e6",
   "metadata": {},
   "source": [
    "<div class=\"alert alert-info\"> When completing these execises, it is recommended to copy/paste any code you're reusing from above into new cells, to keep the example available for reference.\n",
    "<br>\n",
    "    \n",
    "New cells can be added above using `esc` + `a`, below using `esc` + `b`, or using the `Insert` tab at the top of the page.</div> "
   ]
  },
  {
   "cell_type": "markdown",
   "id": "cbeedcba",
   "metadata": {},
   "source": [
    "a) This estimation of the strength of our Higgs signal is actually rather overoptimistic! This is because we are only accounting for one background (albeit the largest one). Another large background to the $H\\rightarrow WW$ process comes from top quarks.\n",
    "- Seach in the [Open Data repository](https://atlas-opendata.web.cern.ch/atlas-opendata/samples/2020) for some simiulated top quark production data.\n",
    "- Initialise a histogram for your top data, apply your analysis cuts and fill the histogram\n",
    "- Think of the best way to display your results on a histogram"
   ]
  },
  {
   "cell_type": "markdown",
   "id": "41e95138",
   "metadata": {},
   "source": [
    "<details>\n",
    "    <summary>Click here for plotting hint 1: </summary>\n",
    "    Sum your background histograms togther (similar to the subtraction) and adjust your plot legend, or..\n",
    "</details>"
   ]
  },
  {
   "cell_type": "markdown",
   "id": "88557ebe",
   "metadata": {},
   "source": [
    "<details>\n",
    "    <summary>Click here for plotting hint 2: </summary>\n",
    "    Recall hist's stacking ability...\n",
    "</details>"
   ]
  },
  {
   "cell_type": "markdown",
   "id": "a07ca6b8",
   "metadata": {},
   "source": [
    "b) The reason for imposing **cuts** in any analysis is to reduce backgrounds while keeping as many of our signal events as possible. We are now considering a new background, the production of top quarks.\n",
    "\n",
    "Fortunately, processes involving top quarks are easy to spot, because the decay almost exclusively to **bjets** - showers of strongly interacting particles originating from a bottom quark.\n",
    "\n",
    "- Take a look at the [prompt](http://opendata.atlas.cern/release/2020/documentation/physics/DL2.html) for this analysis on the Open Data website. You'll notice that there's one about jets that we've skipped.\n",
    "\n",
    "    - Return to our $H\\rightarrow WW$ analysis, and implement this cut to reduced the contribution from our newly-added top background."
   ]
  },
  {
   "cell_type": "markdown",
   "id": "cf12111f",
   "metadata": {},
   "source": [
    "<details>\n",
    "    <summary>Click here for hint 1: </summary>\n",
    "    Write a function similar to goodLeptons() that returns the indices of good jets in the event. For each jet in an event only keep it if:\n",
    "        \n",
    "    jet_pt > 30 GeV\n",
    "</details>"
   ]
  },
  {
   "cell_type": "markdown",
   "id": "aa6fbd61",
   "metadata": {},
   "source": [
    "<details>\n",
    "    <summary>Click here for hint 2: </summary>\n",
    "    Write a function similar to goodLeptons() that returns the indices of good bjets in the event. For each bjet in an event only keep it if:\n",
    "    \n",
    "    - jet_MV2c10 > 0.18    \n",
    "    - jet_pt > 20 GeV\n",
    "    \n",
    "- MV2c10 is the ATLAS algorithm that tell's us how likely it is that a jet is a bjet. These kinds of algorithms are called __btaggers__.\n",
    "</details>"
   ]
  },
  {
   "cell_type": "markdown",
   "id": "0cad8beb",
   "metadata": {},
   "source": [
    "<details>\n",
    "    <summary>Click here for hint 3: </summary>\n",
    "    Our btagger is another thing that performs differently on real data vs simulated MC data. This means it needs to be added to the multiplication in our mcWeights() function. \n",
    "    \n",
    "The btagging scale factor changes from event-to-event, and is stored in a branch called `scaleFactor_BTAG`\n",
    "</details>"
   ]
  },
  {
   "cell_type": "markdown",
   "id": "33d3e822",
   "metadata": {},
   "source": [
    "<details>\n",
    "    <summary>Click here for hint 4: </summary>\n",
    "    \n",
    "In our main event loop, only keep an event if it has:\n",
    "    - Less than 2 good-jets\n",
    "    - 0 good-bjets \n",
    "        \n",
    "</details>"
   ]
  },
  {
   "cell_type": "markdown",
   "id": "7fb2a4f8",
   "metadata": {},
   "source": [
    "[Return to contents](#c)\n",
    "\n",
    "---"
   ]
  },
  {
   "cell_type": "markdown",
   "id": "24655847",
   "metadata": {},
   "source": [
    "<div class=\"alert alert-success\">\n",
    "\n",
    "__Congratulations!__ You've successfully completed ALL the notebooks! Very few make it this far, you should be proud of yourself! It's time to take your new scientific skills solo and start doing your own research - use the tips in the blue box below, or any of the Extra exercises / 'Do your own project' prompts from the notebooks as inspiration.\n",
    "    \n",
    "Well done!\n",
    "</div>"
   ]
  },
  {
   "cell_type": "markdown",
   "id": "41df9fd5",
   "metadata": {},
   "source": [
    "<div class=\"alert alert-info\">The two analyses presented in this notebooks are inspired by the <a href=\"http://opendata.atlas.cern/release/2020/documentation/physics/intro.html\"> prompts</a> on the ATLAS Open Data website. \n",
    "- This is a great place to start for ideas for your own research!"
   ]
  }
 ],
 "metadata": {
  "kernelspec": {
   "display_name": "Python 3 (ipykernel)",
   "language": "python",
   "name": "python3"
  },
  "language_info": {
   "codemirror_mode": {
    "name": "ipython",
    "version": 3
   },
   "file_extension": ".py",
   "mimetype": "text/x-python",
   "name": "python",
   "nbconvert_exporter": "python",
   "pygments_lexer": "ipython3",
   "version": "3.7.6"
  }
 },
 "nbformat": 4,
 "nbformat_minor": 5
}
