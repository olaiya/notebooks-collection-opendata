{
 "cells": [
  {
   "cell_type": "markdown",
   "id": "95cfd97d",
   "metadata": {},
   "source": [
    "Using simulated data (MC), we can generate with computers as many events of a particular decay as we like. Looking at LHC data, only a small fraction of events decay Z bosons and even a smaller fraction still decay to the Higgs boson. So when we look at real LHC events we will see that only a small fraction produce Z bosons. Running over the data file below we see only a small fraction of events pass our conditions for 2 Z boson. "
   ]
  },
  {
   "cell_type": "code",
   "execution_count": 1,
   "id": "5bac902a",
   "metadata": {},
   "outputs": [
    {
     "name": "stdout",
     "output_type": "stream",
     "text": [
      "Iteration reached event number is 0\n",
      "Iteration reached event number is 10\n",
      "Iteration reached event number is 20\n",
      "Iteration reached event number is 30\n"
     ]
    },
    {
     "data": {
      "image/png": "[encoded data removed]",
      "text/plain": [
       "<Figure size 432x288 with 1 Axes>"
      ]
     },
     "metadata": {
      "needs_background": "light"
     },
     "output_type": "display_data"
    }
   ],
   "source": [
    "import uproot\n",
    "import numpy as np\n",
    "from TLorentzVector import TLorentzVector\n",
    "import matplotlib.pyplot as plt\n",
    "import hist\n",
    "from hist import Hist\n",
    "\n",
    "\n",
    "#Set up a counter when iteratring over events\n",
    "counter = 0\n",
    "outputEvery = 10\n",
    "\n",
    "f_4l = uproot.open(\"https://atlas-opendata.web.cern.ch/atlas-opendata/samples/2020/4lep/Data/data_A.4lep.root:mini\")\n",
    "#f_4l.show()\n",
    "\n",
    "hist_Zl4 = Hist(hist.axis.Regular(30, 40, 140, label = \"Mass (GeV)\"))\n",
    "\n",
    "firstLepton  = TLorentzVector()\n",
    "secondLepton = TLorentzVector()\n",
    "thirdLepton = TLorentzVector()\n",
    "fourthLepton = TLorentzVector()\n",
    "\n",
    "sel_events = f_4l.arrays([\"lep_pt\", \"lep_eta\", \"lep_phi\", \"lep_E\", \"lep_charge\", \"lep_type\", \"lep_n\"])\n",
    "\n",
    "for event in sel_events:\n",
    "    \n",
    "    if ((counter % outputEvery) == 0):\n",
    "        print('Iteration reached event number is {}'.format(counter))\n",
    "        \n",
    "        \n",
    "    # Cut #1: At least 4 leptons in the event. lep_n  is the number of them.\n",
    "    lep_n = event[\"lep_n\"]\n",
    "    if lep_n >= 4:\n",
    "        # Cut #2: First two leptons must have opposite charge.\n",
    "        lep_charge = event[\"lep_charge\"]\n",
    "        if (lep_charge[0] != lep_charge[1]):\n",
    "            # Cut #3: First two leptons must have same flavour\n",
    "            lep_type = event[\"lep_type\"]\n",
    "            if (lep_type[0] == lep_type[1]):\n",
    "                \n",
    "                lep_pt = event[\"lep_pt\"]\n",
    "                lep_eta = event[\"lep_eta\"]\n",
    "                lep_phi = event[\"lep_phi\"]\n",
    "                lep_E = event[\"lep_E\"]\n",
    "                \n",
    "                firstLepton.SetPtEtaPhiE(lep_pt[0]/1000., lep_eta[0], lep_phi[0], lep_E[0]/1000.)\n",
    "                secondLepton.SetPtEtaPhiE(lep_pt[1]/1000., lep_eta[1], lep_phi[1], lep_E[1]/1000.)\n",
    "                # Cut #4: Second two leptons opposite charge\n",
    "                if (lep_charge[2] != lep_charge[3]):\n",
    "                    # Cut #5:\n",
    "                    if ( lep_type[2] == lep_type[3]):\n",
    "                        \n",
    "                        thirdLepton.SetPtEtaPhiE(lep_pt[2]/1000., lep_eta[2], lep_phi[2], lep_E[2]/1000.)\n",
    "                        fourthLepton.SetPtEtaPhiE(lep_pt[3]/1000., lep_eta[3], lep_phi[3], lep_E[3]/1000.)\n",
    "                        \n",
    "                        Z0_boson1 = firstLepton + secondLepton\n",
    "                        Z0_boson2 = thirdLepton + fourthLepton\n",
    "                        \n",
    "                        hist_Zl4.fill(Z0_boson1.M())\n",
    "                        hist_Zl4.fill(Z0_boson2.M())\n",
    "                        hist_Zl4.plot(histtype = \"fill\")\n",
    "                        \n",
    "        counter+=1\n",
    "                        \n",
    "                        #plt.show()"
   ]
  },
  {
   "cell_type": "code",
   "execution_count": 2,
   "id": "310c0a7a",
   "metadata": {},
   "outputs": [
    {
     "name": "stderr",
     "output_type": "stream",
     "text": [
      "/home/olaiya/anaconda3/envs/dev/lib/python3.10/site-packages/scipy/__init__.py:146: UserWarning: A NumPy version >=1.16.5 and <1.23.0 is required for this version of SciPy (detected version 1.26.4\n",
      "  warnings.warn(f\"A NumPy version >={np_minversion} and <{np_maxversion}\"\n"
     ]
    },
    {
     "data": {
      "text/plain": [
       "[StairsArtists(stairs=<matplotlib.patches.StepPatch object at 0x7f50a42ed690>, errorbar=<ErrorbarContainer object of 3 artists>, legend_artist=<ErrorbarContainer object of 3 artists>)]"
      ]
     },
     "execution_count": 2,
     "metadata": {},
     "output_type": "execute_result"
    },
    {
     "data": {
      "image/png": "[encoded data removed]",
      "text/plain": [
       "<Figure size 432x288 with 1 Axes>"
      ]
     },
     "metadata": {
      "needs_background": "light"
     },
     "output_type": "display_data"
    }
   ],
   "source": [
    "hist_Zl4.plot()"
   ]
  },
  {
   "cell_type": "markdown",
   "id": "e683e34f",
   "metadata": {},
   "source": [
    "Running over this file works! However we see we don't have many data events. Let's run over more events!"
   ]
  },
  {
   "cell_type": "code",
   "execution_count": 3,
   "id": "96bf118f",
   "metadata": {},
   "outputs": [
    {
     "name": "stdout",
     "output_type": "stream",
     "text": [
      "Opened file https://atlas-opendata.web.cern.ch/atlas-opendata/samples/2020/4lep/Data/data_A.4lep.root:mini\n",
      "Iteration reached event number is 0\n",
      "Iteration reached event number is 10\n",
      "Iteration reached event number is 20\n",
      "Iteration reached event number is 30\n",
      "Opened file https://atlas-opendata.web.cern.ch/atlas-opendata/samples/2020/4lep/Data/data_B.4lep.root:mini\n",
      "Iteration reached event number is 40\n",
      "Iteration reached event number is 50\n",
      "Iteration reached event number is 60\n",
      "Iteration reached event number is 70\n",
      "Iteration reached event number is 80\n",
      "Iteration reached event number is 90\n",
      "Iteration reached event number is 100\n",
      "Iteration reached event number is 110\n",
      "Iteration reached event number is 120\n",
      "Iteration reached event number is 130\n",
      "Iteration reached event number is 140\n",
      "Iteration reached event number is 150\n",
      "Iteration reached event number is 160\n",
      "Iteration reached event number is 170\n",
      "Iteration reached event number is 180\n",
      "Iteration reached event number is 190\n",
      "Opened file https://atlas-opendata.web.cern.ch/atlas-opendata/samples/2020/4lep/Data/data_C.4lep.root:mini\n",
      "Iteration reached event number is 200\n",
      "Iteration reached event number is 210\n",
      "Iteration reached event number is 220\n",
      "Iteration reached event number is 230\n",
      "Iteration reached event number is 240\n",
      "Iteration reached event number is 250\n",
      "Iteration reached event number is 260\n",
      "Iteration reached event number is 270\n",
      "Iteration reached event number is 280\n",
      "Iteration reached event number is 290\n",
      "Iteration reached event number is 300\n",
      "Iteration reached event number is 310\n",
      "Iteration reached event number is 320\n",
      "Iteration reached event number is 330\n",
      "Iteration reached event number is 340\n",
      "Iteration reached event number is 350\n",
      "Iteration reached event number is 360\n",
      "Iteration reached event number is 370\n",
      "Iteration reached event number is 380\n",
      "Iteration reached event number is 390\n",
      "Iteration reached event number is 400\n",
      "Iteration reached event number is 410\n",
      "Iteration reached event number is 420\n",
      "Iteration reached event number is 430\n",
      "Opened file https://atlas-opendata.web.cern.ch/atlas-opendata/samples/2020/4lep/Data/data_D.4lep.root:mini\n",
      "Iteration reached event number is 440\n",
      "Iteration reached event number is 450\n",
      "Iteration reached event number is 460\n",
      "Iteration reached event number is 470\n",
      "Iteration reached event number is 480\n",
      "Iteration reached event number is 490\n",
      "Iteration reached event number is 500\n",
      "Iteration reached event number is 510\n",
      "Iteration reached event number is 520\n",
      "Iteration reached event number is 530\n",
      "Iteration reached event number is 540\n",
      "Iteration reached event number is 550\n",
      "Iteration reached event number is 560\n",
      "Iteration reached event number is 570\n",
      "Iteration reached event number is 580\n",
      "Iteration reached event number is 590\n",
      "Iteration reached event number is 600\n",
      "Iteration reached event number is 610\n",
      "Iteration reached event number is 620\n",
      "Iteration reached event number is 630\n",
      "Iteration reached event number is 640\n",
      "Iteration reached event number is 650\n",
      "Iteration reached event number is 660\n",
      "Iteration reached event number is 670\n",
      "Iteration reached event number is 680\n",
      "Iteration reached event number is 690\n",
      "Iteration reached event number is 700\n",
      "Iteration reached event number is 710\n",
      "Iteration reached event number is 720\n",
      "Iteration reached event number is 730\n",
      "Iteration reached event number is 740\n",
      "Iteration reached event number is 750\n",
      "Iteration reached event number is 760\n",
      "Iteration reached event number is 770\n",
      "Iteration reached event number is 780\n",
      "Iteration reached event number is 790\n",
      "Iteration reached event number is 800\n",
      "Iteration reached event number is 810\n",
      "Iteration reached event number is 820\n",
      "Iteration reached event number is 830\n"
     ]
    },
    {
     "data": {
      "image/png": "[encoded data removed]",
      "text/plain": [
       "<Figure size 432x288 with 1 Axes>"
      ]
     },
     "metadata": {
      "needs_background": "light"
     },
     "output_type": "display_data"
    }
   ],
   "source": [
    "#Declare a new histogram\n",
    "hist_Zl4_data = Hist(hist.axis.Regular(30, 40, 140, label = \"Mass (GeV)\"))\n",
    "\n",
    "#Set up a counter when iteratring over events\n",
    "counter = 0\n",
    "outputEvery = 10\n",
    "\n",
    "#List all the files we want to run over\n",
    "dataA = \"https://atlas-opendata.web.cern.ch/atlas-opendata/samples/2020/4lep/Data/data_A.4lep.root:mini\"\n",
    "dataB = \"https://atlas-opendata.web.cern.ch/atlas-opendata/samples/2020/4lep/Data/data_B.4lep.root:mini\"\n",
    "dataC = \"https://atlas-opendata.web.cern.ch/atlas-opendata/samples/2020/4lep/Data/data_C.4lep.root:mini\"\n",
    "dataD = \"https://atlas-opendata.web.cern.ch/atlas-opendata/samples/2020/4lep/Data/data_D.4lep.root:mini\"\n",
    "\n",
    "dataList = [dataA, dataB, dataC, dataD]\n",
    "\n",
    "for dataFile in dataList:\n",
    "\n",
    "    f_4l = uproot.open(dataFile)\n",
    "    print('Opened file '+dataFile)\n",
    "    \n",
    "    firstLepton  = TLorentzVector()\n",
    "    secondLepton = TLorentzVector()\n",
    "    thirdLepton = TLorentzVector()\n",
    "    fourthLepton = TLorentzVector()\n",
    "\n",
    "    sel_events = f_4l.arrays([\"lep_pt\", \"lep_eta\", \"lep_phi\", \"lep_E\", \"lep_charge\", \"lep_type\", \"lep_n\"])\n",
    "\n",
    "    for event in sel_events:\n",
    "\n",
    "        if ((counter % outputEvery) == 0):\n",
    "            print('Iteration reached event number is {}'.format(counter))\n",
    "\n",
    "\n",
    "        # Cut #1: At least 4 leptons in the event. lep_n  is the number of them.\n",
    "        lep_n = event[\"lep_n\"]\n",
    "        if lep_n >= 4:\n",
    "            # Cut #2: First two leptons must have opposite charge.\n",
    "            lep_charge = event[\"lep_charge\"]\n",
    "            if (lep_charge[0] != lep_charge[1]):\n",
    "                # Cut #3: First two leptons must have same flavour\n",
    "                lep_type = event[\"lep_type\"]\n",
    "                if (lep_type[0] == lep_type[1]):\n",
    "\n",
    "                    lep_pt = event[\"lep_pt\"]\n",
    "                    lep_eta = event[\"lep_eta\"]\n",
    "                    lep_phi = event[\"lep_phi\"]\n",
    "                    lep_E = event[\"lep_E\"]\n",
    "\n",
    "                    firstLepton.SetPtEtaPhiE(lep_pt[0]/1000., lep_eta[0], lep_phi[0], lep_E[0]/1000.)\n",
    "                    secondLepton.SetPtEtaPhiE(lep_pt[1]/1000., lep_eta[1], lep_phi[1], lep_E[1]/1000.)\n",
    "                    # Cut #4: Second two leptons opposite charge\n",
    "                    if (lep_charge[2] != lep_charge[3]):\n",
    "                        # Cut #5:\n",
    "                        if ( lep_type[2] == lep_type[3]):\n",
    "\n",
    "                            thirdLepton.SetPtEtaPhiE(lep_pt[2]/1000., lep_eta[2], lep_phi[2], lep_E[2]/1000.)\n",
    "                            fourthLepton.SetPtEtaPhiE(lep_pt[3]/1000., lep_eta[3], lep_phi[3], lep_E[3]/1000.)\n",
    "\n",
    "                            Z0_boson1 = firstLepton + secondLepton\n",
    "                            Z0_boson2 = thirdLepton + fourthLepton\n",
    "\n",
    "                            hist_Zl4_data.fill(Z0_boson1.M())\n",
    "                            hist_Zl4_data.fill(Z0_boson2.M())\n",
    "                            hist_Zl4_data.plot(histtype = \"fill\")\n",
    "\n",
    "            counter+=1\n",
    "                        \n",
    "                        #plt.show()"
   ]
  },
  {
   "cell_type": "code",
   "execution_count": 4,
   "id": "1ccaaf87",
   "metadata": {},
   "outputs": [
    {
     "data": {
      "text/plain": [
       "[StairsArtists(stairs=<matplotlib.patches.StepPatch object at 0x7f506bf6e1d0>, errorbar=<ErrorbarContainer object of 3 artists>, legend_artist=<ErrorbarContainer object of 3 artists>)]"
      ]
     },
     "execution_count": 4,
     "metadata": {},
     "output_type": "execute_result"
    },
    {
     "data": {
      "image/png": "[encoded data removed]",
      "text/plain": [
       "<Figure size 432x288 with 1 Axes>"
      ]
     },
     "metadata": {
      "needs_background": "light"
     },
     "output_type": "display_data"
    }
   ],
   "source": [
    "hist_Zl4_data.plot()"
   ]
  },
  {
   "cell_type": "markdown",
   "id": "3b1d7cb4",
   "metadata": {},
   "source": [
    "We can now see the Z peak in real data!"
   ]
  }
 ],
 "metadata": {
  "kernelspec": {
   "display_name": "Python 3 (ipykernel)",
   "language": "python",
   "name": "python3"
  },
  "language_info": {
   "codemirror_mode": {
    "name": "ipython",
    "version": 3
   },
   "file_extension": ".py",
   "mimetype": "text/x-python",
   "name": "python",
   "nbconvert_exporter": "python",
   "pygments_lexer": "ipython3",
   "version": "3.10.0"
  }
 },
 "nbformat": 4,
 "nbformat_minor": 5
}
