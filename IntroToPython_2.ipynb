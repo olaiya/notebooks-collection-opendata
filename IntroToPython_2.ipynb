{
 "cells": [
  {
   "cell_type": "markdown",
   "metadata": {},
   "source": [
    "<CENTER><img src=\"images/logos2.png\" style=\"width:50%\"></CENTER>"
   ]
  },
  {
   "cell_type": "markdown",
   "metadata": {},
   "source": [
    "# Using Python for Physics\n",
    "\n",
    "After working through the _Introduction to coding in Python_ notebook, you're up-to-speed with coding in Python.  But what good is that?  What can you do by manipulating Python objects, doing simple maths, writing functions and drawing plots?  In this notebook, we'll work through some examples and exercises that show how we can use Python to simulate physics and solve problems."
   ]
  },
  {
   "cell_type": "markdown",
   "metadata": {},
   "source": [
    "## Introduction to simulations\n",
    "\n",
    "### Constant velocity\n",
    "\n",
    "Suppose you have a cart on a frictionless track.  At time $t$ = 0 s, the cart is at position $x$ = 0 m and is moving with a constant velocity of 0.45 m/s in the $x$-direction.\n",
    "* Where is the cart at time $t$ = 1.5 s?\n",
    "* Where is the cart at $t$ = 0.25 s?\n",
    "* If the cart continues to travel for another 0.25 s beyond $t$ = 0.25 s (for a total of 0.5 s), where is it then?\n",
    "* How many steps of 0.25 s would you need to calculate in order to determine the position at 1.5 s?\n",
    "* What if you used a step-size of 0.1 s?\n",
    "\n",
    "These questions are simple enough to answer on paper.  But we will answer them by simulating the motion of the cart to showcase how a simulation might work.\n",
    "\n",
    "The simulation is based on this idea:  if you know the postion ($x$ coordinate) of an object at a particular time $t$, and you also know its velocity $v$ at that time, then you can calculate the position a small time $\\Delta t$ later according to\n",
    "\\begin{equation}\n",
    "x_{t + \\Delta t} = x_{t} + v\\Delta t.\n",
    "\\end{equation}\n",
    "\n",
    "By considering a series of steps in time and calculating the value of $x$ at each, then we can essentially 'evolve' the motion of the cart through time.  In principle, you can do this calculation for any number of steps.  But beware:  it might take a while if you choose a very large number of steps.\n",
    "\n",
    "Let's perform this simulation and plot the resulting motion."
   ]
  },
  {
   "cell_type": "code",
   "execution_count": 28,
   "metadata": {},
   "outputs": [
    {
     "name": "stdout",
     "output_type": "stream",
     "text": [
      "At time t = 1.5000000000000002 s, the cart is at x = 0.675 m\n"
     ]
    }
   ],
   "source": [
    "import matplotlib.pyplot as plt\n",
    "\n",
    "x = 0 # Initial position\n",
    "t = 0 # Initial time\n",
    "v = 0.45 # The constant velocity\n",
    "dt = 0.1 # The time-step\n",
    "\n",
    "# Lists to store the position and time coordinates\n",
    "X = [x]\n",
    "T = [t]\n",
    "\n",
    "# While t < 1.5 s, keep simulating\n",
    "while t < 1.5:\n",
    "    # Update the position\n",
    "    x = x + v * dt\n",
    "    \n",
    "    # Update the time\n",
    "    t += dt\n",
    "    \n",
    "    # Record the latest values\n",
    "    X.append(x)\n",
    "    T.append(t)\n",
    "    \n",
    "# Summarise the state of the cart at the end\n",
    "print(f'At time t = {t} s, the cart is at x = {x} m')"
   ]
  },
  {
   "cell_type": "code",
   "execution_count": 29,
   "metadata": {},
   "outputs": [
    {
     "data": {
      "image/png": "[encoded data removed]",
      "text/plain": [
       "<Figure size 432x288 with 1 Axes>"
      ]
     },
     "metadata": {
      "needs_background": "light"
     },
     "output_type": "display_data"
    }
   ],
   "source": [
    "# Plot the position as a function of time\n",
    "plt.plot(T, X, 'c-+')\n",
    "plt.title('Position vs time graph')\n",
    "plt.xlabel('Time [s]')\n",
    "plt.ylabel('Position [m]')\n",
    "plt.show()"
   ]
  },
  {
   "cell_type": "markdown",
   "metadata": {},
   "source": [
    "#### Exercise\n",
    "\n",
    "Can you modify the programme to answer the following questions?\n",
    "* Where will the cart be when $t$ = 2.2 s?\n",
    "* If the cart has a velocity of 0.62 m/s, where will it be after 2.2 s?\n",
    "* If the cart has a starting position of $x$ = -0.5 m and a velocity of 0.62 m/s, where will it be at $t$ = 2.2 s?"
   ]
  },
  {
   "cell_type": "markdown",
   "metadata": {},
   "source": [
    "### Constant acceleration\n",
    "\n",
    "A frictionless cart starts at $x$ = 0 m with a velocity of 0.45 m/s at time $t$ = 0.  If the cart has a constant acceleration of $a$ = 0.3 m/s<sup>2</sup>, where will it be after 1.5 s?\n",
    "\n",
    "Let us use the same simulation technique as we used to analyse constant velocity to answer this question.  The only difference here is that, since the cart is now accelerating, its velocity is changed at every step and must be updated accordingly.  The update formula is simply\n",
    "\\begin{equation}\n",
    "v_{t + \\Delta t} = v_{t} + a\\Delta t.\n",
    "\\end{equation}\n",
    "\n",
    "So at each time-step, we can calculate the new velocity based on the cart's acceleration, previous velocity, and the time step.  To update the position, the same update formula as before applies.  But there is a problem!  The velocity is no longer constant &mdash; it is changing under our feet.  So what should we use for the value of the velocity in the position's update formula?  If we use the velocity at the beginning of a step, then the displacement will be underestimated (because the position equation does not know that the cart is accelerating, and thereby traveling further per unit time by the end of the step).  If we use the velocity at the end, we will overestimate the displacement (because the cart at the end of a step is moving further per unit time than it did at the beginning).  We must make a choice here, and either choice incurs an _error_.  We choose to take the velocity at the end.  Therefore here is the order of calculations for each time step:\n",
    "* Use the velocity-updating formula to find the new velocity\n",
    "* Use the position update formula (with the new velocity) to find the new position\n",
    "* Update the time\n",
    "\n",
    "The code accomplishing this might look like the following."
   ]
  },
  {
   "cell_type": "code",
   "execution_count": 30,
   "metadata": {},
   "outputs": [
    {
     "name": "stdout",
     "output_type": "stream",
     "text": [
      "At time t = 1.5000000000000002 s, the cart is at x = 0.9150000000000004 m doing v = 0.7500000000000002 m/s\n"
     ]
    }
   ],
   "source": [
    "import matplotlib.pyplot as plt\n",
    "\n",
    "x = 0 # Initial position\n",
    "t = 0 # Initial time\n",
    "v = 0.45 # Initial velocity\n",
    "a = 0.2 # The constant acceleration\n",
    "dt = 0.1 # The time-step\n",
    "\n",
    "# Lists to store the position, time and velocity coordinates\n",
    "X = [x]\n",
    "T = [t]\n",
    "V = [v]\n",
    "\n",
    "# Simulate up to t = 1.5 s\n",
    "while t < 1.5:\n",
    "    v += a * dt\n",
    "    x += v * dt\n",
    "    t += dt\n",
    "    \n",
    "    # Record the latest values\n",
    "    X.append(x)\n",
    "    V.append(v)\n",
    "    T.append(t)\n",
    "    \n",
    "# Summarise the state of the cart at the end in terms of x, v, t\n",
    "print(f'At time t = {t} s, the cart is at x = {x} m doing v = {v} m/s')"
   ]
  },
  {
   "cell_type": "code",
   "execution_count": 31,
   "metadata": {},
   "outputs": [
    {
     "data": {
      "image/png": "[encoded data removed]",
      "text/plain": [
       "<Figure size 432x288 with 1 Axes>"
      ]
     },
     "metadata": {
      "needs_background": "light"
     },
     "output_type": "display_data"
    },
    {
     "data": {
      "image/png": "[encoded data removed]",
      "text/plain": [
       "<Figure size 432x288 with 1 Axes>"
      ]
     },
     "metadata": {
      "needs_background": "light"
     },
     "output_type": "display_data"
    }
   ],
   "source": [
    "plt.plot(T, X, 'c-+')\n",
    "plt.title('Position vs time graph')\n",
    "plt.xlabel('Time [s]')\n",
    "plt.ylabel('Position [m]')\n",
    "plt.show()\n",
    "\n",
    "plt.plot(T, V, 'm-+')\n",
    "plt.title('Velocity vs time graph')\n",
    "plt.xlabel('Time [s]')\n",
    "plt.ylabel('Velocity [m/s]')\n",
    "plt.show()"
   ]
  },
  {
   "cell_type": "markdown",
   "metadata": {},
   "source": [
    "#### Exercise\n",
    "\n",
    "* What happens if you set the time step to 0.2 s?\n",
    "* What happens if you set the time step to 0.01 s?\n",
    "* What if the acceleration is -0.01 m/s<sup>2</sup>?\n",
    "* If we solve on paper for the position of the cart after 1.5 s under this constant acceleration (using $x = ut + at^2/2$), we get a value of 0.9 m.  Why does this differ slightly from the one we obtained by the simulation above?  How can we get the programme to produce a value closer to the correct value of 0.9 m?\n",
    "* If the acceleration is -0.02 m/s<sup>2</sup>, how long would it take to stop?  Where would it stop?"
   ]
  },
  {
   "cell_type": "markdown",
   "metadata": {},
   "source": [
    "## Racing and speeding\n",
    "\n",
    "Car A starts at $x$ = 0.5 m with a velocity of 0.45 m/s.  Car B starts at $x$ = 0 with a velocity of 0 m/s, but has an acceleration of 0.3 m/s<sup>2</sup>.  When do cars A and B meet?  Where do they meet?  Fill in the blanks in the following programme, or write a programme from scratch, to find out."
   ]
  },
  {
   "cell_type": "code",
   "execution_count": 7,
   "metadata": {},
   "outputs": [],
   "source": [
    "# Initial coordinates of car A\n",
    "x_A = 0.5\n",
    "v_A = 0.45\n",
    "\n",
    "# Initial coordinates of car B\n",
    "x_B = 0.\n",
    "v_B = 0.\n",
    "a_B = 0.2\n",
    "\n",
    "# Common time variables\n",
    "t = 0\n",
    "dt = 0.01  #step size\n",
    "\n",
    "# Lists to store displacements\n",
    "X_A = [x_A]\n",
    "X_B = [x_B]\n",
    "T = [t]\n",
    "\n",
    "# While the cars are yet to meet\n",
    "while condition:\n",
    "    # Update variables at each time step\n",
    "    # . . .\n",
    "    \n",
    "    X_A.append(x_A)\n",
    "    X_B.append(x_B)\n",
    "    T.append(t)"
   ]
  },
  {
   "cell_type": "code",
   "execution_count": null,
   "metadata": {},
   "outputs": [],
   "source": [
    "import matplotlib.pyplot as plt\n",
    "\n",
    "plt.plot(T, X_A)\n",
    "plt.plot(T, X_B)\n",
    "plt.title('Position vs time graph')\n",
    "plt.xlabel('Time [s]')\n",
    "plt.ylabel('Position [m]')\n",
    "plt.show()"
   ]
  },
  {
   "cell_type": "markdown",
   "metadata": {},
   "source": [
    "Suppose you are a police officer in a stationary car.  Another car speeds past you at a constant speed of 40 m/s.  It takes you 3 s to pull out and then you accelerate to catch the speeder.  The police car has a constant acceleration of 6 m/s<sup>2</sup> and maximum speed of 60 m/s.  How long before you catch the car and how far have you travelled by that time?"
   ]
  },
  {
   "cell_type": "code",
   "execution_count": null,
   "metadata": {},
   "outputs": [],
   "source": [
    "# Police car variables\n",
    "x_p = 0\n",
    "v_p = 0\n",
    "v_p_max = 60\n",
    "a_p = 6\n",
    "\n",
    "# The time it takes for the police to start\n",
    "t_delay = 3\n",
    "\n",
    "# Speeder variables\n",
    "x_s = 0\n",
    "v_s = 40\n",
    "\n",
    "# Common time parameters\n",
    "t = 0\n",
    "dt = 0.1\n",
    "\n",
    "# Lists for storing displacements\n",
    "X_p = [x_p]\n",
    "X_s = [x_s]\n",
    "T = [t]\n",
    "\n",
    "# While the police car is yet to catch the speeder\n",
    "while xxxx:\n",
    "    \n",
    "    # If the police car is moving after the delay\n",
    "    if t > t_delay:\n",
    "        # Update the police car's velocity\n",
    "        # . . .\n",
    "        \n",
    "        # Check that new speed is not greater than top speed\n",
    "        if v_p > v_p_max:\n",
    "            # Limit the police car's speed to v_p_max\n",
    "            # . . .\n",
    "        \n",
    "        # Update police car position\n",
    "        # . . .\n",
    "        \n",
    "    # Update speeder position\n",
    "    # . . .\n",
    "    \n",
    "    t += dt\n",
    "    X_p.append(x_p)\n",
    "    X_s.append(x_s)\n",
    "    T.append(t)\n",
    "        \n",
    "    # Impose stopping condition\n",
    "    if xxxxx:\n",
    "        print('Police car has caught up with the speeder after')\n",
    "        print('Time:', t, 's')\n",
    "        print('Traveling:', x_p, 'm')\n",
    "        \n",
    "        # End the simulation\n",
    "        break"
   ]
  },
  {
   "cell_type": "code",
   "execution_count": 33,
   "metadata": {},
   "outputs": [
    {
     "data": {
      "image/png": "[encoded data removed]",
      "text/plain": [
       "<Figure size 432x288 with 1 Axes>"
      ]
     },
     "metadata": {
      "needs_background": "light"
     },
     "output_type": "display_data"
    }
   ],
   "source": [
    "# Plot the result\n",
    "import matplotlib.pyplot as plt\n",
    "\n",
    "plt.title('Position vs time graph')\n",
    "plt.xlabel('Time [s]')\n",
    "plt.ylabel('Position [m]')\n",
    "plt.plot(T, X_p, label='Police')\n",
    "plt.plot(T, X_s, label='Speeder')\n",
    "plt.plot(t, x_p, 'y*', markersize=16, label='Intersection')\n",
    "plt.legend()\n",
    "plt.show()"
   ]
  },
  {
   "cell_type": "markdown",
   "metadata": {},
   "source": [
    "## Exercise:  Projectile Motion\n",
    "\n",
    "Now we have mastered motion in one dimension, let us progress to two.  Suppose an object is launched with an initial velocity $v_0$ at an angle $\\theta$ above the horizontal as shown in [Figure 1](#projectile_motion).  Due to gravity, the projectile experiences constant acceleration downward but none in the horizontal direction.  Therefore, we can separate its horizontal and vertical components of velocity into $v_x = v \\cos{\\theta}$ and $v_y = v \\sin{\\theta}$, respectively.  (Take the trigonometric functions $\\sin$ and $\\cos$ from the numpy library by doing `from numpy import sin, cos`.)\n",
    "\n",
    "Write a programme to find the $x$ distance travelled by a 10 kg projectile fired at 15 m/s at 45$^\\circ$ above the horizontal from a point 2 m above the ground.  This recipe might help:\n",
    "* Set the initial conditons of the projectile\n",
    "* Make a loop over time steps\n",
    "* In the loop, update the velocity of the projectile (only its $y$-coordinate changes)\n",
    "* Update the $(x, y)$-position of the ball\n",
    "* Update the time\n",
    "\n",
    "\n",
    "<figure id=\"projectile_motion\">\n",
    "    <center>\n",
    "        <img src=\"images/projectile_motion.png\" alt=\"Projectile motion\" width=\"600px\">\n",
    "        <figcaption>Figure 1: Diagram of the projectile motion problem.</figcaption>\n",
    "    </center>\n",
    "</figure>\n",
    "\n",
    "\n",
    "#### Follow-up question\n",
    "What initial angle, $\\theta$, gives the largest displacement when the projectile is not fired from ground level?"
   ]
  },
  {
   "cell_type": "markdown",
   "metadata": {},
   "source": [
    "## Exercise:  Falling with Air Resistance\n",
    "\n",
    "We now know enough about programming in Python to solve problems that would be very difficult without it.  Imagine a cannonball falling straight down from a great height.  The resultant force in the downward direction is $F = mg - Cv^2$, where $C$ is a constant that depends on the aerodynamic properties of the ball, the ball's surface area, and the density of air.  The force acting on the ball here depends on the ball's velocity!\n",
    "\n",
    "1.  A 20 kg cannonball is dropped from a height of 100 m.  It has a terminal velocity of 100 m/s.  Write a programme to calculate the time taken for the ball to hit the ground.  You will have to calculate $C$ first.\n",
    "2.  The same cannonball is now fired at 700 m/s at 45$^\\circ$ aboe the horizontal.  Calculate the difference in distance travelled when you include air resistance.\n",
    "    Here, you must account for the changing direction of the air resistance.  Because the air resistance always works against the direction of travel, there is a trick:  write the force due to air resistance as $\\vec{F} = -Cv\\vec{v}$."
   ]
  },
  {
   "cell_type": "markdown",
   "metadata": {},
   "source": [
    "## Exercise:  Mass on a Spring\n",
    "\n",
    "* A ball with a mass of 0.1 kg is connected to a spring.\n",
    "* The spring has a spring constant $k$ of 10 N/m.\n",
    "* The force on the ball is $F = -kx$, where $x$ is the displacement from equilibrium of the ball.\n",
    "* The ball starts at rest at $x$ = 0.1 m.\n",
    "\n",
    "Simulate this system and plot the position of the ball as a function of time!  The exact solution is\n",
    "\\begin{equation}\n",
    "    x = x_0 \\cos{\\omega t},\n",
    "\\end{equation}\n",
    "where $\\omega = \\sqrt{k / m}$.  Describe any discrepancies that you find between your results and this description.  What causes them?  Are they physical?\n",
    "\n",
    "#### Conservation of energy check...\n",
    "\n",
    "The total energy of this system must be constant!  In terms of the kinetic and potential parts, it may be expressed as\n",
    "\\begin{equation}\n",
    "    E = \\frac{1}{2}m v^2 + \\frac{1}{2}k x^2.\n",
    "\\end{equation}\n",
    "By checking if this quantity indeed remains constant over various timescales of the simulation, we can evaluate one aspect of the performance of our programme.  Investigate the impact of updating position before velocity in the simulation.  Look over a single time-step and see if the total energy remains constant in both cases.\n",
    "\n",
    "### Variations on the theme\n",
    "\n",
    "**Vertical spring.**  Repeat this exercise with a spring oriented vertically instead of horizontally, such that the mass feels the force of gravity in addition to the force of the spring.  Do this for a number of initial positions.\n",
    "\n",
    "**With damping.**  In the case where the spring lies horizontally, consider adding a damping term to the force such that the total force becomes $\\vec{F} = -k\\vec{x} - C\\vec{v}$.  Experiment with what happens for different values of $C$.\n",
    "\n",
    "**With a driving force.**  Finally, consider adding a driving force of the form $F = A_0 \\sin{\\omega_0 t}$.  See what happens as the frequency $\\omega_0$ varies."
   ]
  }
 ],
 "metadata": {
  "kernelspec": {
   "display_name": "Python 3",
   "language": "python",
   "name": "python3"
  },
  "language_info": {
   "codemirror_mode": {
    "name": "ipython",
    "version": 3
   },
   "file_extension": ".py",
   "mimetype": "text/x-python",
   "name": "python",
   "nbconvert_exporter": "python",
   "pygments_lexer": "ipython3",
   "version": "3.6.8"
  }
 },
 "nbformat": 4,
 "nbformat_minor": 4
}
